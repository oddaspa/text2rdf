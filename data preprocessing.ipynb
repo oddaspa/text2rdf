{
 "cells": [
  {
   "cell_type": "code",
   "execution_count": 1,
   "metadata": {},
   "outputs": [],
   "source": [
    "import pandas as pd\n",
    "import numpy as np\n",
    "from glob import glob"
   ]
  },
  {
   "cell_type": "markdown",
   "metadata": {},
   "source": [
    "# LIAR DATASET"
   ]
  },
  {
   "cell_type": "code",
   "execution_count": 98,
   "metadata": {},
   "outputs": [],
   "source": [
    "def load_csv(part):\n",
    "    columns = [\"id\", \"label\", \"text\", \"subject\", \"speaker\", \"job\", \"state\", \"party\", \"int0\", \"int1\", \"int2\", \"int3\", \"int4\", \"context\"]\n",
    "    return pd.read_csv(\"./liar_dataset/\" + part + \".tsv\", sep=\"\\t\", names=columns)"
   ]
  },
  {
   "cell_type": "code",
   "execution_count": 44,
   "metadata": {},
   "outputs": [],
   "source": [
    "test = load_csv(\"test\")"
   ]
  },
  {
   "cell_type": "code",
   "execution_count": 45,
   "metadata": {},
   "outputs": [],
   "source": [
    "def sort_label(label):\n",
    "    if label in [\"pants-fire\", \"false\", \"barely-true\"]:\n",
    "        return \"false\"\n",
    "    else:\n",
    "        return \"true\"\n",
    "    \n",
    "def clean_df(df):\n",
    "    # 6 labels pants-fire, false, barely-true, half-true, mostly-true, true\n",
    "    df[\"label\"] = df[\"label\"].apply(lambda label: sort_label(label))\n",
    "    \n",
    "    # per https://arxiv.org/pdf/1905.04749.pdf they only use text and label\n",
    "    filtered_df=df.loc[:, [\"id\", \"label\", \"text\"]]\n",
    "    \n",
    "    return filtered_df"
   ]
  },
  {
   "cell_type": "code",
   "execution_count": 46,
   "metadata": {},
   "outputs": [
    {
     "data": {
      "text/html": [
       "<div>\n",
       "<style scoped>\n",
       "    .dataframe tbody tr th:only-of-type {\n",
       "        vertical-align: middle;\n",
       "    }\n",
       "\n",
       "    .dataframe tbody tr th {\n",
       "        vertical-align: top;\n",
       "    }\n",
       "\n",
       "    .dataframe thead th {\n",
       "        text-align: right;\n",
       "    }\n",
       "</style>\n",
       "<table border=\"1\" class=\"dataframe\">\n",
       "  <thead>\n",
       "    <tr style=\"text-align: right;\">\n",
       "      <th></th>\n",
       "      <th>id</th>\n",
       "      <th>label</th>\n",
       "      <th>text</th>\n",
       "    </tr>\n",
       "  </thead>\n",
       "  <tbody>\n",
       "    <tr>\n",
       "      <th>0</th>\n",
       "      <td>11972.json</td>\n",
       "      <td>true</td>\n",
       "      <td>Building a wall on the U.S.-Mexico border will...</td>\n",
       "    </tr>\n",
       "    <tr>\n",
       "      <th>1</th>\n",
       "      <td>11685.json</td>\n",
       "      <td>false</td>\n",
       "      <td>Wisconsin is on pace to double the number of l...</td>\n",
       "    </tr>\n",
       "    <tr>\n",
       "      <th>2</th>\n",
       "      <td>11096.json</td>\n",
       "      <td>false</td>\n",
       "      <td>Says John McCain has done nothing to help the ...</td>\n",
       "    </tr>\n",
       "    <tr>\n",
       "      <th>3</th>\n",
       "      <td>5209.json</td>\n",
       "      <td>true</td>\n",
       "      <td>Suzanne Bonamici supports a plan that will cut...</td>\n",
       "    </tr>\n",
       "    <tr>\n",
       "      <th>4</th>\n",
       "      <td>9524.json</td>\n",
       "      <td>false</td>\n",
       "      <td>When asked by a reporter whether hes at the ce...</td>\n",
       "    </tr>\n",
       "    <tr>\n",
       "      <th>...</th>\n",
       "      <td>...</td>\n",
       "      <td>...</td>\n",
       "      <td>...</td>\n",
       "    </tr>\n",
       "    <tr>\n",
       "      <th>1262</th>\n",
       "      <td>7334.json</td>\n",
       "      <td>true</td>\n",
       "      <td>Says his budget provides the highest state fun...</td>\n",
       "    </tr>\n",
       "    <tr>\n",
       "      <th>1263</th>\n",
       "      <td>9788.json</td>\n",
       "      <td>false</td>\n",
       "      <td>Ive been here almost every day.</td>\n",
       "    </tr>\n",
       "    <tr>\n",
       "      <th>1264</th>\n",
       "      <td>10710.json</td>\n",
       "      <td>false</td>\n",
       "      <td>In the early 1980s, Sen. Edward Kennedy secret...</td>\n",
       "    </tr>\n",
       "    <tr>\n",
       "      <th>1265</th>\n",
       "      <td>3186.json</td>\n",
       "      <td>false</td>\n",
       "      <td>Says an EPA permit languished under Strickland...</td>\n",
       "    </tr>\n",
       "    <tr>\n",
       "      <th>1266</th>\n",
       "      <td>6743.json</td>\n",
       "      <td>false</td>\n",
       "      <td>Says the governor is going around the state ta...</td>\n",
       "    </tr>\n",
       "  </tbody>\n",
       "</table>\n",
       "<p>1267 rows × 3 columns</p>\n",
       "</div>"
      ],
      "text/plain": [
       "              id  label                                               text\n",
       "0     11972.json   true  Building a wall on the U.S.-Mexico border will...\n",
       "1     11685.json  false  Wisconsin is on pace to double the number of l...\n",
       "2     11096.json  false  Says John McCain has done nothing to help the ...\n",
       "3      5209.json   true  Suzanne Bonamici supports a plan that will cut...\n",
       "4      9524.json  false  When asked by a reporter whether hes at the ce...\n",
       "...          ...    ...                                                ...\n",
       "1262   7334.json   true  Says his budget provides the highest state fun...\n",
       "1263   9788.json  false                    Ive been here almost every day.\n",
       "1264  10710.json  false  In the early 1980s, Sen. Edward Kennedy secret...\n",
       "1265   3186.json  false  Says an EPA permit languished under Strickland...\n",
       "1266   6743.json  false  Says the governor is going around the state ta...\n",
       "\n",
       "[1267 rows x 3 columns]"
      ]
     },
     "execution_count": 46,
     "metadata": {},
     "output_type": "execute_result"
    }
   ],
   "source": [
    "clean_df(test)"
   ]
  },
  {
   "cell_type": "code",
   "execution_count": 40,
   "metadata": {},
   "outputs": [],
   "source": [
    "for part in [\"train\", \"test\", \"valid\"]:\n",
    "    df = load_csv(part)\n",
    "    df = clean_df(df)\n",
    "    df.to_csv(\"./liar_dataset/clean_\" + part + \".csv\")"
   ]
  },
  {
   "cell_type": "markdown",
   "metadata": {},
   "source": [
    "## Post processing\n",
    "Clean output from triple extractor"
   ]
  },
  {
   "cell_type": "code",
   "execution_count": 8,
   "metadata": {},
   "outputs": [],
   "source": [
    "def bug_clean(df):\n",
    "    condition = np.logical_and(df.triple.notna(), df.text.isna())\n",
    "    indxs = df[condition][\"Unnamed: 0\"].values\n",
    "    triples = df[condition][\"triple\"].values\n",
    "    df.loc[indxs, \"triple\"] = triples\n",
    "    df.drop(df.index[condition], inplace=True)\n",
    "    return df"
   ]
  },
  {
   "cell_type": "code",
   "execution_count": 332,
   "metadata": {},
   "outputs": [],
   "source": [
    "paths = glob(\"./liar_dataset_triples/*\")"
   ]
  },
  {
   "cell_type": "code",
   "execution_count": 333,
   "metadata": {},
   "outputs": [],
   "source": [
    "main_df = pd.DataFrame()\n",
    "for path in paths:\n",
    "    if not path.__contains__(\"train\"):\n",
    "        continue\n",
    "    curr_df = pd.read_csv(path)\n",
    "    curr_df = bug_clean(curr_df)\n",
    "    main_df = pd.concat([main_df, curr_df])"
   ]
  },
  {
   "cell_type": "code",
   "execution_count": 334,
   "metadata": {},
   "outputs": [],
   "source": [
    "main_df = main_df.drop(columns=list(set(main_df.columns.values) ^ set([\"id\", \"label\", \"text\", \"triple\"]))).drop_duplicates()"
   ]
  },
  {
   "cell_type": "code",
   "execution_count": 335,
   "metadata": {},
   "outputs": [],
   "source": [
    "main_df.to_csv(\"./liar_dataset_triples/main_train_clean_triples.csv\")"
   ]
  },
  {
   "cell_type": "code",
   "execution_count": 4,
   "metadata": {},
   "outputs": [],
   "source": [
    "def percent_triples(df):\n",
    "    return 1 - sum(df.triple.isna()) / df.shape[0]\n",
    "\n",
    "def avg_word_count(df):\n",
    "    tot = 0\n",
    "    for sent in df.text.values:\n",
    "        tot += len(sent.split(\" \"))\n",
    "    return tot / df.shape[0]"
   ]
  },
  {
   "cell_type": "code",
   "execution_count": 5,
   "metadata": {},
   "outputs": [],
   "source": [
    "paths = glob(\"./liar_dataset_triples/*\")"
   ]
  },
  {
   "cell_type": "code",
   "execution_count": 6,
   "metadata": {},
   "outputs": [],
   "source": [
    "drops = []\n",
    "for indx, path in enumerate(paths):\n",
    "    if path.__contains__(\"clean_train_triple\"):\n",
    "        drops.append(indx)\n",
    "paths = np.delete(paths, drops)"
   ]
  },
  {
   "cell_type": "code",
   "execution_count": 9,
   "metadata": {},
   "outputs": [
    {
     "name": "stdout",
     "output_type": "stream",
     "text": [
      "dataset: test. avg sent length: 18.24 words. percent triples: 11.68%.\n",
      "dataset: valid. avg sent length: 17.93 words. percent triples: 11.06%.\n",
      "dataset: train. avg sent length: 17.97 words. percent triples: 3.39%.\n"
     ]
    }
   ],
   "source": [
    "for path in paths:\n",
    "    name = \"train\"\n",
    "    if path.__contains__(\"test\"):\n",
    "        name = \"test\"\n",
    "    if path.__contains__(\"valid\"):\n",
    "        name = \"valid\"\n",
    "    df = pd.read_csv(path)    \n",
    "    df = bug_clean(df)\n",
    "    p_triples = percent_triples(df)\n",
    "    sent_size = avg_word_count(df)\n",
    "    print(f\"dataset: {name}. avg sent length: {sent_size:.2f} words. percent triples: {p_triples*100:.2f}%.\")"
   ]
  },
  {
   "cell_type": "code",
   "execution_count": 10,
   "metadata": {},
   "outputs": [
    {
     "data": {
      "text/html": [
       "<div>\n",
       "<style scoped>\n",
       "    .dataframe tbody tr th:only-of-type {\n",
       "        vertical-align: middle;\n",
       "    }\n",
       "\n",
       "    .dataframe tbody tr th {\n",
       "        vertical-align: top;\n",
       "    }\n",
       "\n",
       "    .dataframe thead th {\n",
       "        text-align: right;\n",
       "    }\n",
       "</style>\n",
       "<table border=\"1\" class=\"dataframe\">\n",
       "  <thead>\n",
       "    <tr style=\"text-align: right;\">\n",
       "      <th></th>\n",
       "      <th>Unnamed: 0</th>\n",
       "      <th>id</th>\n",
       "      <th>label</th>\n",
       "      <th>text</th>\n",
       "      <th>triple</th>\n",
       "    </tr>\n",
       "  </thead>\n",
       "  <tbody>\n",
       "    <tr>\n",
       "      <th>0</th>\n",
       "      <td>0</td>\n",
       "      <td>2635.json</td>\n",
       "      <td>False</td>\n",
       "      <td>Says the Annies List political group supports ...</td>\n",
       "      <td>NaN</td>\n",
       "    </tr>\n",
       "    <tr>\n",
       "      <th>1</th>\n",
       "      <td>1</td>\n",
       "      <td>10540.json</td>\n",
       "      <td>True</td>\n",
       "      <td>When did the decline of coal start? It started...</td>\n",
       "      <td>NaN</td>\n",
       "    </tr>\n",
       "    <tr>\n",
       "      <th>2</th>\n",
       "      <td>2</td>\n",
       "      <td>324.json</td>\n",
       "      <td>True</td>\n",
       "      <td>Hillary Clinton agrees with John McCain by vot...</td>\n",
       "      <td>NaN</td>\n",
       "    </tr>\n",
       "    <tr>\n",
       "      <th>3</th>\n",
       "      <td>3</td>\n",
       "      <td>1123.json</td>\n",
       "      <td>False</td>\n",
       "      <td>Health care reform legislation is likely to ma...</td>\n",
       "      <td>NaN</td>\n",
       "    </tr>\n",
       "    <tr>\n",
       "      <th>4</th>\n",
       "      <td>4</td>\n",
       "      <td>9028.json</td>\n",
       "      <td>True</td>\n",
       "      <td>The economic turnaround started at the end of ...</td>\n",
       "      <td>NaN</td>\n",
       "    </tr>\n",
       "    <tr>\n",
       "      <th>...</th>\n",
       "      <td>...</td>\n",
       "      <td>...</td>\n",
       "      <td>...</td>\n",
       "      <td>...</td>\n",
       "      <td>...</td>\n",
       "    </tr>\n",
       "    <tr>\n",
       "      <th>10234</th>\n",
       "      <td>2434</td>\n",
       "      <td>1592.json</td>\n",
       "      <td>True</td>\n",
       "      <td>Under the ruling of the Supreme Court, any lob...</td>\n",
       "      <td>NaN</td>\n",
       "    </tr>\n",
       "    <tr>\n",
       "      <th>10235</th>\n",
       "      <td>2435</td>\n",
       "      <td>5473.json</td>\n",
       "      <td>True</td>\n",
       "      <td>There are a larger number of shark attacks in ...</td>\n",
       "      <td>NaN</td>\n",
       "    </tr>\n",
       "    <tr>\n",
       "      <th>10236</th>\n",
       "      <td>2436</td>\n",
       "      <td>3408.json</td>\n",
       "      <td>True</td>\n",
       "      <td>Democrats have now become the party of the Atl...</td>\n",
       "      <td>NaN</td>\n",
       "    </tr>\n",
       "    <tr>\n",
       "      <th>10237</th>\n",
       "      <td>2437</td>\n",
       "      <td>3959.json</td>\n",
       "      <td>True</td>\n",
       "      <td>Says an alternative to Social Security that op...</td>\n",
       "      <td>[['County', 'location/hud_county_place/county'...</td>\n",
       "    </tr>\n",
       "    <tr>\n",
       "      <th>10238</th>\n",
       "      <td>2438</td>\n",
       "      <td>2253.json</td>\n",
       "      <td>False</td>\n",
       "      <td>On lifting the U.S. Cuban embargo and allowing...</td>\n",
       "      <td>NaN</td>\n",
       "    </tr>\n",
       "  </tbody>\n",
       "</table>\n",
       "<p>10239 rows × 5 columns</p>\n",
       "</div>"
      ],
      "text/plain": [
       "       Unnamed: 0          id  label  \\\n",
       "0               0   2635.json  False   \n",
       "1               1  10540.json   True   \n",
       "2               2    324.json   True   \n",
       "3               3   1123.json  False   \n",
       "4               4   9028.json   True   \n",
       "...           ...         ...    ...   \n",
       "10234        2434   1592.json   True   \n",
       "10235        2435   5473.json   True   \n",
       "10236        2436   3408.json   True   \n",
       "10237        2437   3959.json   True   \n",
       "10238        2438   2253.json  False   \n",
       "\n",
       "                                                    text  \\\n",
       "0      Says the Annies List political group supports ...   \n",
       "1      When did the decline of coal start? It started...   \n",
       "2      Hillary Clinton agrees with John McCain by vot...   \n",
       "3      Health care reform legislation is likely to ma...   \n",
       "4      The economic turnaround started at the end of ...   \n",
       "...                                                  ...   \n",
       "10234  Under the ruling of the Supreme Court, any lob...   \n",
       "10235  There are a larger number of shark attacks in ...   \n",
       "10236  Democrats have now become the party of the Atl...   \n",
       "10237  Says an alternative to Social Security that op...   \n",
       "10238  On lifting the U.S. Cuban embargo and allowing...   \n",
       "\n",
       "                                                  triple  \n",
       "0                                                    NaN  \n",
       "1                                                    NaN  \n",
       "2                                                    NaN  \n",
       "3                                                    NaN  \n",
       "4                                                    NaN  \n",
       "...                                                  ...  \n",
       "10234                                                NaN  \n",
       "10235                                                NaN  \n",
       "10236                                                NaN  \n",
       "10237  [['County', 'location/hud_county_place/county'...  \n",
       "10238                                                NaN  \n",
       "\n",
       "[10239 rows x 5 columns]"
      ]
     },
     "execution_count": 10,
     "metadata": {},
     "output_type": "execute_result"
    }
   ],
   "source": [
    "df"
   ]
  },
  {
   "cell_type": "code",
   "execution_count": 137,
   "metadata": {},
   "outputs": [],
   "source": [
    "import requests \n",
    "import urllib\n",
    "from bs4 import BeautifulSoup\n",
    "\n",
    "# desktop user-agent\n",
    "USER_AGENT = \"Mozilla/5.0 (Macintosh; Intel Mac OS X 10.14; rv:65.0) Gecko/20100101 Firefox/65.0\"\n",
    "# mobile user-agent\n",
    "MOBILE_USER_AGENT = \"Mozilla/5.0 (Linux; Android 7.0; SM-G930V Build/NRD90M) AppleWebKit/537.36 (KHTML, like Gecko) Chrome/59.0.3071.125 Mobile Safari/537.36\"\n",
    "\n",
    "def google(query):\n",
    "    query = query.replace(' ', '+')\n",
    "    URL = f\"https://google.com/search?q={query}\"\n",
    "    \n",
    "    headers = {\"user-agent\" : USER_AGENT}\n",
    "    resp = requests.get(URL, headers=headers)\n",
    "    \n",
    "    if resp.status_code == 200:\n",
    "        soup = BeautifulSoup(resp.content, \"html.parser\")\n",
    "        for g in soup.find_all(\"div\", {\"class\": \"g\"}):\n",
    "            titles = g.find_all(\"h3\")\n",
    "            if titles:\n",
    "                text = titles[0].text\n",
    "                if \"Wikipedia\" in text:\n",
    "                    return text[:-12]\n",
    "    return str(resp.status_code)"
   ]
  },
  {
   "cell_type": "code",
   "execution_count": 136,
   "metadata": {},
   "outputs": [
    {
     "name": "stdout",
     "output_type": "stream",
     "text": [
      "<Response [429]>\n"
     ]
    }
   ],
   "source": [
    "query = \"Obama\"\n",
    "query = query.replace(' ', '+')\n",
    "URL = f\"https://google.com/search?q={query}\"\n",
    "\n",
    "headers = {\"user-agent\" : USER_AGENT}\n",
    "resp = requests.get(URL, headers=headers)\n",
    "\n",
    "if resp.status_code == 200:\n",
    "    soup = BeautifulSoup(resp.content, \"html.parser\")\n",
    "    for g in soup.find_all(\"div\", {\"class\": \"g\"}):\n",
    "        titles = g.find_all(\"h3\")\n",
    "        if titles:\n",
    "            text = titles[0].text\n",
    "            if \"Wikipedia\" in text:\n",
    "                 print(text[:-12])\n",
    "else:\n",
    "    print(resp)"
   ]
  },
  {
   "cell_type": "code",
   "execution_count": 138,
   "metadata": {},
   "outputs": [
    {
     "data": {
      "text/plain": [
       "'429'"
      ]
     },
     "execution_count": 138,
     "metadata": {},
     "output_type": "execute_result"
    }
   ],
   "source": [
    "google(\"obama\")"
   ]
  },
  {
   "cell_type": "code",
   "execution_count": 6,
   "metadata": {},
   "outputs": [],
   "source": [
    "#!pip install sparqlwrapper\n",
    "# https://rdflib.github.io/sparqlwrapper/"
   ]
  },
  {
   "cell_type": "code",
   "execution_count": 7,
   "metadata": {},
   "outputs": [],
   "source": [
    "import sys\n",
    "from SPARQLWrapper import SPARQLWrapper, JSON\n",
    "\n",
    "def get_results(endpoint_url, query):\n",
    "    user_agent = \"WDQS-example Python/%s.%s\" % (sys.version_info[0], sys.version_info[1])\n",
    "    sparql = SPARQLWrapper(endpoint_url, agent=user_agent)\n",
    "    sparql.setQuery(query)\n",
    "    sparql.setReturnFormat(JSON)\n",
    "    return sparql.query().convert()\n",
    "\n",
    "\n",
    "def fb_to_common(freebase_id):\n",
    "    endpoint_url = \"https://query.wikidata.org/sparql\"\n",
    "\n",
    "    query = \\\n",
    "    '''SELECT ?sLabel WHERE { \n",
    "        ?s wdt:P646 \"''' + freebase_id + '''\".\n",
    "        SERVICE wikibase:label { bd:serviceParam wikibase:language \"en\". }\n",
    "    }\n",
    "    LIMIT 1'''\n",
    "    res = get_results(endpoint_url, query)\n",
    "    try:\n",
    "        res = res['results']['bindings'][0]['sLabel']['value']\n",
    "        return res\n",
    "    except:\n",
    "        return \"No result\"\n",
    "\n",
    "def common_to_fb(common_name):\n",
    "    endpoint_url = \"https://query.wikidata.org/sparql\"\n",
    "\n",
    "    query = '''\n",
    "    SELECT ?fbid WHERE { \n",
    "        ?s wdt:P373 \"''' + common_name + '''\".\n",
    "    OPTIONAL {\n",
    "        ?s wdt:P646 ?fbid .\n",
    "        }\n",
    "    SERVICE wikibase:label { bd:serviceParam wikibase:language \"en\". }\n",
    "    }\n",
    "    LIMIT 1'''\n",
    "    res = get_results(endpoint_url, query)\n",
    "    try:\n",
    "        res = res['results']['bindings'][0]['fbid']['value']\n",
    "        return res\n",
    "    except:\n",
    "        return common_name + \"-1\""
   ]
  },
  {
   "cell_type": "code",
   "execution_count": 118,
   "metadata": {},
   "outputs": [],
   "source": [
    "train = pd.read_csv(\"./liar_dataset_triples/train.csv\", index_col=0)\n",
    "valid = pd.read_csv(\"./liar_dataset_triples/valid.csv\", index_col=0)\n",
    "test = pd.read_csv(\"./liar_dataset_triples/test.csv\", index_col=0)"
   ]
  },
  {
   "cell_type": "code",
   "execution_count": 123,
   "metadata": {},
   "outputs": [],
   "source": [
    "from tqdm.notebook import tqdm\n",
    "\n",
    "def google_triples(df):\n",
    "    # clean df\n",
    "    df = df.dropna()\n",
    "    df.drop_duplicates(inplace=True)\n",
    "    df.triple = df.triple.apply(lambda x: eval(x))\n",
    "    df = df.reset_index()\n",
    "    # iterate list of list \n",
    "    for i, trip_list in enumerate(tqdm(df.triple.values)):\n",
    "        fb_triples = []\n",
    "        for trip in trip_list:\n",
    "            h, r, t = trip\n",
    "            h = google(h)\n",
    "            t = google(t)\n",
    "            fb_triples.append([h,r,t])\n",
    "        df.at[i, 'triple'] = fb_triples\n",
    "    return df"
   ]
  },
  {
   "cell_type": "code",
   "execution_count": 125,
   "metadata": {},
   "outputs": [
    {
     "data": {
      "text/html": [
       "<div>\n",
       "<style scoped>\n",
       "    .dataframe tbody tr th:only-of-type {\n",
       "        vertical-align: middle;\n",
       "    }\n",
       "\n",
       "    .dataframe tbody tr th {\n",
       "        vertical-align: top;\n",
       "    }\n",
       "\n",
       "    .dataframe thead th {\n",
       "        text-align: right;\n",
       "    }\n",
       "</style>\n",
       "<table border=\"1\" class=\"dataframe\">\n",
       "  <thead>\n",
       "    <tr style=\"text-align: right;\">\n",
       "      <th></th>\n",
       "      <th>index</th>\n",
       "      <th>id</th>\n",
       "      <th>label</th>\n",
       "      <th>text</th>\n",
       "      <th>triple</th>\n",
       "    </tr>\n",
       "  </thead>\n",
       "  <tbody>\n",
       "    <tr>\n",
       "      <th>0</th>\n",
       "      <td>491</td>\n",
       "      <td>6873.json</td>\n",
       "      <td>False</td>\n",
       "      <td>This is what President Obama said the jobless ...</td>\n",
       "      <td>[[No result, people/person/employment_history....</td>\n",
       "    </tr>\n",
       "    <tr>\n",
       "      <th>1</th>\n",
       "      <td>493</td>\n",
       "      <td>7976.json</td>\n",
       "      <td>True</td>\n",
       "      <td>Says President Obama has cracked down on emplo...</td>\n",
       "      <td>[[No result, people/person/employment_history....</td>\n",
       "    </tr>\n",
       "    <tr>\n",
       "      <th>2</th>\n",
       "      <td>503</td>\n",
       "      <td>2354.json</td>\n",
       "      <td>True</td>\n",
       "      <td>Says State Rep. Kristi Thibaut was an ACORN lo...</td>\n",
       "      <td>[[No result, organization/role/leaders./organi...</td>\n",
       "    </tr>\n",
       "    <tr>\n",
       "      <th>3</th>\n",
       "      <td>2484</td>\n",
       "      <td>980.json</td>\n",
       "      <td>False</td>\n",
       "      <td>Secretary Geithner has left the option on the ...</td>\n",
       "      <td>[[No result, people/person/employment_history....</td>\n",
       "    </tr>\n",
       "    <tr>\n",
       "      <th>4</th>\n",
       "      <td>2486</td>\n",
       "      <td>6457.json</td>\n",
       "      <td>False</td>\n",
       "      <td>Says U.S. Rep. Martin Heinrich spent a trillio...</td>\n",
       "      <td>[[No result, people/person/employment_history....</td>\n",
       "    </tr>\n",
       "    <tr>\n",
       "      <th>...</th>\n",
       "      <td>...</td>\n",
       "      <td>...</td>\n",
       "      <td>...</td>\n",
       "      <td>...</td>\n",
       "      <td>...</td>\n",
       "    </tr>\n",
       "    <tr>\n",
       "      <th>342</th>\n",
       "      <td>2411</td>\n",
       "      <td>1550.json</td>\n",
       "      <td>True</td>\n",
       "      <td>Debt has almost doubled in Austin under Gov. P...</td>\n",
       "      <td>[[No result, people/person/employment_history....</td>\n",
       "    </tr>\n",
       "    <tr>\n",
       "      <th>343</th>\n",
       "      <td>2419</td>\n",
       "      <td>6032.json</td>\n",
       "      <td>True</td>\n",
       "      <td>Georgia Public Service Commission member Stan ...</td>\n",
       "      <td>[[No result, organization/role/leaders./organi...</td>\n",
       "    </tr>\n",
       "    <tr>\n",
       "      <th>344</th>\n",
       "      <td>2423</td>\n",
       "      <td>3744.json</td>\n",
       "      <td>True</td>\n",
       "      <td>Says Rick Perry turned down our invitation to ...</td>\n",
       "      <td>[[No result, people/person/employment_history....</td>\n",
       "    </tr>\n",
       "    <tr>\n",
       "      <th>345</th>\n",
       "      <td>2433</td>\n",
       "      <td>4388.json</td>\n",
       "      <td>False</td>\n",
       "      <td>Mayor Fung wants to punish our childrens educa...</td>\n",
       "      <td>[[No result, people/person/employment_history....</td>\n",
       "    </tr>\n",
       "    <tr>\n",
       "      <th>346</th>\n",
       "      <td>2437</td>\n",
       "      <td>3959.json</td>\n",
       "      <td>True</td>\n",
       "      <td>Says an alternative to Social Security that op...</td>\n",
       "      <td>[[No result, location/hud_county_place/county,...</td>\n",
       "    </tr>\n",
       "  </tbody>\n",
       "</table>\n",
       "<p>347 rows × 5 columns</p>\n",
       "</div>"
      ],
      "text/plain": [
       "     index         id  label  \\\n",
       "0      491  6873.json  False   \n",
       "1      493  7976.json   True   \n",
       "2      503  2354.json   True   \n",
       "3     2484   980.json  False   \n",
       "4     2486  6457.json  False   \n",
       "..     ...        ...    ...   \n",
       "342   2411  1550.json   True   \n",
       "343   2419  6032.json   True   \n",
       "344   2423  3744.json   True   \n",
       "345   2433  4388.json  False   \n",
       "346   2437  3959.json   True   \n",
       "\n",
       "                                                  text  \\\n",
       "0    This is what President Obama said the jobless ...   \n",
       "1    Says President Obama has cracked down on emplo...   \n",
       "2    Says State Rep. Kristi Thibaut was an ACORN lo...   \n",
       "3    Secretary Geithner has left the option on the ...   \n",
       "4    Says U.S. Rep. Martin Heinrich spent a trillio...   \n",
       "..                                                 ...   \n",
       "342  Debt has almost doubled in Austin under Gov. P...   \n",
       "343  Georgia Public Service Commission member Stan ...   \n",
       "344  Says Rick Perry turned down our invitation to ...   \n",
       "345  Mayor Fung wants to punish our childrens educa...   \n",
       "346  Says an alternative to Social Security that op...   \n",
       "\n",
       "                                                triple  \n",
       "0    [[No result, people/person/employment_history....  \n",
       "1    [[No result, people/person/employment_history....  \n",
       "2    [[No result, organization/role/leaders./organi...  \n",
       "3    [[No result, people/person/employment_history....  \n",
       "4    [[No result, people/person/employment_history....  \n",
       "..                                                 ...  \n",
       "342  [[No result, people/person/employment_history....  \n",
       "343  [[No result, organization/role/leaders./organi...  \n",
       "344  [[No result, people/person/employment_history....  \n",
       "345  [[No result, people/person/employment_history....  \n",
       "346  [[No result, location/hud_county_place/county,...  \n",
       "\n",
       "[347 rows x 5 columns]"
      ]
     },
     "execution_count": 125,
     "metadata": {},
     "output_type": "execute_result"
    }
   ],
   "source": [
    "fb_train"
   ]
  },
  {
   "cell_type": "code",
   "execution_count": 124,
   "metadata": {},
   "outputs": [
    {
     "name": "stderr",
     "output_type": "stream",
     "text": [
      "/usr/local/anaconda3/lib/python3.7/site-packages/ipykernel_launcher.py:6: SettingWithCopyWarning: \n",
      "A value is trying to be set on a copy of a slice from a DataFrame\n",
      "\n",
      "See the caveats in the documentation: https://pandas.pydata.org/pandas-docs/stable/user_guide/indexing.html#returning-a-view-versus-a-copy\n",
      "  \n"
     ]
    },
    {
     "data": {
      "application/vnd.jupyter.widget-view+json": {
       "model_id": "ebef6a8e8d4c4f9d862142b77d0c5567",
       "version_major": 2,
       "version_minor": 0
      },
      "text/plain": [
       "HBox(children=(FloatProgress(value=0.0, max=347.0), HTML(value='')))"
      ]
     },
     "metadata": {},
     "output_type": "display_data"
    },
    {
     "name": "stdout",
     "output_type": "stream",
     "text": [
      "\n"
     ]
    }
   ],
   "source": [
    "fb_train = google_triples(train)\n",
    "#fb_train.to_csv(\"./liar_dataset_triples/fb_train.csv\")"
   ]
  },
  {
   "cell_type": "markdown",
   "metadata": {},
   "source": [
    "# FakeNewsNet "
   ]
  },
  {
   "cell_type": "code",
   "execution_count": 449,
   "metadata": {},
   "outputs": [],
   "source": [
    "paths = glob(\"./fakenewsnet/*/*/*\")"
   ]
  },
  {
   "cell_type": "code",
   "execution_count": 450,
   "metadata": {},
   "outputs": [],
   "source": [
    "df = pd.DataFrame(columns=[\"text\", \"source\", \"label\"])"
   ]
  },
  {
   "cell_type": "code",
   "execution_count": 451,
   "metadata": {},
   "outputs": [],
   "source": [
    "def get_content(data):\n",
    "    text = data['text']\n",
    "    label = \"false\" if (path.split(\"\\\\\")[-2] == \"FakeNewsContent\") else \"true\"\n",
    "    source = path.split(\"\\\\\")[1]\n",
    "    return {\"text\":text, \"source\": source, \"label\": label}"
   ]
  },
  {
   "cell_type": "code",
   "execution_count": 452,
   "metadata": {},
   "outputs": [
    {
     "name": "stderr",
     "output_type": "stream",
     "text": [
      "\n",
      "  0%|                                                                                          | 0/422 [00:00<?, ?it/s]\u001b[A\n",
      " 14%|██████████▊                                                                     | 57/422 [00:00<00:00, 565.77it/s]\u001b[A\n",
      " 28%|█████████████████████▉                                                         | 117/422 [00:00<00:00, 584.73it/s]\u001b[A\n",
      " 42%|█████████████████████████████████▏                                             | 177/422 [00:00<00:00, 587.06it/s]\u001b[A\n",
      " 56%|████████████████████████████████████████████▏                                  | 236/422 [00:00<00:00, 586.53it/s]\u001b[A\n",
      " 70%|███████████████████████████████████████████████████████▍                       | 296/422 [00:00<00:00, 587.65it/s]\u001b[A\n",
      " 84%|██████████████████████████████████████████████████████████████████▍            | 355/422 [00:00<00:00, 581.21it/s]\u001b[A\n",
      "100%|███████████████████████████████████████████████████████████████████████████████| 422/422 [00:00<00:00, 580.73it/s]\u001b[A\n"
     ]
    }
   ],
   "source": [
    "from tqdm import tqdm\n",
    "\n",
    "for path in tqdm(paths):\n",
    "    with open(path) as f:\n",
    "        data = json.load(f)\n",
    "    content = get_content(data)\n",
    "    df = df.append(content, ignore_index=True)"
   ]
  },
  {
   "cell_type": "code",
   "execution_count": 460,
   "metadata": {},
   "outputs": [
    {
     "name": "stdout",
     "output_type": "stream",
     "text": [
      "\n",
      "    BuzzFeed:\n",
      "    num articles: 182,\n",
      "        false: 91,\n",
      "        true: 91\n",
      "    \n",
      "    PolitiFact:\n",
      "    num articles: 240,\n",
      "        false: 120,\n",
      "        true: 120\n",
      "\n"
     ]
    }
   ],
   "source": [
    "buzzfeed = df[df.source == \"BuzzFeed\"]\n",
    "politifact = df[df.source == \"PolitiFact\"]\n",
    "print(f\"\"\"\n",
    "    BuzzFeed:\n",
    "    num articles: {buzzfeed.shape[0]},\n",
    "        false: {sum(buzzfeed.label == \"false\")},\n",
    "        true: {sum(buzzfeed.label == \"true\")}\n",
    "    \n",
    "    PolitiFact:\n",
    "    num articles: {politifact.shape[0]},\n",
    "        false: {sum(politifact.label == \"false\")},\n",
    "        true: {sum(politifact.label == \"true\")}\n",
    "\"\"\")"
   ]
  },
  {
   "cell_type": "code",
   "execution_count": 461,
   "metadata": {},
   "outputs": [],
   "source": [
    "df.to_csv(\"./fakenewsnet/clean_fakenewsnet.csv\")"
   ]
  },
  {
   "cell_type": "markdown",
   "metadata": {},
   "source": [
    "## Post processing\n",
    "Clean output from triple extractor"
   ]
  },
  {
   "cell_type": "code",
   "execution_count": 463,
   "metadata": {},
   "outputs": [],
   "source": [
    "paths = glob(\"./fakenewsnet_triples/*\")"
   ]
  },
  {
   "cell_type": "code",
   "execution_count": 464,
   "metadata": {},
   "outputs": [],
   "source": [
    "df = pd.read_csv(paths[0])"
   ]
  },
  {
   "cell_type": "code",
   "execution_count": 471,
   "metadata": {},
   "outputs": [
    {
     "data": {
      "text/plain": [
       "[['Bill Clinton',\n",
       "  'people/person/employment_history./business/employment_tenure/title',\n",
       "  'President'],\n",
       " ['Marsha Blackburn',\n",
       "  'people/person/employment_history./business/employment_tenure/title',\n",
       "  'Rep.'],\n",
       " ['Roger Bate',\n",
       "  'organization/role/leaders./organization/leadership/person',\n",
       "  'American Enterprise Institute'],\n",
       " ['Hillary Clintons campaign.Blackburn',\n",
       "  'people/person/employment_history./business/employment_tenure/title',\n",
       "  'candidate'],\n",
       " ['J. Rosenstein',\n",
       "  'organization/role/leaders./organization/leadership/person',\n",
       "  'District of Maryland Rod'],\n",
       " ['J. Rosenstein',\n",
       "  'people/person/employment_history./business/employment_tenure/title',\n",
       "  'Attorney'],\n",
       " ['Barack Obamas',\n",
       "  'people/person/employment_history./business/employment_tenure/title',\n",
       "  'President']]"
      ]
     },
     "execution_count": 471,
     "metadata": {},
     "output_type": "execute_result"
    }
   ],
   "source": [
    "eval(df.triple[1])"
   ]
  },
  {
   "cell_type": "markdown",
   "metadata": {},
   "source": [
    "# Fake or Real"
   ]
  },
  {
   "cell_type": "code",
   "execution_count": 97,
   "metadata": {},
   "outputs": [],
   "source": [
    "paths = glob(\"./fake-or-real/*\")"
   ]
  },
  {
   "cell_type": "code",
   "execution_count": 98,
   "metadata": {},
   "outputs": [],
   "source": [
    "pd.read_csv(paths[0])"
   ]
  },
  {
   "cell_type": "code",
   "execution_count": null,
   "metadata": {},
   "outputs": [],
   "source": []
  }
 ],
 "metadata": {
  "kernelspec": {
   "display_name": "Python 3",
   "language": "python",
   "name": "python3"
  },
  "language_info": {
   "codemirror_mode": {
    "name": "ipython",
    "version": 3
   },
   "file_extension": ".py",
   "mimetype": "text/x-python",
   "name": "python",
   "nbconvert_exporter": "python",
   "pygments_lexer": "ipython3",
   "version": "3.7.3"
  }
 },
 "nbformat": 4,
 "nbformat_minor": 5
}
