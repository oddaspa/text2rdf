{
 "cells": [
  {
   "cell_type": "code",
   "execution_count": 210,
   "id": "5d054216",
   "metadata": {},
   "outputs": [],
   "source": [
    "import pandas as pd\n",
    "import numpy as np"
   ]
  },
  {
   "cell_type": "code",
   "execution_count": 98,
   "id": "df894347",
   "metadata": {},
   "outputs": [],
   "source": [
    "def load_csv(part):\n",
    "    columns = [\"id\", \"label\", \"text\", \"subject\", \"speaker\", \"job\", \"state\", \"party\", \"int0\", \"int1\", \"int2\", \"int3\", \"int4\", \"context\"]\n",
    "    return pd.read_csv(\"./liar_dataset/\" + part + \".tsv\", sep=\"\\t\", names=columns)"
   ]
  },
  {
   "cell_type": "code",
   "execution_count": 44,
   "id": "6578c893",
   "metadata": {},
   "outputs": [],
   "source": [
    "test = load_csv(\"test\")"
   ]
  },
  {
   "cell_type": "code",
   "execution_count": 45,
   "id": "4f9c23ae",
   "metadata": {},
   "outputs": [],
   "source": [
    "def sort_label(label):\n",
    "    if label in [\"pants-fire\", \"false\", \"barely-true\"]:\n",
    "        return \"false\"\n",
    "    else:\n",
    "        return \"true\"\n",
    "    \n",
    "def clean_df(df):\n",
    "    # 6 labels pants-fire, false, barely-true, half-true, mostly-true, true\n",
    "    df[\"label\"] = df[\"label\"].apply(lambda label: sort_label(label))\n",
    "    \n",
    "    # per https://arxiv.org/pdf/1905.04749.pdf they only use text and label\n",
    "    filtered_df=df.loc[:, [\"id\", \"label\", \"text\"]]\n",
    "    \n",
    "    return filtered_df"
   ]
  },
  {
   "cell_type": "code",
   "execution_count": 46,
   "id": "a8906496",
   "metadata": {},
   "outputs": [
    {
     "data": {
      "text/html": [
       "<div>\n",
       "<style scoped>\n",
       "    .dataframe tbody tr th:only-of-type {\n",
       "        vertical-align: middle;\n",
       "    }\n",
       "\n",
       "    .dataframe tbody tr th {\n",
       "        vertical-align: top;\n",
       "    }\n",
       "\n",
       "    .dataframe thead th {\n",
       "        text-align: right;\n",
       "    }\n",
       "</style>\n",
       "<table border=\"1\" class=\"dataframe\">\n",
       "  <thead>\n",
       "    <tr style=\"text-align: right;\">\n",
       "      <th></th>\n",
       "      <th>id</th>\n",
       "      <th>label</th>\n",
       "      <th>text</th>\n",
       "    </tr>\n",
       "  </thead>\n",
       "  <tbody>\n",
       "    <tr>\n",
       "      <th>0</th>\n",
       "      <td>11972.json</td>\n",
       "      <td>true</td>\n",
       "      <td>Building a wall on the U.S.-Mexico border will...</td>\n",
       "    </tr>\n",
       "    <tr>\n",
       "      <th>1</th>\n",
       "      <td>11685.json</td>\n",
       "      <td>false</td>\n",
       "      <td>Wisconsin is on pace to double the number of l...</td>\n",
       "    </tr>\n",
       "    <tr>\n",
       "      <th>2</th>\n",
       "      <td>11096.json</td>\n",
       "      <td>false</td>\n",
       "      <td>Says John McCain has done nothing to help the ...</td>\n",
       "    </tr>\n",
       "    <tr>\n",
       "      <th>3</th>\n",
       "      <td>5209.json</td>\n",
       "      <td>true</td>\n",
       "      <td>Suzanne Bonamici supports a plan that will cut...</td>\n",
       "    </tr>\n",
       "    <tr>\n",
       "      <th>4</th>\n",
       "      <td>9524.json</td>\n",
       "      <td>false</td>\n",
       "      <td>When asked by a reporter whether hes at the ce...</td>\n",
       "    </tr>\n",
       "    <tr>\n",
       "      <th>...</th>\n",
       "      <td>...</td>\n",
       "      <td>...</td>\n",
       "      <td>...</td>\n",
       "    </tr>\n",
       "    <tr>\n",
       "      <th>1262</th>\n",
       "      <td>7334.json</td>\n",
       "      <td>true</td>\n",
       "      <td>Says his budget provides the highest state fun...</td>\n",
       "    </tr>\n",
       "    <tr>\n",
       "      <th>1263</th>\n",
       "      <td>9788.json</td>\n",
       "      <td>false</td>\n",
       "      <td>Ive been here almost every day.</td>\n",
       "    </tr>\n",
       "    <tr>\n",
       "      <th>1264</th>\n",
       "      <td>10710.json</td>\n",
       "      <td>false</td>\n",
       "      <td>In the early 1980s, Sen. Edward Kennedy secret...</td>\n",
       "    </tr>\n",
       "    <tr>\n",
       "      <th>1265</th>\n",
       "      <td>3186.json</td>\n",
       "      <td>false</td>\n",
       "      <td>Says an EPA permit languished under Strickland...</td>\n",
       "    </tr>\n",
       "    <tr>\n",
       "      <th>1266</th>\n",
       "      <td>6743.json</td>\n",
       "      <td>false</td>\n",
       "      <td>Says the governor is going around the state ta...</td>\n",
       "    </tr>\n",
       "  </tbody>\n",
       "</table>\n",
       "<p>1267 rows × 3 columns</p>\n",
       "</div>"
      ],
      "text/plain": [
       "              id  label                                               text\n",
       "0     11972.json   true  Building a wall on the U.S.-Mexico border will...\n",
       "1     11685.json  false  Wisconsin is on pace to double the number of l...\n",
       "2     11096.json  false  Says John McCain has done nothing to help the ...\n",
       "3      5209.json   true  Suzanne Bonamici supports a plan that will cut...\n",
       "4      9524.json  false  When asked by a reporter whether hes at the ce...\n",
       "...          ...    ...                                                ...\n",
       "1262   7334.json   true  Says his budget provides the highest state fun...\n",
       "1263   9788.json  false                    Ive been here almost every day.\n",
       "1264  10710.json  false  In the early 1980s, Sen. Edward Kennedy secret...\n",
       "1265   3186.json  false  Says an EPA permit languished under Strickland...\n",
       "1266   6743.json  false  Says the governor is going around the state ta...\n",
       "\n",
       "[1267 rows x 3 columns]"
      ]
     },
     "execution_count": 46,
     "metadata": {},
     "output_type": "execute_result"
    }
   ],
   "source": [
    "clean_df(test)"
   ]
  },
  {
   "cell_type": "code",
   "execution_count": 40,
   "id": "7776c603",
   "metadata": {},
   "outputs": [],
   "source": [
    "for part in [\"train\", \"test\", \"valid\"]:\n",
    "    df = load_csv(part)\n",
    "    df = clean_df(df)\n",
    "    df.to_csv(\"./liar_dataset/clean_\" + part + \".csv\")"
   ]
  },
  {
   "cell_type": "markdown",
   "id": "ba2b7caa",
   "metadata": {},
   "source": [
    "## Extract triples with demo"
   ]
  },
  {
   "cell_type": "code",
   "execution_count": 291,
   "id": "ca5f3480",
   "metadata": {},
   "outputs": [],
   "source": [
    "def bug_clean(df):\n",
    "    condition = np.logical_and(df.triple.notna(), df.text.isna())\n",
    "    indxs = df[condition][\"Unnamed: 0\"].values\n",
    "    triples = df[condition][\"triple\"].values\n",
    "    df.loc[indxs, \"triple\"] = triples\n",
    "    df.drop(df.index[condition], inplace=True)\n",
    "    return df"
   ]
  },
  {
   "cell_type": "code",
   "execution_count": 292,
   "id": "7e842015",
   "metadata": {},
   "outputs": [],
   "source": [
    "from glob import glob"
   ]
  },
  {
   "cell_type": "code",
   "execution_count": 293,
   "id": "7fa9aaa0",
   "metadata": {},
   "outputs": [],
   "source": [
    "paths = glob(\"./liar_dataset_triples/*\")"
   ]
  },
  {
   "cell_type": "code",
   "execution_count": 294,
   "id": "6775873c",
   "metadata": {},
   "outputs": [],
   "source": [
    "main_df = pd.DataFrame()\n",
    "for path in paths:\n",
    "    if not path.__contains__(\"train\"):\n",
    "        continue\n",
    "    curr_df = pd.read_csv(path)\n",
    "    curr_df = bug_clean(curr_df)\n",
    "    main_df = pd.concat([main_df, curr_df])"
   ]
  },
  {
   "cell_type": "code",
   "execution_count": null,
   "id": "781bcf2b",
   "metadata": {},
   "outputs": [],
   "source": [
    "main_df ="
   ]
  },
  {
   "cell_type": "code",
   "execution_count": 295,
   "id": "ea96beed",
   "metadata": {},
   "outputs": [],
   "source": [
    "main_df.to_csv(\"./liar_dataset_triples/main_train_clean_triples.csv\")"
   ]
  },
  {
   "cell_type": "code",
   "execution_count": 296,
   "id": "6d1e8d7b",
   "metadata": {},
   "outputs": [],
   "source": [
    "def percent_triples(df):\n",
    "    return 1 - sum(df.triple.isna()) / df.shape[0]\n",
    "\n",
    "def avg_word_count(df):\n",
    "    tot = 0\n",
    "    for sent in df.text.values:\n",
    "        tot += len(sent.split(\" \"))\n",
    "    return tot / df.shape[0]"
   ]
  },
  {
   "cell_type": "code",
   "execution_count": 297,
   "id": "ffba8ae9",
   "metadata": {},
   "outputs": [],
   "source": [
    "paths = glob(\"./liar_dataset_triples/*\")"
   ]
  },
  {
   "cell_type": "code",
   "execution_count": 298,
   "id": "c4a5fd29",
   "metadata": {},
   "outputs": [],
   "source": [
    "drops = []\n",
    "for indx, path in enumerate(paths):\n",
    "    if path.__contains__(\"clean_train_triple\"):\n",
    "        drops.append(indx)\n",
    "paths = np.delete(paths, drops)"
   ]
  },
  {
   "cell_type": "code",
   "execution_count": 315,
   "id": "e02ab2f6",
   "metadata": {},
   "outputs": [
    {
     "name": "stdout",
     "output_type": "stream",
     "text": [
      "dataset: test. avg sent length: 18.24 words. percent triples: 11.68%.\n",
      "dataset: valid. avg sent length: 17.93 words. percent triples: 11.06%.\n",
      "dataset: train. avg sent length: 17.97 words. percent triples: 3.39%.\n"
     ]
    }
   ],
   "source": [
    "for path in paths:\n",
    "    name = \"train\"\n",
    "    if path.__contains__(\"test\"):\n",
    "        name = \"test\"\n",
    "    if path.__contains__(\"valid\"):\n",
    "        name = \"valid\"\n",
    "    df = pd.read_csv(path)    \n",
    "    df = bug_clean(df)\n",
    "    p_triples = percent_triples(df)\n",
    "    sent_size = avg_word_count(df)\n",
    "    print(f\"dataset: {name}. avg sent length: {sent_size:.2f} words. percent triples: {p_triples*100:.2f}%.\")"
   ]
  },
  {
   "cell_type": "code",
   "execution_count": 300,
   "id": "de064202",
   "metadata": {},
   "outputs": [],
   "source": [
    "df1 = pd.read_csv(paths[0])"
   ]
  },
  {
   "cell_type": "code",
   "execution_count": 303,
   "id": "dc5c4fa3",
   "metadata": {},
   "outputs": [
    {
     "data": {
      "text/plain": [
       "Unnamed: 0         0\n",
       "Unnamed: 0.1       0\n",
       "id                 0\n",
       "label              0\n",
       "text               0\n",
       "triple          1119\n",
       "dtype: int64"
      ]
     },
     "execution_count": 303,
     "metadata": {},
     "output_type": "execute_result"
    }
   ],
   "source": [
    "df1.isna().sum()"
   ]
  },
  {
   "cell_type": "code",
   "execution_count": 317,
   "id": "6a0b4bf6",
   "metadata": {},
   "outputs": [
    {
     "data": {
      "text/plain": [
       "Index(['Unnamed: 0', 'Unnamed: 0.1', 'Unnamed: 0.1.1', 'id', 'label', 'text',\n",
       "       'triple', 'Unnamed: 0.1.1.1', 'Unnamed: 0.1.1.1.1'],\n",
       "      dtype='object')"
      ]
     },
     "execution_count": 317,
     "metadata": {},
     "output_type": "execute_result"
    }
   ],
   "source": [
    "df.columns"
   ]
  },
  {
   "cell_type": "code",
   "execution_count": 329,
   "id": "85adfd66",
   "metadata": {},
   "outputs": [
    {
     "data": {
      "text/html": [
       "<div>\n",
       "<style scoped>\n",
       "    .dataframe tbody tr th:only-of-type {\n",
       "        vertical-align: middle;\n",
       "    }\n",
       "\n",
       "    .dataframe tbody tr th {\n",
       "        vertical-align: top;\n",
       "    }\n",
       "\n",
       "    .dataframe thead th {\n",
       "        text-align: right;\n",
       "    }\n",
       "</style>\n",
       "<table border=\"1\" class=\"dataframe\">\n",
       "  <thead>\n",
       "    <tr style=\"text-align: right;\">\n",
       "      <th></th>\n",
       "      <th>id</th>\n",
       "      <th>label</th>\n",
       "      <th>text</th>\n",
       "      <th>triple</th>\n",
       "    </tr>\n",
       "  </thead>\n",
       "  <tbody>\n",
       "    <tr>\n",
       "      <th>0</th>\n",
       "      <td>2635.json</td>\n",
       "      <td>False</td>\n",
       "      <td>Says the Annies List political group supports ...</td>\n",
       "      <td>NaN</td>\n",
       "    </tr>\n",
       "    <tr>\n",
       "      <th>1</th>\n",
       "      <td>10540.json</td>\n",
       "      <td>True</td>\n",
       "      <td>When did the decline of coal start? It started...</td>\n",
       "      <td>NaN</td>\n",
       "    </tr>\n",
       "    <tr>\n",
       "      <th>2</th>\n",
       "      <td>324.json</td>\n",
       "      <td>True</td>\n",
       "      <td>Hillary Clinton agrees with John McCain by vot...</td>\n",
       "      <td>NaN</td>\n",
       "    </tr>\n",
       "    <tr>\n",
       "      <th>3</th>\n",
       "      <td>1123.json</td>\n",
       "      <td>False</td>\n",
       "      <td>Health care reform legislation is likely to ma...</td>\n",
       "      <td>NaN</td>\n",
       "    </tr>\n",
       "    <tr>\n",
       "      <th>4</th>\n",
       "      <td>9028.json</td>\n",
       "      <td>True</td>\n",
       "      <td>The economic turnaround started at the end of ...</td>\n",
       "      <td>NaN</td>\n",
       "    </tr>\n",
       "    <tr>\n",
       "      <th>...</th>\n",
       "      <td>...</td>\n",
       "      <td>...</td>\n",
       "      <td>...</td>\n",
       "      <td>...</td>\n",
       "    </tr>\n",
       "    <tr>\n",
       "      <th>10234</th>\n",
       "      <td>1592.json</td>\n",
       "      <td>True</td>\n",
       "      <td>Under the ruling of the Supreme Court, any lob...</td>\n",
       "      <td>NaN</td>\n",
       "    </tr>\n",
       "    <tr>\n",
       "      <th>10235</th>\n",
       "      <td>5473.json</td>\n",
       "      <td>True</td>\n",
       "      <td>There are a larger number of shark attacks in ...</td>\n",
       "      <td>NaN</td>\n",
       "    </tr>\n",
       "    <tr>\n",
       "      <th>10236</th>\n",
       "      <td>3408.json</td>\n",
       "      <td>True</td>\n",
       "      <td>Democrats have now become the party of the Atl...</td>\n",
       "      <td>NaN</td>\n",
       "    </tr>\n",
       "    <tr>\n",
       "      <th>10237</th>\n",
       "      <td>3959.json</td>\n",
       "      <td>True</td>\n",
       "      <td>Says an alternative to Social Security that op...</td>\n",
       "      <td>[['County', 'location/hud_county_place/county'...</td>\n",
       "    </tr>\n",
       "    <tr>\n",
       "      <th>10238</th>\n",
       "      <td>2253.json</td>\n",
       "      <td>False</td>\n",
       "      <td>On lifting the U.S. Cuban embargo and allowing...</td>\n",
       "      <td>NaN</td>\n",
       "    </tr>\n",
       "  </tbody>\n",
       "</table>\n",
       "<p>10239 rows × 4 columns</p>\n",
       "</div>"
      ],
      "text/plain": [
       "               id  label                                               text  \\\n",
       "0       2635.json  False  Says the Annies List political group supports ...   \n",
       "1      10540.json   True  When did the decline of coal start? It started...   \n",
       "2        324.json   True  Hillary Clinton agrees with John McCain by vot...   \n",
       "3       1123.json  False  Health care reform legislation is likely to ma...   \n",
       "4       9028.json   True  The economic turnaround started at the end of ...   \n",
       "...           ...    ...                                                ...   \n",
       "10234   1592.json   True  Under the ruling of the Supreme Court, any lob...   \n",
       "10235   5473.json   True  There are a larger number of shark attacks in ...   \n",
       "10236   3408.json   True  Democrats have now become the party of the Atl...   \n",
       "10237   3959.json   True  Says an alternative to Social Security that op...   \n",
       "10238   2253.json  False  On lifting the U.S. Cuban embargo and allowing...   \n",
       "\n",
       "                                                  triple  \n",
       "0                                                    NaN  \n",
       "1                                                    NaN  \n",
       "2                                                    NaN  \n",
       "3                                                    NaN  \n",
       "4                                                    NaN  \n",
       "...                                                  ...  \n",
       "10234                                                NaN  \n",
       "10235                                                NaN  \n",
       "10236                                                NaN  \n",
       "10237  [['County', 'location/hud_county_place/county'...  \n",
       "10238                                                NaN  \n",
       "\n",
       "[10239 rows x 4 columns]"
      ]
     },
     "execution_count": 329,
     "metadata": {},
     "output_type": "execute_result"
    }
   ],
   "source": [
    "df.drop(columns=list(set(df.columns.values) ^ set([\"id\", \"label\", \"text\", \"triple\"]))).drop_duplicates()"
   ]
  },
  {
   "cell_type": "code",
   "execution_count": 321,
   "id": "df157faf",
   "metadata": {},
   "outputs": [
    {
     "ename": "ValueError",
     "evalue": "The truth value of an array with more than one element is ambiguous. Use a.any() or a.all()",
     "output_type": "error",
     "traceback": [
      "\u001b[1;31m---------------------------------------------------------------------------\u001b[0m",
      "\u001b[1;31mValueError\u001b[0m                                Traceback (most recent call last)",
      "\u001b[1;32m<ipython-input-321-36541b3b445e>\u001b[0m in \u001b[0;36m<module>\u001b[1;34m\u001b[0m\n\u001b[1;32m----> 1\u001b[1;33m \u001b[0mdf\u001b[0m\u001b[1;33m.\u001b[0m\u001b[0mcolumns\u001b[0m \u001b[1;32min\u001b[0m \u001b[1;33m[\u001b[0m\u001b[1;34m\"id\"\u001b[0m\u001b[1;33m,\u001b[0m \u001b[1;34m\"label\"\u001b[0m\u001b[1;33m,\u001b[0m \u001b[1;34m\"text\"\u001b[0m\u001b[1;33m,\u001b[0m \u001b[1;34m\"triple\"\u001b[0m\u001b[1;33m]\u001b[0m\u001b[1;33m\u001b[0m\u001b[1;33m\u001b[0m\u001b[0m\n\u001b[0m",
      "\u001b[1;31mValueError\u001b[0m: The truth value of an array with more than one element is ambiguous. Use a.any() or a.all()"
     ]
    }
   ],
   "source": [
    "df.columns "
   ]
  },
  {
   "cell_type": "code",
   "execution_count": 327,
   "id": "da62cb7c",
   "metadata": {},
   "outputs": [
    {
     "data": {
      "text/plain": [
       "['Unnamed: 0.1',\n",
       " 'Unnamed: 0.1.1',\n",
       " 'Unnamed: 0',\n",
       " 'Unnamed: 0.1.1.1.1',\n",
       " 'Unnamed: 0.1.1.1']"
      ]
     },
     "execution_count": 327,
     "metadata": {},
     "output_type": "execute_result"
    }
   ],
   "source": []
  },
  {
   "cell_type": "code",
   "execution_count": null,
   "id": "c7f8304f",
   "metadata": {},
   "outputs": [],
   "source": []
  }
 ],
 "metadata": {
  "kernelspec": {
   "display_name": "Python 3",
   "language": "python",
   "name": "python3"
  },
  "language_info": {
   "codemirror_mode": {
    "name": "ipython",
    "version": 3
   },
   "file_extension": ".py",
   "mimetype": "text/x-python",
   "name": "python",
   "nbconvert_exporter": "python",
   "pygments_lexer": "ipython3",
   "version": "3.7.5"
  }
 },
 "nbformat": 4,
 "nbformat_minor": 5
}
