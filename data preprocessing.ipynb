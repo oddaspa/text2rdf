{
 "cells": [
  {
   "cell_type": "code",
   "execution_count": 2,
   "id": "defed2c1",
   "metadata": {},
   "outputs": [],
   "source": [
    "import pandas as pd\n",
    "import numpy as np\n",
    "from glob import glob"
   ]
  },
  {
   "cell_type": "markdown",
   "id": "90adbd16",
   "metadata": {},
   "source": [
    "# LIAR DATASET"
   ]
  },
  {
   "cell_type": "code",
   "execution_count": 98,
   "id": "42b0167a",
   "metadata": {},
   "outputs": [],
   "source": [
    "def load_csv(part):\n",
    "    columns = [\"id\", \"label\", \"text\", \"subject\", \"speaker\", \"job\", \"state\", \"party\", \"int0\", \"int1\", \"int2\", \"int3\", \"int4\", \"context\"]\n",
    "    return pd.read_csv(\"./liar_dataset/\" + part + \".tsv\", sep=\"\\t\", names=columns)"
   ]
  },
  {
   "cell_type": "code",
   "execution_count": 44,
   "id": "ffffa9e2",
   "metadata": {},
   "outputs": [],
   "source": [
    "test = load_csv(\"test\")"
   ]
  },
  {
   "cell_type": "code",
   "execution_count": 45,
   "id": "5f09c1e7",
   "metadata": {},
   "outputs": [],
   "source": [
    "def sort_label(label):\n",
    "    if label in [\"pants-fire\", \"false\", \"barely-true\"]:\n",
    "        return \"false\"\n",
    "    else:\n",
    "        return \"true\"\n",
    "    \n",
    "def clean_df(df):\n",
    "    # 6 labels pants-fire, false, barely-true, half-true, mostly-true, true\n",
    "    df[\"label\"] = df[\"label\"].apply(lambda label: sort_label(label))\n",
    "    \n",
    "    # per https://arxiv.org/pdf/1905.04749.pdf they only use text and label\n",
    "    filtered_df=df.loc[:, [\"id\", \"label\", \"text\"]]\n",
    "    \n",
    "    return filtered_df"
   ]
  },
  {
   "cell_type": "code",
   "execution_count": 46,
   "id": "2a1a465e",
   "metadata": {},
   "outputs": [
    {
     "data": {
      "text/html": [
       "<div>\n",
       "<style scoped>\n",
       "    .dataframe tbody tr th:only-of-type {\n",
       "        vertical-align: middle;\n",
       "    }\n",
       "\n",
       "    .dataframe tbody tr th {\n",
       "        vertical-align: top;\n",
       "    }\n",
       "\n",
       "    .dataframe thead th {\n",
       "        text-align: right;\n",
       "    }\n",
       "</style>\n",
       "<table border=\"1\" class=\"dataframe\">\n",
       "  <thead>\n",
       "    <tr style=\"text-align: right;\">\n",
       "      <th></th>\n",
       "      <th>id</th>\n",
       "      <th>label</th>\n",
       "      <th>text</th>\n",
       "    </tr>\n",
       "  </thead>\n",
       "  <tbody>\n",
       "    <tr>\n",
       "      <th>0</th>\n",
       "      <td>11972.json</td>\n",
       "      <td>true</td>\n",
       "      <td>Building a wall on the U.S.-Mexico border will...</td>\n",
       "    </tr>\n",
       "    <tr>\n",
       "      <th>1</th>\n",
       "      <td>11685.json</td>\n",
       "      <td>false</td>\n",
       "      <td>Wisconsin is on pace to double the number of l...</td>\n",
       "    </tr>\n",
       "    <tr>\n",
       "      <th>2</th>\n",
       "      <td>11096.json</td>\n",
       "      <td>false</td>\n",
       "      <td>Says John McCain has done nothing to help the ...</td>\n",
       "    </tr>\n",
       "    <tr>\n",
       "      <th>3</th>\n",
       "      <td>5209.json</td>\n",
       "      <td>true</td>\n",
       "      <td>Suzanne Bonamici supports a plan that will cut...</td>\n",
       "    </tr>\n",
       "    <tr>\n",
       "      <th>4</th>\n",
       "      <td>9524.json</td>\n",
       "      <td>false</td>\n",
       "      <td>When asked by a reporter whether hes at the ce...</td>\n",
       "    </tr>\n",
       "    <tr>\n",
       "      <th>...</th>\n",
       "      <td>...</td>\n",
       "      <td>...</td>\n",
       "      <td>...</td>\n",
       "    </tr>\n",
       "    <tr>\n",
       "      <th>1262</th>\n",
       "      <td>7334.json</td>\n",
       "      <td>true</td>\n",
       "      <td>Says his budget provides the highest state fun...</td>\n",
       "    </tr>\n",
       "    <tr>\n",
       "      <th>1263</th>\n",
       "      <td>9788.json</td>\n",
       "      <td>false</td>\n",
       "      <td>Ive been here almost every day.</td>\n",
       "    </tr>\n",
       "    <tr>\n",
       "      <th>1264</th>\n",
       "      <td>10710.json</td>\n",
       "      <td>false</td>\n",
       "      <td>In the early 1980s, Sen. Edward Kennedy secret...</td>\n",
       "    </tr>\n",
       "    <tr>\n",
       "      <th>1265</th>\n",
       "      <td>3186.json</td>\n",
       "      <td>false</td>\n",
       "      <td>Says an EPA permit languished under Strickland...</td>\n",
       "    </tr>\n",
       "    <tr>\n",
       "      <th>1266</th>\n",
       "      <td>6743.json</td>\n",
       "      <td>false</td>\n",
       "      <td>Says the governor is going around the state ta...</td>\n",
       "    </tr>\n",
       "  </tbody>\n",
       "</table>\n",
       "<p>1267 rows × 3 columns</p>\n",
       "</div>"
      ],
      "text/plain": [
       "              id  label                                               text\n",
       "0     11972.json   true  Building a wall on the U.S.-Mexico border will...\n",
       "1     11685.json  false  Wisconsin is on pace to double the number of l...\n",
       "2     11096.json  false  Says John McCain has done nothing to help the ...\n",
       "3      5209.json   true  Suzanne Bonamici supports a plan that will cut...\n",
       "4      9524.json  false  When asked by a reporter whether hes at the ce...\n",
       "...          ...    ...                                                ...\n",
       "1262   7334.json   true  Says his budget provides the highest state fun...\n",
       "1263   9788.json  false                    Ive been here almost every day.\n",
       "1264  10710.json  false  In the early 1980s, Sen. Edward Kennedy secret...\n",
       "1265   3186.json  false  Says an EPA permit languished under Strickland...\n",
       "1266   6743.json  false  Says the governor is going around the state ta...\n",
       "\n",
       "[1267 rows x 3 columns]"
      ]
     },
     "execution_count": 46,
     "metadata": {},
     "output_type": "execute_result"
    }
   ],
   "source": [
    "clean_df(test)"
   ]
  },
  {
   "cell_type": "code",
   "execution_count": 40,
   "id": "76910394",
   "metadata": {},
   "outputs": [],
   "source": [
    "for part in [\"train\", \"test\", \"valid\"]:\n",
    "    df = load_csv(part)\n",
    "    df = clean_df(df)\n",
    "    df.to_csv(\"./liar_dataset/clean_\" + part + \".csv\")"
   ]
  },
  {
   "cell_type": "markdown",
   "id": "c71234cb",
   "metadata": {},
   "source": [
    "## Post processing\n",
    "Clean output from triple extractor"
   ]
  },
  {
   "cell_type": "code",
   "execution_count": 8,
   "id": "a02f70a8",
   "metadata": {},
   "outputs": [],
   "source": [
    "def bug_clean(df):\n",
    "    condition = np.logical_and(df.triple.notna(), df.text.isna())\n",
    "    indxs = df[condition][\"Unnamed: 0\"].values\n",
    "    triples = df[condition][\"triple\"].values\n",
    "    df.loc[indxs, \"triple\"] = triples\n",
    "    df.drop(df.index[condition], inplace=True)\n",
    "    return df"
   ]
  },
  {
   "cell_type": "code",
   "execution_count": 332,
   "id": "b2d3ae08",
   "metadata": {},
   "outputs": [],
   "source": [
    "paths = glob(\"./liar_dataset_triples/*\")"
   ]
  },
  {
   "cell_type": "code",
   "execution_count": 333,
   "id": "a9247fa5",
   "metadata": {},
   "outputs": [],
   "source": [
    "main_df = pd.DataFrame()\n",
    "for path in paths:\n",
    "    if not path.__contains__(\"train\"):\n",
    "        continue\n",
    "    curr_df = pd.read_csv(path)\n",
    "    curr_df = bug_clean(curr_df)\n",
    "    main_df = pd.concat([main_df, curr_df])"
   ]
  },
  {
   "cell_type": "code",
   "execution_count": 334,
   "id": "266f79db",
   "metadata": {},
   "outputs": [],
   "source": [
    "main_df = main_df.drop(columns=list(set(main_df.columns.values) ^ set([\"id\", \"label\", \"text\", \"triple\"]))).drop_duplicates()"
   ]
  },
  {
   "cell_type": "code",
   "execution_count": 335,
   "id": "885e464c",
   "metadata": {},
   "outputs": [],
   "source": [
    "main_df.to_csv(\"./liar_dataset_triples/main_train_clean_triples.csv\")"
   ]
  },
  {
   "cell_type": "code",
   "execution_count": 4,
   "id": "de2c05ac",
   "metadata": {},
   "outputs": [],
   "source": [
    "def percent_triples(df):\n",
    "    return 1 - sum(df.triple.isna()) / df.shape[0]\n",
    "\n",
    "def avg_word_count(df):\n",
    "    tot = 0\n",
    "    for sent in df.text.values:\n",
    "        tot += len(sent.split(\" \"))\n",
    "    return tot / df.shape[0]"
   ]
  },
  {
   "cell_type": "code",
   "execution_count": 5,
   "id": "ed5f8053",
   "metadata": {},
   "outputs": [],
   "source": [
    "paths = glob(\"./liar_dataset_triples/*\")"
   ]
  },
  {
   "cell_type": "code",
   "execution_count": 6,
   "id": "34a4f564",
   "metadata": {},
   "outputs": [],
   "source": [
    "drops = []\n",
    "for indx, path in enumerate(paths):\n",
    "    if path.__contains__(\"clean_train_triple\"):\n",
    "        drops.append(indx)\n",
    "paths = np.delete(paths, drops)"
   ]
  },
  {
   "cell_type": "code",
   "execution_count": 9,
   "id": "d12b5ca5",
   "metadata": {},
   "outputs": [
    {
     "name": "stdout",
     "output_type": "stream",
     "text": [
      "dataset: test. avg sent length: 18.24 words. percent triples: 11.68%.\n",
      "dataset: valid. avg sent length: 17.93 words. percent triples: 11.06%.\n",
      "dataset: train. avg sent length: 17.97 words. percent triples: 3.39%.\n"
     ]
    }
   ],
   "source": [
    "for path in paths:\n",
    "    name = \"train\"\n",
    "    if path.__contains__(\"test\"):\n",
    "        name = \"test\"\n",
    "    if path.__contains__(\"valid\"):\n",
    "        name = \"valid\"\n",
    "    df = pd.read_csv(path)    \n",
    "    df = bug_clean(df)\n",
    "    p_triples = percent_triples(df)\n",
    "    sent_size = avg_word_count(df)\n",
    "    print(f\"dataset: {name}. avg sent length: {sent_size:.2f} words. percent triples: {p_triples*100:.2f}%.\")"
   ]
  },
  {
   "cell_type": "code",
   "execution_count": 10,
   "id": "5f2068a0",
   "metadata": {},
   "outputs": [
    {
     "data": {
      "text/html": [
       "<div>\n",
       "<style scoped>\n",
       "    .dataframe tbody tr th:only-of-type {\n",
       "        vertical-align: middle;\n",
       "    }\n",
       "\n",
       "    .dataframe tbody tr th {\n",
       "        vertical-align: top;\n",
       "    }\n",
       "\n",
       "    .dataframe thead th {\n",
       "        text-align: right;\n",
       "    }\n",
       "</style>\n",
       "<table border=\"1\" class=\"dataframe\">\n",
       "  <thead>\n",
       "    <tr style=\"text-align: right;\">\n",
       "      <th></th>\n",
       "      <th>Unnamed: 0</th>\n",
       "      <th>id</th>\n",
       "      <th>label</th>\n",
       "      <th>text</th>\n",
       "      <th>triple</th>\n",
       "    </tr>\n",
       "  </thead>\n",
       "  <tbody>\n",
       "    <tr>\n",
       "      <th>0</th>\n",
       "      <td>0</td>\n",
       "      <td>2635.json</td>\n",
       "      <td>False</td>\n",
       "      <td>Says the Annies List political group supports ...</td>\n",
       "      <td>NaN</td>\n",
       "    </tr>\n",
       "    <tr>\n",
       "      <th>1</th>\n",
       "      <td>1</td>\n",
       "      <td>10540.json</td>\n",
       "      <td>True</td>\n",
       "      <td>When did the decline of coal start? It started...</td>\n",
       "      <td>NaN</td>\n",
       "    </tr>\n",
       "    <tr>\n",
       "      <th>2</th>\n",
       "      <td>2</td>\n",
       "      <td>324.json</td>\n",
       "      <td>True</td>\n",
       "      <td>Hillary Clinton agrees with John McCain by vot...</td>\n",
       "      <td>NaN</td>\n",
       "    </tr>\n",
       "    <tr>\n",
       "      <th>3</th>\n",
       "      <td>3</td>\n",
       "      <td>1123.json</td>\n",
       "      <td>False</td>\n",
       "      <td>Health care reform legislation is likely to ma...</td>\n",
       "      <td>NaN</td>\n",
       "    </tr>\n",
       "    <tr>\n",
       "      <th>4</th>\n",
       "      <td>4</td>\n",
       "      <td>9028.json</td>\n",
       "      <td>True</td>\n",
       "      <td>The economic turnaround started at the end of ...</td>\n",
       "      <td>NaN</td>\n",
       "    </tr>\n",
       "    <tr>\n",
       "      <th>...</th>\n",
       "      <td>...</td>\n",
       "      <td>...</td>\n",
       "      <td>...</td>\n",
       "      <td>...</td>\n",
       "      <td>...</td>\n",
       "    </tr>\n",
       "    <tr>\n",
       "      <th>10234</th>\n",
       "      <td>2434</td>\n",
       "      <td>1592.json</td>\n",
       "      <td>True</td>\n",
       "      <td>Under the ruling of the Supreme Court, any lob...</td>\n",
       "      <td>NaN</td>\n",
       "    </tr>\n",
       "    <tr>\n",
       "      <th>10235</th>\n",
       "      <td>2435</td>\n",
       "      <td>5473.json</td>\n",
       "      <td>True</td>\n",
       "      <td>There are a larger number of shark attacks in ...</td>\n",
       "      <td>NaN</td>\n",
       "    </tr>\n",
       "    <tr>\n",
       "      <th>10236</th>\n",
       "      <td>2436</td>\n",
       "      <td>3408.json</td>\n",
       "      <td>True</td>\n",
       "      <td>Democrats have now become the party of the Atl...</td>\n",
       "      <td>NaN</td>\n",
       "    </tr>\n",
       "    <tr>\n",
       "      <th>10237</th>\n",
       "      <td>2437</td>\n",
       "      <td>3959.json</td>\n",
       "      <td>True</td>\n",
       "      <td>Says an alternative to Social Security that op...</td>\n",
       "      <td>[['County', 'location/hud_county_place/county'...</td>\n",
       "    </tr>\n",
       "    <tr>\n",
       "      <th>10238</th>\n",
       "      <td>2438</td>\n",
       "      <td>2253.json</td>\n",
       "      <td>False</td>\n",
       "      <td>On lifting the U.S. Cuban embargo and allowing...</td>\n",
       "      <td>NaN</td>\n",
       "    </tr>\n",
       "  </tbody>\n",
       "</table>\n",
       "<p>10239 rows × 5 columns</p>\n",
       "</div>"
      ],
      "text/plain": [
       "       Unnamed: 0          id  label  \\\n",
       "0               0   2635.json  False   \n",
       "1               1  10540.json   True   \n",
       "2               2    324.json   True   \n",
       "3               3   1123.json  False   \n",
       "4               4   9028.json   True   \n",
       "...           ...         ...    ...   \n",
       "10234        2434   1592.json   True   \n",
       "10235        2435   5473.json   True   \n",
       "10236        2436   3408.json   True   \n",
       "10237        2437   3959.json   True   \n",
       "10238        2438   2253.json  False   \n",
       "\n",
       "                                                    text  \\\n",
       "0      Says the Annies List political group supports ...   \n",
       "1      When did the decline of coal start? It started...   \n",
       "2      Hillary Clinton agrees with John McCain by vot...   \n",
       "3      Health care reform legislation is likely to ma...   \n",
       "4      The economic turnaround started at the end of ...   \n",
       "...                                                  ...   \n",
       "10234  Under the ruling of the Supreme Court, any lob...   \n",
       "10235  There are a larger number of shark attacks in ...   \n",
       "10236  Democrats have now become the party of the Atl...   \n",
       "10237  Says an alternative to Social Security that op...   \n",
       "10238  On lifting the U.S. Cuban embargo and allowing...   \n",
       "\n",
       "                                                  triple  \n",
       "0                                                    NaN  \n",
       "1                                                    NaN  \n",
       "2                                                    NaN  \n",
       "3                                                    NaN  \n",
       "4                                                    NaN  \n",
       "...                                                  ...  \n",
       "10234                                                NaN  \n",
       "10235                                                NaN  \n",
       "10236                                                NaN  \n",
       "10237  [['County', 'location/hud_county_place/county'...  \n",
       "10238                                                NaN  \n",
       "\n",
       "[10239 rows x 5 columns]"
      ]
     },
     "execution_count": 10,
     "metadata": {},
     "output_type": "execute_result"
    }
   ],
   "source": [
    "df"
   ]
  },
  {
   "cell_type": "code",
   "execution_count": 6,
   "id": "914a87ab",
   "metadata": {},
   "outputs": [],
   "source": [
    "#!pip install sparqlwrapper\n",
    "# https://rdflib.github.io/sparqlwrapper/"
   ]
  },
  {
   "cell_type": "code",
   "execution_count": 44,
   "id": "17f34825",
   "metadata": {},
   "outputs": [],
   "source": [
    "import sys\n",
    "from SPARQLWrapper import SPARQLWrapper, JSON\n",
    "\n",
    "def get_results(endpoint_url, query):\n",
    "    user_agent = \"WDQS-example Python/%s.%s\" % (sys.version_info[0], sys.version_info[1])\n",
    "    sparql = SPARQLWrapper(endpoint_url, agent=user_agent)\n",
    "    sparql.setQuery(query)\n",
    "    sparql.setReturnFormat(JSON)\n",
    "    return sparql.query().convert()\n",
    "\n",
    "\n",
    "def fb_to_common(freebase_id):\n",
    "    endpoint_url = \"https://query.wikidata.org/sparql\"\n",
    "\n",
    "    query = \\\n",
    "    '''SELECT ?sLabel WHERE { \n",
    "        ?s wdt:P646 \"''' + freebase_id + '''\".\n",
    "        SERVICE wikibase:label { bd:serviceParam wikibase:language \"en\". }\n",
    "    }\n",
    "    LIMIT 1'''\n",
    "    res = get_results(endpoint_url, query)\n",
    "    try:\n",
    "        res = res['results']['bindings'][0]['sLabel']['value']\n",
    "        return res\n",
    "    except:\n",
    "        return \"No result\"\n",
    "\n",
    "def common_to_fb(common_name):\n",
    "    endpoint_url = \"https://query.wikidata.org/sparql\"\n",
    "    \n",
    "    if common_name.islower():\n",
    "        common_name = common_name.capitalize() + \"s\"\n",
    "\n",
    "    query = '''\n",
    "    SELECT ?fbid WHERE { \n",
    "        ?s wdt:P373 \"''' + common_name + '''\".\n",
    "    OPTIONAL {\n",
    "        ?s wdt:P646 ?fbid .\n",
    "        }\n",
    "    SERVICE wikibase:label { bd:serviceParam wikibase:language \"en\". }\n",
    "    }\n",
    "    LIMIT 1'''\n",
    "    res = get_results(endpoint_url, query)\n",
    "    try:\n",
    "        res = res['results']['bindings'][0]['fbid']['value']\n",
    "        return res\n",
    "    except:\n",
    "        return common_name + \"-1\""
   ]
  },
  {
   "cell_type": "code",
   "execution_count": 235,
   "id": "717b5a1b",
   "metadata": {},
   "outputs": [],
   "source": [
    "train = pd.read_csv(\"./liar_dataset_triples/train.csv\", index_col=0)\n",
    "valid = pd.read_csv(\"./liar_dataset_triples/valid.csv\", index_col=0)\n",
    "test = pd.read_csv(\"./liar_dataset_triples/test.csv\", index_col=0)"
   ]
  },
  {
   "cell_type": "code",
   "execution_count": 217,
   "id": "a32ffd90",
   "metadata": {},
   "outputs": [],
   "source": [
    "def clean_df(df):\n",
    "    df = df.dropna()\n",
    "    df.drop_duplicates(inplace=True)\n",
    "    df.triple = df.triple.apply(lambda x: eval(x))\n",
    "    df = df.reset_index()\n",
    "    df = df[[\"id\", \"label\", \"triple\"]]\n",
    "    return df"
   ]
  },
  {
   "cell_type": "code",
   "execution_count": 248,
   "id": "62272472",
   "metadata": {},
   "outputs": [],
   "source": [
    "def expand_df(df):\n",
    "    expanded_df = pd.DataFrame(columns=[\"text_id\", \"head\", \"relation\", \"tail\", \"label\"])\n",
    "    for text_id, label, triples in df.values:\n",
    "        for h, r, t in triples:\n",
    "            expanded_df = expanded_df.append({\n",
    "                \"text_id\": text_id, \n",
    "                \"head\": h, \n",
    "                \"relation\": r, \n",
    "                \"tail\": t, \n",
    "                \"label\": label\n",
    "            }, ignore_index=True)\n",
    "    return expanded_df"
   ]
  },
  {
   "cell_type": "code",
   "execution_count": 26,
   "id": "25a4cbff",
   "metadata": {},
   "outputs": [
    {
     "name": "stdout",
     "output_type": "stream",
     "text": [
      "Collecting beautifulsoup4\n",
      "  Downloading beautifulsoup4-4.9.3-py3-none-any.whl (115 kB)\n",
      "\u001b[K     |████████████████████████████████| 115 kB 830 kB/s eta 0:00:01\n",
      "\u001b[?25hCollecting soupsieve>1.2\n",
      "  Downloading soupsieve-2.2.1-py3-none-any.whl (33 kB)\n",
      "Installing collected packages: soupsieve, beautifulsoup4\n",
      "Successfully installed beautifulsoup4-4.9.3 soupsieve-2.2.1\n"
     ]
    }
   ],
   "source": [
    "!pip install beautifulsoup4"
   ]
  },
  {
   "cell_type": "code",
   "execution_count": 27,
   "id": "4703a11a",
   "metadata": {},
   "outputs": [],
   "source": [
    "import requests \n",
    "import urllib\n",
    "from bs4 import BeautifulSoup\n",
    "\n",
    "# desktop user-agent\n",
    "USER_AGENT = \"Mozilla/5.0 (Macintosh; Intel Mac OS X 10.14; rv:65.0) Gecko/20100101 Firefox/65.0\"\n",
    "# mobile user-agent\n",
    "MOBILE_USER_AGENT = \"Mozilla/5.0 (Linux; Android 7.0; SM-G930V Build/NRD90M) AppleWebKit/537.36 (KHTML, like Gecko) Chrome/59.0.3071.125 Mobile Safari/537.36\"\n",
    "\n",
    "def google(query):\n",
    "    query = query.replace(' ', '+')\n",
    "    URL = f\"https://google.com/search?q={query}&hl=en\"\n",
    "    \n",
    "    headers = {\"user-agent\" : USER_AGENT}\n",
    "    resp = requests.get(URL, headers=headers)\n",
    "    \n",
    "    if resp.status_code == 200:\n",
    "        soup = BeautifulSoup(resp.content, \"html.parser\")\n",
    "        for g in soup.find_all(\"div\", {\"class\": \"g\"}):\n",
    "            titles = g.find_all(\"h3\")\n",
    "            if titles:\n",
    "                text = titles[0].text\n",
    "                if \"Wikipedia\" in text:\n",
    "                    return text[:-12]\n",
    "                if \"Ballotpedia\" in text:\n",
    "                    return text[:-14]\n",
    "    if resp.status_code == 429:\n",
    "        print(\"Blocked!\")\n",
    "        return False\n",
    "    return query"
   ]
  },
  {
   "cell_type": "code",
   "execution_count": 28,
   "id": "82802ec1",
   "metadata": {},
   "outputs": [],
   "source": [
    "from tqdm import tqdm\n",
    "import time\n",
    "\n",
    "def google_triples(df):\n",
    "\n",
    "    # iterate list of list \n",
    "    for i, pair in enumerate(tqdm(df[[\"head\", \"tail\"]].values)):\n",
    "        h = google(pair[0])\n",
    "        t = google(pair[-1])\n",
    "        if not bool(h) and not bool(t):\n",
    "            return df\n",
    "        time.sleep(2.1)\n",
    "        df.at[i, 'head'] = h\n",
    "        df.at[i, 'tail'] = t\n",
    "    return df"
   ]
  },
  {
   "cell_type": "code",
   "execution_count": 262,
   "id": "e02ac34e",
   "metadata": {},
   "outputs": [],
   "source": [
    "t = \"Scott Walker (Singer)\""
   ]
  },
  {
   "cell_type": "code",
   "execution_count": 270,
   "id": "9d6a0098",
   "metadata": {},
   "outputs": [
    {
     "data": {
      "text/plain": [
       "'Scott Walker'"
      ]
     },
     "execution_count": 270,
     "metadata": {},
     "output_type": "execute_result"
    }
   ],
   "source": [
    "remove_par(t)"
   ]
  },
  {
   "cell_type": "code",
   "execution_count": 271,
   "id": "f6b10bc1",
   "metadata": {},
   "outputs": [
    {
     "data": {
      "text/plain": [
       "'Scott Walker'"
      ]
     },
     "execution_count": 271,
     "metadata": {},
     "output_type": "execute_result"
    }
   ],
   "source": [
    "re.sub(r'.\\(.*\\)', \"\", t)"
   ]
  },
  {
   "cell_type": "code",
   "execution_count": 272,
   "id": "577aabd3",
   "metadata": {},
   "outputs": [],
   "source": [
    "import re\n",
    "def remove_par(t):\n",
    "    return re.sub(r'.\\(.*\\)', \"\", t)"
   ]
  },
  {
   "cell_type": "code",
   "execution_count": 274,
   "id": "ada3b9f5",
   "metadata": {},
   "outputs": [],
   "source": [
    "def transform(df, name):\n",
    "    df = clean_df(df)\n",
    "    df = expand_df(df)\n",
    "    df = google_triples(df)\n",
    "    df['head'] = df[\"head\"].apply(lambda x: remove_par(x))\n",
    "    df['tail'] = df[\"tail\"].apply(lambda x: remove_par(x))\n",
    "    df.to_csv(\"./liar_dataset_triples/\" + name + \".csv\")"
   ]
  },
  {
   "cell_type": "code",
   "execution_count": 275,
   "id": "3c6da517",
   "metadata": {},
   "outputs": [],
   "source": [
    "train = pd.read_csv(\"./liar_dataset_triples/train.csv\", index_col=0)\n",
    "valid = pd.read_csv(\"./liar_dataset_triples/valid.csv\", index_col=0)\n",
    "test = pd.read_csv(\"./liar_dataset_triples/test.csv\", index_col=0)"
   ]
  },
  {
   "cell_type": "code",
   "execution_count": 276,
   "id": "2b968fd7",
   "metadata": {},
   "outputs": [
    {
     "name": "stderr",
     "output_type": "stream",
     "text": [
      "/usr/local/anaconda3/lib/python3.7/site-packages/ipykernel_launcher.py:3: SettingWithCopyWarning: \n",
      "A value is trying to be set on a copy of a slice from a DataFrame\n",
      "\n",
      "See the caveats in the documentation: https://pandas.pydata.org/pandas-docs/stable/user_guide/indexing.html#returning-a-view-versus-a-copy\n",
      "  This is separate from the ipykernel package so we can avoid doing imports until\n"
     ]
    },
    {
     "data": {
      "application/vnd.jupyter.widget-view+json": {
       "model_id": "16723ee5d1614b6281c806be2d4131ea",
       "version_major": 2,
       "version_minor": 0
      },
      "text/plain": [
       "HBox(children=(FloatProgress(value=0.0, max=453.0), HTML(value='')))"
      ]
     },
     "metadata": {},
     "output_type": "display_data"
    },
    {
     "name": "stdout",
     "output_type": "stream",
     "text": [
      "\n"
     ]
    },
    {
     "data": {
      "application/vnd.jupyter.widget-view+json": {
       "model_id": "80cc6f3e0a1741899b6a938710c0db9d",
       "version_major": 2,
       "version_minor": 0
      },
      "text/plain": [
       "HBox(children=(FloatProgress(value=0.0, max=178.0), HTML(value='')))"
      ]
     },
     "metadata": {},
     "output_type": "display_data"
    },
    {
     "name": "stdout",
     "output_type": "stream",
     "text": [
      "\n"
     ]
    },
    {
     "data": {
      "application/vnd.jupyter.widget-view+json": {
       "model_id": "673ac0194e6a478e8743be3527f5653d",
       "version_major": 2,
       "version_minor": 0
      },
      "text/plain": [
       "HBox(children=(FloatProgress(value=0.0, max=201.0), HTML(value='')))"
      ]
     },
     "metadata": {},
     "output_type": "display_data"
    },
    {
     "name": "stdout",
     "output_type": "stream",
     "text": [
      "\n"
     ]
    }
   ],
   "source": [
    "transform(train, \"train_google\")\n",
    "transform(valid, \"valid_google\")\n",
    "transform(test, \"test_google\")"
   ]
  },
  {
   "cell_type": "code",
   "execution_count": 277,
   "id": "732d6540",
   "metadata": {},
   "outputs": [],
   "source": [
    "google_train = pd.read_csv(\"./liar_dataset_triples/train_google.csv\", index_col=0)\n",
    "google_valid = pd.read_csv(\"./liar_dataset_triples/valid_google.csv\", index_col=0)\n",
    "google_test = pd.read_csv(\"./liar_dataset_triples/test_google.csv\", index_col=0)"
   ]
  },
  {
   "cell_type": "code",
   "execution_count": 286,
   "id": "353e71e6",
   "metadata": {},
   "outputs": [
    {
     "data": {
      "text/html": [
       "<div>\n",
       "<style scoped>\n",
       "    .dataframe tbody tr th:only-of-type {\n",
       "        vertical-align: middle;\n",
       "    }\n",
       "\n",
       "    .dataframe tbody tr th {\n",
       "        vertical-align: top;\n",
       "    }\n",
       "\n",
       "    .dataframe thead th {\n",
       "        text-align: right;\n",
       "    }\n",
       "</style>\n",
       "<table border=\"1\" class=\"dataframe\">\n",
       "  <thead>\n",
       "    <tr style=\"text-align: right;\">\n",
       "      <th></th>\n",
       "      <th>text_id</th>\n",
       "      <th>head</th>\n",
       "      <th>relation</th>\n",
       "      <th>tail</th>\n",
       "      <th>label</th>\n",
       "    </tr>\n",
       "  </thead>\n",
       "  <tbody>\n",
       "    <tr>\n",
       "      <th>0</th>\n",
       "      <td>6873.json</td>\n",
       "      <td>Barack Obama</td>\n",
       "      <td>people/person/employment_history./business/emp...</td>\n",
       "      <td>President of the United States</td>\n",
       "      <td>False</td>\n",
       "    </tr>\n",
       "    <tr>\n",
       "      <th>1</th>\n",
       "      <td>7976.json</td>\n",
       "      <td>Barack Obama</td>\n",
       "      <td>people/person/employment_history./business/emp...</td>\n",
       "      <td>President of the United States</td>\n",
       "      <td>True</td>\n",
       "    </tr>\n",
       "    <tr>\n",
       "      <th>2</th>\n",
       "      <td>2354.json</td>\n",
       "      <td>Kristi Thibaut</td>\n",
       "      <td>organization/role/leaders./organization/leader...</td>\n",
       "      <td>Acorn</td>\n",
       "      <td>True</td>\n",
       "    </tr>\n",
       "    <tr>\n",
       "      <th>3</th>\n",
       "      <td>2354.json</td>\n",
       "      <td>Kristi Thibaut</td>\n",
       "      <td>people/person/employment_history./business/emp...</td>\n",
       "      <td>State+Rep.</td>\n",
       "      <td>True</td>\n",
       "    </tr>\n",
       "    <tr>\n",
       "      <th>4</th>\n",
       "      <td>980.json</td>\n",
       "      <td>Timothy Geithner</td>\n",
       "      <td>people/person/employment_history./business/emp...</td>\n",
       "      <td>Secretary</td>\n",
       "      <td>False</td>\n",
       "    </tr>\n",
       "    <tr>\n",
       "      <th>...</th>\n",
       "      <td>...</td>\n",
       "      <td>...</td>\n",
       "      <td>...</td>\n",
       "      <td>...</td>\n",
       "      <td>...</td>\n",
       "    </tr>\n",
       "    <tr>\n",
       "      <th>448</th>\n",
       "      <td>1550.json</td>\n",
       "      <td>Perry</td>\n",
       "      <td>people/person/employment_history./business/emp...</td>\n",
       "      <td>.gov</td>\n",
       "      <td>True</td>\n",
       "    </tr>\n",
       "    <tr>\n",
       "      <th>449</th>\n",
       "      <td>6032.json</td>\n",
       "      <td>Stan Wise</td>\n",
       "      <td>organization/role/leaders./organization/leader...</td>\n",
       "      <td>Georgia Public Service Commission</td>\n",
       "      <td>True</td>\n",
       "    </tr>\n",
       "    <tr>\n",
       "      <th>450</th>\n",
       "      <td>3744.json</td>\n",
       "      <td>Barack Obama</td>\n",
       "      <td>people/person/employment_history./business/emp...</td>\n",
       "      <td>President of the United States</td>\n",
       "      <td>True</td>\n",
       "    </tr>\n",
       "    <tr>\n",
       "      <th>451</th>\n",
       "      <td>4388.json</td>\n",
       "      <td>Fung</td>\n",
       "      <td>people/person/employment_history./business/emp...</td>\n",
       "      <td>Mayor</td>\n",
       "      <td>False</td>\n",
       "    </tr>\n",
       "    <tr>\n",
       "      <th>452</th>\n",
       "      <td>3959.json</td>\n",
       "      <td>County</td>\n",
       "      <td>location/hud_county_place/county</td>\n",
       "      <td>Galveston, Texas</td>\n",
       "      <td>True</td>\n",
       "    </tr>\n",
       "  </tbody>\n",
       "</table>\n",
       "<p>453 rows × 5 columns</p>\n",
       "</div>"
      ],
      "text/plain": [
       "       text_id              head  \\\n",
       "0    6873.json      Barack Obama   \n",
       "1    7976.json      Barack Obama   \n",
       "2    2354.json    Kristi Thibaut   \n",
       "3    2354.json    Kristi Thibaut   \n",
       "4     980.json  Timothy Geithner   \n",
       "..         ...               ...   \n",
       "448  1550.json             Perry   \n",
       "449  6032.json         Stan Wise   \n",
       "450  3744.json      Barack Obama   \n",
       "451  4388.json              Fung   \n",
       "452  3959.json            County   \n",
       "\n",
       "                                              relation  \\\n",
       "0    people/person/employment_history./business/emp...   \n",
       "1    people/person/employment_history./business/emp...   \n",
       "2    organization/role/leaders./organization/leader...   \n",
       "3    people/person/employment_history./business/emp...   \n",
       "4    people/person/employment_history./business/emp...   \n",
       "..                                                 ...   \n",
       "448  people/person/employment_history./business/emp...   \n",
       "449  organization/role/leaders./organization/leader...   \n",
       "450  people/person/employment_history./business/emp...   \n",
       "451  people/person/employment_history./business/emp...   \n",
       "452                   location/hud_county_place/county   \n",
       "\n",
       "                                  tail  label  \n",
       "0       President of the United States  False  \n",
       "1       President of the United States   True  \n",
       "2                                Acorn   True  \n",
       "3                           State+Rep.   True  \n",
       "4                            Secretary  False  \n",
       "..                                 ...    ...  \n",
       "448                               .gov   True  \n",
       "449  Georgia Public Service Commission   True  \n",
       "450     President of the United States   True  \n",
       "451                              Mayor  False  \n",
       "452                   Galveston, Texas   True  \n",
       "\n",
       "[453 rows x 5 columns]"
      ]
     },
     "execution_count": 286,
     "metadata": {},
     "output_type": "execute_result"
    }
   ],
   "source": [
    "google_train"
   ]
  },
  {
   "cell_type": "code",
   "execution_count": 292,
   "id": "ce6396fc",
   "metadata": {},
   "outputs": [
    {
     "name": "stderr",
     "output_type": "stream",
     "text": [
      "/usr/local/anaconda3/lib/python3.7/site-packages/ipykernel_launcher.py:3: SettingWithCopyWarning: \n",
      "A value is trying to be set on a copy of a slice from a DataFrame\n",
      "\n",
      "See the caveats in the documentation: https://pandas.pydata.org/pandas-docs/stable/user_guide/indexing.html#returning-a-view-versus-a-copy\n",
      "  This is separate from the ipykernel package so we can avoid doing imports until\n",
      "/usr/local/anaconda3/lib/python3.7/site-packages/pandas/core/generic.py:5303: SettingWithCopyWarning: \n",
      "A value is trying to be set on a copy of a slice from a DataFrame.\n",
      "Try using .loc[row_indexer,col_indexer] = value instead\n",
      "\n",
      "See the caveats in the documentation: https://pandas.pydata.org/pandas-docs/stable/user_guide/indexing.html#returning-a-view-versus-a-copy\n",
      "  self[name] = value\n"
     ]
    }
   ],
   "source": [
    "o_train = clean_df(train)\n",
    "o_train = expand_df(o_train)\n",
    "o_valid = clean_df(valid)\n",
    "o_valid = expand_df(o_valid)\n",
    "o_test = clean_df(test)\n",
    "o_test = expand_df(o_test)"
   ]
  },
  {
   "cell_type": "code",
   "execution_count": 293,
   "id": "4da42e98",
   "metadata": {},
   "outputs": [],
   "source": [
    "google_train[\"o_head\"] = o_train[\"head\"]\n",
    "google_train[\"o_tail\"] = o_train[\"tail\"]\n",
    "google_valid[\"o_head\"] = o_valid[\"head\"]\n",
    "google_valid[\"o_tail\"] = o_valid[\"tail\"]\n",
    "google_test[\"o_head\"] = o_test[\"head\"]\n",
    "google_test[\"o_tail\"] = o_test[\"tail\"]"
   ]
  },
  {
   "cell_type": "code",
   "execution_count": 303,
   "id": "41e426b5",
   "metadata": {},
   "outputs": [
    {
     "ename": "TypeError",
     "evalue": "to_csv() got an unexpected keyword argument 'index_col'",
     "output_type": "error",
     "traceback": [
      "\u001b[0;31m---------------------------------------------------------------------------\u001b[0m",
      "\u001b[0;31mTypeError\u001b[0m                                 Traceback (most recent call last)",
      "\u001b[0;32m<ipython-input-303-d31c07724998>\u001b[0m in \u001b[0;36m<module>\u001b[0;34m\u001b[0m\n\u001b[0;32m----> 1\u001b[0;31m \u001b[0mgoogle_train\u001b[0m\u001b[0;34m.\u001b[0m\u001b[0mto_csv\u001b[0m\u001b[0;34m(\u001b[0m\u001b[0;34m\"./liar_dataset_triples/train_cleaning.csv\"\u001b[0m\u001b[0;34m,\u001b[0m \u001b[0mindex_col\u001b[0m\u001b[0;34m=\u001b[0m\u001b[0;36m0\u001b[0m\u001b[0;34m)\u001b[0m\u001b[0;34m\u001b[0m\u001b[0;34m\u001b[0m\u001b[0m\n\u001b[0m\u001b[1;32m      2\u001b[0m \u001b[0mgoogle_valid\u001b[0m\u001b[0;34m.\u001b[0m\u001b[0mto_csv\u001b[0m\u001b[0;34m(\u001b[0m\u001b[0;34m\"./liar_dataset_triples/valid_cleaning.csv\"\u001b[0m\u001b[0;34m,\u001b[0m \u001b[0mindex_col\u001b[0m\u001b[0;34m=\u001b[0m\u001b[0;36m0\u001b[0m\u001b[0;34m)\u001b[0m\u001b[0;34m\u001b[0m\u001b[0;34m\u001b[0m\u001b[0m\n\u001b[1;32m      3\u001b[0m \u001b[0mgoogle_test\u001b[0m\u001b[0;34m.\u001b[0m\u001b[0mto_csv\u001b[0m\u001b[0;34m(\u001b[0m\u001b[0;34m\"./liar_dataset_triples/test_cleaning.csv\"\u001b[0m\u001b[0;34m,\u001b[0m \u001b[0mindex_col\u001b[0m\u001b[0;34m=\u001b[0m\u001b[0;36m0\u001b[0m\u001b[0;34m)\u001b[0m\u001b[0;34m\u001b[0m\u001b[0;34m\u001b[0m\u001b[0m\n",
      "\u001b[0;31mTypeError\u001b[0m: to_csv() got an unexpected keyword argument 'index_col'"
     ]
    }
   ],
   "source": [
    "google_train.to_csv(\"./liar_dataset_triples/train_cleaning.csv\")\n",
    "google_valid.to_csv(\"./liar_dataset_triples/valid_cleaning.csv\")\n",
    "google_test.to_csv(\"./liar_dataset_triples/test_cleaning.csv\")"
   ]
  },
  {
   "cell_type": "code",
   "execution_count": 361,
   "id": "c4d6f0fc",
   "metadata": {},
   "outputs": [],
   "source": [
    "test_fix = pd.read_csv(\"./liar_dataset_triples/test_fix_1.csv\", sep=\";\", header=0,  error_bad_lines=False)"
   ]
  },
  {
   "cell_type": "code",
   "execution_count": 367,
   "id": "dff0e758",
   "metadata": {},
   "outputs": [],
   "source": [
    "def add_hash(df):\n",
    "    fb_hash = []\n",
    "    for h in df['head'].values:\n",
    "        fb = common_to_fb(h)\n",
    "        if not \"/m/\" in fb:\n",
    "            fb_hash.append(h)\n",
    "        else:\n",
    "            fb_hash.append(fb)\n",
    "    df[\"fb_head\"] = fb_hash\n",
    "    fb_hash = []\n",
    "    for t in df['tail'].values:\n",
    "        fb = common_to_fb(t)\n",
    "        if not \"/m/\" in fb:\n",
    "            fb_hash.append(t)\n",
    "        else:\n",
    "            fb_hash.append(fb)\n",
    "    df[\"fb_tail\"] = fb_hash\n",
    "    return df"
   ]
  },
  {
   "cell_type": "code",
   "execution_count": 363,
   "id": "82a23f5a",
   "metadata": {},
   "outputs": [],
   "source": [
    "test_fix = add_hash(test_fix)"
   ]
  },
  {
   "cell_type": "code",
   "execution_count": 368,
   "id": "ee9e62f0",
   "metadata": {},
   "outputs": [],
   "source": [
    "valid_fix = add_hash(google_valid)"
   ]
  },
  {
   "cell_type": "code",
   "execution_count": 369,
   "id": "4392e841",
   "metadata": {},
   "outputs": [],
   "source": [
    "train_fix = add_hash(google_train)"
   ]
  },
  {
   "cell_type": "code",
   "execution_count": 370,
   "id": "6ce20117",
   "metadata": {},
   "outputs": [],
   "source": [
    "train_fix.to_csv(\"./liar_dataset_triples/train_processed.csv\")\n",
    "valid_fix.to_csv(\"./liar_dataset_triples/valid_processed.csv\")\n",
    "test_fix.to_csv(\"./liar_dataset_triples/test_processed.csv\")"
   ]
  },
  {
   "cell_type": "code",
   "execution_count": 433,
   "id": "e3e7acad",
   "metadata": {},
   "outputs": [],
   "source": [
    "valid_fix = pd.read_csv(\"./liar_dataset_triples/valid_processed.csv\", index_col=0, header=0,  error_bad_lines=False)"
   ]
  },
  {
   "cell_type": "code",
   "execution_count": 53,
   "id": "a0bb3bd2",
   "metadata": {},
   "outputs": [],
   "source": [
    "test_fix = pd.read_csv(\"./liar_dataset_triples/test_hashed.csv\", sep=\";\", header=0,  error_bad_lines=False)"
   ]
  },
  {
   "cell_type": "code",
   "execution_count": 435,
   "id": "57e96552",
   "metadata": {},
   "outputs": [],
   "source": [
    "valid_fix = valid_fix.replace(\"Gov.\", \"governor\")\n",
    "valid_fix = valid_fix.replace(\".gov\", \"governor\")\n",
    "valid_fix = valid_fix.replace(\"Governor\", \"governor\")"
   ]
  },
  {
   "cell_type": "code",
   "execution_count": 437,
   "id": "5716233b",
   "metadata": {},
   "outputs": [],
   "source": [
    "for i in range(valid_fix.shape[0]-1):\n",
    "    if sum(test_fix['head'] == valid_fix.at[i, 'head']) > 0:\n",
    "        valid_fix.at[i, 'fb_head'] = test_fix[test_fix['head'] == valid_fix.at[i, 'head']]['fb_head'].values[0]\n",
    "        \n",
    "    if sum(test_fix['tail'] == valid_fix.at[i, 'tail']) > 0:\n",
    "        valid_fix.at[i, 'fb_tail'] = test_fix[test_fix['tail'] == valid_fix.at[i, 'tail']]['fb_tail'].values[0]"
   ]
  },
  {
   "cell_type": "code",
   "execution_count": 444,
   "id": "fde54c14",
   "metadata": {},
   "outputs": [],
   "source": [
    "valid_fix.to_csv(\"./liar_dataset_triples/valid_hashed.csv\")"
   ]
  },
  {
   "cell_type": "code",
   "execution_count": 455,
   "id": "f75f27cf",
   "metadata": {},
   "outputs": [],
   "source": [
    "train_fix = train_fix.replace(\"Gov.\", \"governor\")\n",
    "train_fix = train_fix.replace(\".gov\", \"governor\")\n",
    "train_fix = train_fix.replace(\"Governor\", \"governor\")"
   ]
  },
  {
   "cell_type": "code",
   "execution_count": 471,
   "id": "9b3aa509",
   "metadata": {},
   "outputs": [
    {
     "data": {
      "text/plain": [
       "'Chris Christie'"
      ]
     },
     "execution_count": 471,
     "metadata": {},
     "output_type": "execute_result"
    }
   ],
   "source": [
    "fb_to_common(\"/m/0f8t6k\")"
   ]
  },
  {
   "cell_type": "code",
   "execution_count": 456,
   "id": "e420c6ef",
   "metadata": {},
   "outputs": [],
   "source": [
    "for i in range(train_fix.shape[0]-1):\n",
    "    if sum(valid_fix['head'] == train_fix.at[i, 'head']) > 0:\n",
    "        train_fix.at[i, 'fb_head'] = valid_fix[valid_fix['head'] == train_fix.at[i, 'head']]['fb_head'].values[0]\n",
    "        \n",
    "    if sum(valid_fix['tail'] == train_fix.at[i, 'tail']) > 0:\n",
    "        train_fix.at[i, 'fb_tail'] = valid_fix[valid_fix['tail'] == train_fix.at[i, 'tail']]['fb_tail'].values[0]"
   ]
  },
  {
   "cell_type": "code",
   "execution_count": 457,
   "id": "0a2f8537",
   "metadata": {},
   "outputs": [],
   "source": [
    "train_fix.to_csv(\"./liar_dataset_triples/train_hashed.csv\")"
   ]
  },
  {
   "cell_type": "code",
   "execution_count": 474,
   "id": "e10f9f40",
   "metadata": {},
   "outputs": [
    {
     "data": {
      "text/plain": [
       "array(['As Virginias governor, Allen cut spending and waste with bipartisan support.'],\n",
       "      dtype=object)"
      ]
     },
     "execution_count": 474,
     "metadata": {},
     "output_type": "execute_result"
    }
   ],
   "source": [
    "train[train.id == \"5401.json\"].text.values"
   ]
  },
  {
   "cell_type": "markdown",
   "id": "c0d9a475",
   "metadata": {},
   "source": [
    "# FakeNewsNet "
   ]
  },
  {
   "cell_type": "code",
   "execution_count": 10,
   "id": "83c4896e",
   "metadata": {},
   "outputs": [],
   "source": [
    "paths = glob(\"./fakenewsnet/*/*/*\")"
   ]
  },
  {
   "cell_type": "code",
   "execution_count": 11,
   "id": "78dbbe85",
   "metadata": {},
   "outputs": [],
   "source": [
    "df = pd.DataFrame(columns=[\"text\", \"source\", \"label\"])"
   ]
  },
  {
   "cell_type": "code",
   "execution_count": 12,
   "id": "7f936e0b",
   "metadata": {},
   "outputs": [],
   "source": [
    "def get_content(data):\n",
    "    text = data['text']\n",
    "    label = \"false\" if (path.split(\"\\\\\")[-2] == \"FakeNewsContent\") else \"true\"\n",
    "    source = path.split(\"\\\\\")[1]\n",
    "    return {\"text\":text, \"source\": source, \"label\": label}"
   ]
  },
  {
   "cell_type": "code",
   "execution_count": 14,
   "id": "8fa4a613",
   "metadata": {},
   "outputs": [
    {
     "name": "stderr",
     "output_type": "stream",
     "text": [
      "100%|███████████████████████████████████████████████████████████████████████████████| 422/422 [00:02<00:00, 150.19it/s]\n"
     ]
    }
   ],
   "source": [
    "from tqdm import tqdm\n",
    "import json\n",
    "for path in tqdm(paths):\n",
    "    with open(path) as f:\n",
    "        data = json.load(f)\n",
    "    content = get_content(data)\n",
    "    df = df.append(content, ignore_index=True)"
   ]
  },
  {
   "cell_type": "code",
   "execution_count": 15,
   "id": "0a4c2ebb",
   "metadata": {},
   "outputs": [
    {
     "name": "stdout",
     "output_type": "stream",
     "text": [
      "\n",
      "    BuzzFeed:\n",
      "    num articles: 182,\n",
      "        false: 91,\n",
      "        true: 91\n",
      "    \n",
      "    PolitiFact:\n",
      "    num articles: 240,\n",
      "        false: 120,\n",
      "        true: 120\n",
      "\n"
     ]
    }
   ],
   "source": [
    "buzzfeed = df[df.source == \"BuzzFeed\"]\n",
    "politifact = df[df.source == \"PolitiFact\"]\n",
    "print(f\"\"\"\n",
    "    BuzzFeed:\n",
    "    num articles: {buzzfeed.shape[0]},\n",
    "        false: {sum(buzzfeed.label == \"false\")},\n",
    "        true: {sum(buzzfeed.label == \"true\")}\n",
    "    \n",
    "    PolitiFact:\n",
    "    num articles: {politifact.shape[0]},\n",
    "        false: {sum(politifact.label == \"false\")},\n",
    "        true: {sum(politifact.label == \"true\")}\n",
    "\"\"\")"
   ]
  },
  {
   "cell_type": "code",
   "execution_count": 461,
   "id": "6470e011",
   "metadata": {},
   "outputs": [],
   "source": [
    "df.to_csv(\"./fakenewsnet/clean_fakenewsnet.csv\")"
   ]
  },
  {
   "cell_type": "code",
   "execution_count": 19,
   "id": "d355b482",
   "metadata": {},
   "outputs": [
    {
     "data": {
      "text/plain": [
       "text                \n",
       "source    PolitiFact\n",
       "label          false\n",
       "Name: 219, dtype: object"
      ]
     },
     "execution_count": 19,
     "metadata": {},
     "output_type": "execute_result"
    }
   ],
   "source": [
    "df.iloc[219]"
   ]
  },
  {
   "cell_type": "markdown",
   "id": "5290c450",
   "metadata": {},
   "source": [
    "## inspection"
   ]
  },
  {
   "cell_type": "code",
   "execution_count": 3,
   "id": "24660c13",
   "metadata": {},
   "outputs": [],
   "source": [
    "df = pd.read_csv(\"./fakenewsnet/clean_fakenewsnet.csv\", index_col=0)"
   ]
  },
  {
   "cell_type": "code",
   "execution_count": 4,
   "id": "81d2713a",
   "metadata": {},
   "outputs": [],
   "source": [
    "df = df.dropna()"
   ]
  },
  {
   "cell_type": "code",
   "execution_count": 5,
   "id": "0c06bf75",
   "metadata": {},
   "outputs": [],
   "source": [
    "df[\"source\"] = df[\"source\"].replace(\"BuzzFeed\", \"GossipCop\")"
   ]
  },
  {
   "cell_type": "code",
   "execution_count": 6,
   "id": "ed0bf4d8",
   "metadata": {},
   "outputs": [
    {
     "data": {
      "text/plain": [
       "0      5.190385\n",
       "1      5.772414\n",
       "2      4.894737\n",
       "3      5.136364\n",
       "4      5.400000\n",
       "         ...   \n",
       "417    5.069751\n",
       "418    4.820449\n",
       "419    5.000963\n",
       "420    5.000000\n",
       "421    5.771084\n",
       "Name: text, Length: 420, dtype: float64"
      ]
     },
     "execution_count": 6,
     "metadata": {},
     "output_type": "execute_result"
    }
   ],
   "source": [
    "df.text.apply(lambda x: sum(map(len, x.split(\" \")))/float(len(x.split(\" \"))))"
   ]
  },
  {
   "cell_type": "code",
   "execution_count": 7,
   "id": "e4ba1c6a",
   "metadata": {},
   "outputs": [],
   "source": [
    "df[\"word_count\"] = df.text.apply(lambda x: len(x.split(\" \")))\n",
    "df[\"avg_word_length\"] = df.text.apply(lambda x: sum(map(len, x.split(\" \")))/float(len(x.split(\" \"))))"
   ]
  },
  {
   "cell_type": "code",
   "execution_count": 8,
   "id": "e356e6af",
   "metadata": {},
   "outputs": [
    {
     "data": {
      "text/html": [
       "<div>\n",
       "<style scoped>\n",
       "    .dataframe tbody tr th:only-of-type {\n",
       "        vertical-align: middle;\n",
       "    }\n",
       "\n",
       "    .dataframe tbody tr th {\n",
       "        vertical-align: top;\n",
       "    }\n",
       "\n",
       "    .dataframe thead th {\n",
       "        text-align: right;\n",
       "    }\n",
       "</style>\n",
       "<table border=\"1\" class=\"dataframe\">\n",
       "  <thead>\n",
       "    <tr style=\"text-align: right;\">\n",
       "      <th></th>\n",
       "      <th>text</th>\n",
       "      <th>source</th>\n",
       "      <th>label</th>\n",
       "      <th>word_count</th>\n",
       "      <th>avg_word_length</th>\n",
       "    </tr>\n",
       "  </thead>\n",
       "  <tbody>\n",
       "    <tr>\n",
       "      <th>0</th>\n",
       "      <td>I woke up this morning to find a variation of ...</td>\n",
       "      <td>GossipCop</td>\n",
       "      <td>False</td>\n",
       "      <td>520</td>\n",
       "      <td>5.190385</td>\n",
       "    </tr>\n",
       "    <tr>\n",
       "      <th>1</th>\n",
       "      <td>Former President Bill Clinton and his Clinton ...</td>\n",
       "      <td>GossipCop</td>\n",
       "      <td>False</td>\n",
       "      <td>1305</td>\n",
       "      <td>5.772414</td>\n",
       "    </tr>\n",
       "    <tr>\n",
       "      <th>2</th>\n",
       "      <td>After collapsing just before trying to step in...</td>\n",
       "      <td>GossipCop</td>\n",
       "      <td>False</td>\n",
       "      <td>589</td>\n",
       "      <td>4.894737</td>\n",
       "    </tr>\n",
       "    <tr>\n",
       "      <th>3</th>\n",
       "      <td>Donald Trump is, well, deplorable. He’s sugges...</td>\n",
       "      <td>GossipCop</td>\n",
       "      <td>False</td>\n",
       "      <td>726</td>\n",
       "      <td>5.136364</td>\n",
       "    </tr>\n",
       "    <tr>\n",
       "      <th>4</th>\n",
       "      <td>Website is Down For Maintenance</td>\n",
       "      <td>GossipCop</td>\n",
       "      <td>False</td>\n",
       "      <td>5</td>\n",
       "      <td>5.400000</td>\n",
       "    </tr>\n",
       "    <tr>\n",
       "      <th>...</th>\n",
       "      <td>...</td>\n",
       "      <td>...</td>\n",
       "      <td>...</td>\n",
       "      <td>...</td>\n",
       "      <td>...</td>\n",
       "    </tr>\n",
       "    <tr>\n",
       "      <th>417</th>\n",
       "      <td>KALLSTADT, Germany — Few places in Germany are...</td>\n",
       "      <td>PolitiFact</td>\n",
       "      <td>True</td>\n",
       "      <td>1448</td>\n",
       "      <td>5.069751</td>\n",
       "    </tr>\n",
       "    <tr>\n",
       "      <th>418</th>\n",
       "      <td>Hollywood loses yet another one of their deare...</td>\n",
       "      <td>PolitiFact</td>\n",
       "      <td>True</td>\n",
       "      <td>401</td>\n",
       "      <td>4.820449</td>\n",
       "    </tr>\n",
       "    <tr>\n",
       "      <th>419</th>\n",
       "      <td>As my 25th wedding anniversary approached, I t...</td>\n",
       "      <td>PolitiFact</td>\n",
       "      <td>True</td>\n",
       "      <td>2077</td>\n",
       "      <td>5.000963</td>\n",
       "    </tr>\n",
       "    <tr>\n",
       "      <th>420</th>\n",
       "      <td>Story highlights Trump was sitting in a chair ...</td>\n",
       "      <td>PolitiFact</td>\n",
       "      <td>True</td>\n",
       "      <td>220</td>\n",
       "      <td>5.000000</td>\n",
       "    </tr>\n",
       "    <tr>\n",
       "      <th>421</th>\n",
       "      <td>Donald Trump Jr., a son of the Republican pres...</td>\n",
       "      <td>PolitiFact</td>\n",
       "      <td>True</td>\n",
       "      <td>249</td>\n",
       "      <td>5.771084</td>\n",
       "    </tr>\n",
       "  </tbody>\n",
       "</table>\n",
       "<p>420 rows × 5 columns</p>\n",
       "</div>"
      ],
      "text/plain": [
       "                                                  text      source  label  \\\n",
       "0    I woke up this morning to find a variation of ...   GossipCop  False   \n",
       "1    Former President Bill Clinton and his Clinton ...   GossipCop  False   \n",
       "2    After collapsing just before trying to step in...   GossipCop  False   \n",
       "3    Donald Trump is, well, deplorable. He’s sugges...   GossipCop  False   \n",
       "4                      Website is Down For Maintenance   GossipCop  False   \n",
       "..                                                 ...         ...    ...   \n",
       "417  KALLSTADT, Germany — Few places in Germany are...  PolitiFact   True   \n",
       "418  Hollywood loses yet another one of their deare...  PolitiFact   True   \n",
       "419  As my 25th wedding anniversary approached, I t...  PolitiFact   True   \n",
       "420  Story highlights Trump was sitting in a chair ...  PolitiFact   True   \n",
       "421  Donald Trump Jr., a son of the Republican pres...  PolitiFact   True   \n",
       "\n",
       "     word_count  avg_word_length  \n",
       "0           520         5.190385  \n",
       "1          1305         5.772414  \n",
       "2           589         4.894737  \n",
       "3           726         5.136364  \n",
       "4             5         5.400000  \n",
       "..          ...              ...  \n",
       "417        1448         5.069751  \n",
       "418         401         4.820449  \n",
       "419        2077         5.000963  \n",
       "420         220         5.000000  \n",
       "421         249         5.771084  \n",
       "\n",
       "[420 rows x 5 columns]"
      ]
     },
     "execution_count": 8,
     "metadata": {},
     "output_type": "execute_result"
    }
   ],
   "source": [
    "df"
   ]
  },
  {
   "cell_type": "code",
   "execution_count": 258,
   "id": "980f359c",
   "metadata": {},
   "outputs": [],
   "source": [
    "df = df[df.word_count >10]"
   ]
  },
  {
   "cell_type": "code",
   "execution_count": 280,
   "id": "ed8bf5e7",
   "metadata": {},
   "outputs": [],
   "source": [
    "import re\n",
    "def clean_text(text):\n",
    "    return re.sub(\"[^a-zA-Z0-9.,]\", \" \", text)"
   ]
  },
  {
   "cell_type": "code",
   "execution_count": 290,
   "id": "3d301409",
   "metadata": {},
   "outputs": [],
   "source": [
    "from nltk.corpus import stopwords\n",
    "import gensim\n",
    "from gensim.utils import simple_preprocess\n",
    "stop_words = stopwords.words('english')\n",
    "stop_words.extend(['from', 'subject', 're', 'edu', 'use'])"
   ]
  },
  {
   "cell_type": "code",
   "execution_count": 291,
   "id": "b349a33f",
   "metadata": {},
   "outputs": [
    {
     "name": "stderr",
     "output_type": "stream",
     "text": [
      "/Users/oddgunnaraspaas/Personal/text2rdf/plotenv/lib/python3.7/site-packages/ipykernel_launcher.py:5: SettingWithCopyWarning: \n",
      "A value is trying to be set on a copy of a slice from a DataFrame.\n",
      "Try using .loc[row_indexer,col_indexer] = value instead\n",
      "\n",
      "See the caveats in the documentation: https://pandas.pydata.org/pandas-docs/stable/user_guide/indexing.html#returning-a-view-versus-a-copy\n",
      "  \"\"\"\n",
      "/Users/oddgunnaraspaas/Personal/text2rdf/plotenv/lib/python3.7/site-packages/ipykernel_launcher.py:8: SettingWithCopyWarning: \n",
      "A value is trying to be set on a copy of a slice from a DataFrame.\n",
      "Try using .loc[row_indexer,col_indexer] = value instead\n",
      "\n",
      "See the caveats in the documentation: https://pandas.pydata.org/pandas-docs/stable/user_guide/indexing.html#returning-a-view-versus-a-copy\n",
      "  \n"
     ]
    },
    {
     "data": {
      "text/plain": [
       "0    i woke up this morning to find a variation of ...\n",
       "1    former president bill clinton and his clinton ...\n",
       "2    after collapsing just before trying to step in...\n",
       "3    donald trump is well deplorable he s suggested...\n",
       "5    when president obama spoke at the united natio...\n",
       "Name: paper_text_processed, dtype: object"
      ]
     },
     "execution_count": 291,
     "metadata": {},
     "output_type": "execute_result"
    }
   ],
   "source": [
    "# Load the regular expression library\n",
    "import re\n",
    "# Remove punctuation\n",
    "df['paper_text_processed'] = \\\n",
    "df['text'].map(lambda x: re.sub('[,\\.!?]', '', x))\n",
    "# Convert the titles to lowercase\n",
    "df['paper_text_processed'] = \\\n",
    "df['paper_text_processed'].map(lambda x: x.lower())\n",
    "# Print out the first rows of papers\n",
    "df['paper_text_processed'].head()"
   ]
  },
  {
   "cell_type": "code",
   "execution_count": 292,
   "id": "990f1270",
   "metadata": {},
   "outputs": [
    {
     "ename": "ModuleNotFoundError",
     "evalue": "No module named 'wordcloud'",
     "output_type": "error",
     "traceback": [
      "\u001b[0;31m---------------------------------------------------------------------------\u001b[0m",
      "\u001b[0;31mModuleNotFoundError\u001b[0m                       Traceback (most recent call last)",
      "\u001b[0;32m<ipython-input-292-227c4168a74c>\u001b[0m in \u001b[0;36m<module>\u001b[0;34m\u001b[0m\n\u001b[1;32m      1\u001b[0m \u001b[0;31m# Import the wordcloud library\u001b[0m\u001b[0;34m\u001b[0m\u001b[0;34m\u001b[0m\u001b[0;34m\u001b[0m\u001b[0m\n\u001b[0;32m----> 2\u001b[0;31m \u001b[0;32mfrom\u001b[0m \u001b[0mwordcloud\u001b[0m \u001b[0;32mimport\u001b[0m \u001b[0mWordCloud\u001b[0m\u001b[0;34m\u001b[0m\u001b[0;34m\u001b[0m\u001b[0m\n\u001b[0m\u001b[1;32m      3\u001b[0m \u001b[0;31m# Join the different processed titles together.\u001b[0m\u001b[0;34m\u001b[0m\u001b[0;34m\u001b[0m\u001b[0;34m\u001b[0m\u001b[0m\n\u001b[1;32m      4\u001b[0m \u001b[0mlong_string\u001b[0m \u001b[0;34m=\u001b[0m \u001b[0;34m','\u001b[0m\u001b[0;34m.\u001b[0m\u001b[0mjoin\u001b[0m\u001b[0;34m(\u001b[0m\u001b[0mlist\u001b[0m\u001b[0;34m(\u001b[0m\u001b[0mdf\u001b[0m\u001b[0;34m[\u001b[0m\u001b[0;34m'paper_text_processed'\u001b[0m\u001b[0;34m]\u001b[0m\u001b[0;34m.\u001b[0m\u001b[0mvalues\u001b[0m\u001b[0;34m)\u001b[0m\u001b[0;34m)\u001b[0m\u001b[0;34m\u001b[0m\u001b[0;34m\u001b[0m\u001b[0m\n\u001b[1;32m      5\u001b[0m \u001b[0;31m# Create a WordCloud object\u001b[0m\u001b[0;34m\u001b[0m\u001b[0;34m\u001b[0m\u001b[0;34m\u001b[0m\u001b[0m\n",
      "\u001b[0;31mModuleNotFoundError\u001b[0m: No module named 'wordcloud'"
     ]
    }
   ],
   "source": [
    "# Import the wordcloud library\n",
    "from wordcloud import WordCloud\n",
    "# Join the different processed titles together.\n",
    "long_string = ','.join(list(df['paper_text_processed'].values))\n",
    "# Create a WordCloud object\n",
    "wordcloud = WordCloud(background_color=\"white\", max_words=5000, contour_width=3, contour_color='steelblue')\n",
    "# Generate a word cloud\n",
    "wordcloud.generate(long_string)\n",
    "# Visualize the word cloud\n",
    "wordcloud.to_image()"
   ]
  },
  {
   "cell_type": "code",
   "execution_count": 293,
   "id": "9b7e5d91",
   "metadata": {},
   "outputs": [
    {
     "name": "stdout",
     "output_type": "stream",
     "text": [
      "['woke', 'morning', 'find', 'variation', 'headline', 'splashed', 'news', 'feed', 'bill', 'clinton', 'natural', 'foundation', 'donors', 'seek', 'favors', 'google', 'naturally', 'reaction', 'oh', 'bill', 'clinton', 'damage', 'wife', 'campaign', 'course', 'headline', 'sounds', 'really', 'really', 'awful']\n"
     ]
    }
   ],
   "source": [
    "def sent_to_words(sentences):\n",
    "    for sentence in sentences:\n",
    "        # deacc=True removes punctuations\n",
    "        yield(gensim.utils.simple_preprocess(str(sentence), deacc=True))\n",
    "def remove_stopwords(texts):\n",
    "    return [[word for word in simple_preprocess(str(doc)) \n",
    "             if word not in stop_words] for doc in texts]\n",
    "data = df.paper_text_processed.values.tolist()\n",
    "data_words = list(sent_to_words(data))\n",
    "# remove stop words\n",
    "data_words = remove_stopwords(data_words)\n",
    "print(data_words[:1][0][:30])"
   ]
  },
  {
   "cell_type": "code",
   "execution_count": 294,
   "id": "6a93d918",
   "metadata": {},
   "outputs": [
    {
     "name": "stdout",
     "output_type": "stream",
     "text": [
      "[(0, 1), (1, 1), (2, 1), (3, 1), (4, 2), (5, 1), (6, 1), (7, 1), (8, 1), (9, 2), (10, 1), (11, 1), (12, 1), (13, 1), (14, 1), (15, 1), (16, 1), (17, 2), (18, 1), (19, 1), (20, 1), (21, 2), (22, 1), (23, 1), (24, 1), (25, 1), (26, 4), (27, 1), (28, 11), (29, 1)]\n"
     ]
    }
   ],
   "source": [
    "import gensim.corpora as corpora\n",
    "# Create Dictionary\n",
    "id2word = corpora.Dictionary(data_words)\n",
    "# Create Corpus\n",
    "texts = data_words\n",
    "# Term Document Frequency\n",
    "corpus = [id2word.doc2bow(text) for text in texts]\n",
    "# View\n",
    "print(corpus[:1][0][:30])"
   ]
  },
  {
   "cell_type": "code",
   "execution_count": 295,
   "id": "8b497893",
   "metadata": {},
   "outputs": [
    {
     "name": "stdout",
     "output_type": "stream",
     "text": [
      "[(0,\n",
      "  '0.012*\"trump\" + 0.007*\"said\" + 0.007*\"clinton\" + 0.005*\"president\" + '\n",
      "  '0.005*\"one\" + 0.004*\"would\" + 0.004*\"police\" + 0.004*\"obama\" + 0.003*\"us\" + '\n",
      "  '0.003*\"new\"'),\n",
      " (1,\n",
      "  '0.014*\"trump\" + 0.007*\"clinton\" + 0.006*\"said\" + 0.005*\"donald\" + '\n",
      "  '0.004*\"president\" + 0.004*\"would\" + 0.004*\"one\" + 0.003*\"people\" + '\n",
      "  '0.003*\"hillary\" + 0.003*\"also\"'),\n",
      " (2,\n",
      "  '0.019*\"trump\" + 0.008*\"clinton\" + 0.006*\"said\" + 0.005*\"one\" + '\n",
      "  '0.004*\"would\" + 0.004*\"donald\" + 0.004*\"hillary\" + 0.004*\"new\" + '\n",
      "  '0.004*\"first\" + 0.004*\"president\"'),\n",
      " (3,\n",
      "  '0.011*\"trump\" + 0.009*\"clinton\" + 0.008*\"said\" + 0.006*\"president\" + '\n",
      "  '0.004*\"hillary\" + 0.004*\"obama\" + 0.003*\"new\" + 0.003*\"one\" + '\n",
      "  '0.003*\"people\" + 0.003*\"us\"'),\n",
      " (4,\n",
      "  '0.009*\"trump\" + 0.008*\"said\" + 0.004*\"would\" + 0.004*\"us\" + 0.004*\"one\" + '\n",
      "  '0.004*\"clinton\" + 0.004*\"new\" + 0.004*\"like\" + 0.004*\"people\" + '\n",
      "  '0.003*\"president\"'),\n",
      " (5,\n",
      "  '0.016*\"trump\" + 0.007*\"said\" + 0.006*\"clinton\" + 0.005*\"people\" + '\n",
      "  '0.004*\"president\" + 0.004*\"would\" + 0.004*\"one\" + 0.004*\"us\" + '\n",
      "  '0.004*\"donald\" + 0.003*\"hillary\"'),\n",
      " (6,\n",
      "  '0.012*\"trump\" + 0.007*\"clinton\" + 0.006*\"said\" + 0.005*\"people\" + '\n",
      "  '0.005*\"us\" + 0.005*\"hillary\" + 0.004*\"one\" + 0.004*\"would\" + '\n",
      "  '0.003*\"president\" + 0.003*\"new\"'),\n",
      " (7,\n",
      "  '0.017*\"trump\" + 0.010*\"clinton\" + 0.008*\"said\" + 0.006*\"obama\" + '\n",
      "  '0.005*\"hillary\" + 0.005*\"would\" + 0.005*\"president\" + 0.005*\"one\" + '\n",
      "  '0.005*\"debate\" + 0.004*\"people\"'),\n",
      " (8,\n",
      "  '0.010*\"trump\" + 0.006*\"clinton\" + 0.006*\"said\" + 0.005*\"people\" + '\n",
      "  '0.004*\"one\" + 0.004*\"president\" + 0.004*\"us\" + 0.004*\"would\" + 0.004*\"new\" '\n",
      "  '+ 0.003*\"donald\"'),\n",
      " (9,\n",
      "  '0.013*\"trump\" + 0.011*\"said\" + 0.006*\"clinton\" + 0.005*\"president\" + '\n",
      "  '0.005*\"one\" + 0.005*\"people\" + 0.004*\"new\" + 0.004*\"us\" + 0.004*\"obama\" + '\n",
      "  '0.004*\"also\"')]\n"
     ]
    }
   ],
   "source": [
    "from pprint import pprint\n",
    "# number of topics\n",
    "num_topics = 10\n",
    "# Build LDA model\n",
    "lda_model = gensim.models.LdaMulticore(corpus=corpus,\n",
    "                                       id2word=id2word,\n",
    "                                       num_topics=num_topics)\n",
    "# Print the Keyword in the 10 topics\n",
    "pprint(lda_model.print_topics())\n",
    "doc_lda = lda_model[corpus]"
   ]
  },
  {
   "cell_type": "code",
   "execution_count": 304,
   "id": "9c6deae6",
   "metadata": {},
   "outputs": [
    {
     "name": "stderr",
     "output_type": "stream",
     "text": [
      "/Users/oddgunnaraspaas/Personal/text2rdf/plotenv/lib/python3.7/site-packages/ipykernel/ipkernel.py:283: DeprecationWarning: `should_run_async` will not call `transform_cell` automatically in the future. Please pass the result to `transformed_cell` argument and any exception that happen during thetransform in `preprocessing_exc_tuple` in IPython 7.17 and above.\n",
      "  and should_run_async(code)\n"
     ]
    }
   ],
   "source": [
    "#!pip install pyldavis"
   ]
  },
  {
   "cell_type": "code",
   "execution_count": null,
   "id": "ba47eff8",
   "metadata": {},
   "outputs": [],
   "source": [
    "import pyLDAvis.gensim_models as gensimvis\n",
    "import pickle \n",
    "import pyLDAvis\n",
    "import os\n",
    "# Visualize the topics\n",
    "pyLDAvis.enable_notebook()\n",
    "LDAvis_data_filepath = os.path.join('./results/ldavis_prepared_'+str(num_topics))\n",
    "# # this is a bit time consuming - make the if statement True\n",
    "# # if you want to execute visualization prep yourself\n",
    "if 1 == 1:\n",
    "    LDAvis_prepared = gensimvis.prepare(lda_model, corpus, id2word)\n",
    "    with open(LDAvis_data_filepath, 'wb') as f:\n",
    "        pickle.dump(LDAvis_prepared, f)\n",
    "# load the pre-prepared pyLDAvis data from disk\n",
    "with open(LDAvis_data_filepath, 'rb') as f:\n",
    "    LDAvis_prepared = pickle.load(f)\n",
    "pyLDAvis.save_html(LDAvis_prepared, './results/ldavis_prepared_'+ str(num_topics) +'.html')\n",
    "LDAvis_prepared"
   ]
  },
  {
   "cell_type": "code",
   "execution_count": 11,
   "id": "7d2b15a2",
   "metadata": {},
   "outputs": [],
   "source": [
    "#!pip install seaborn"
   ]
  },
  {
   "cell_type": "code",
   "execution_count": 259,
   "id": "9bef5f7e",
   "metadata": {
    "scrolled": false
   },
   "outputs": [
    {
     "data": {
      "image/png": "[encoded data removed]",
      "text/plain": [
       "<Figure size 720x720 with 1 Axes>"
      ]
     },
     "metadata": {},
     "output_type": "display_data"
    }
   ],
   "source": [
    "%matplotlib inline\n",
    "import seaborn as sns\n",
    "import matplotlib.pyplot as plt\n",
    "\n",
    "sns.set_theme(style=\"ticks\")\n",
    "\n",
    "# Initialize the figure with a logarithmic x axis\n",
    "f, ax = plt.subplots(figsize=(10, 10))\n",
    "#ax.set_xscale(\"log\")\n",
    "\n",
    "# Plot the orbital period with horizontal boxes\n",
    "sns.boxplot(x=\"avg_word_length\", y=\"source\", hue=\"label\", data=df,\n",
    "             width=.7, )\n",
    "\n",
    "# Add in points to show each observation\n",
    "sns.stripplot(x=\"avg_word_length\", y=\"source\", hue=\"label\", data=df,\n",
    "              size=3, color=\".8\", linewidth=0.5)\n",
    "\n",
    "# Tweak the visual presentation\n",
    "ax.xaxis.grid(True)\n",
    "ax.set(ylabel=\"\");\n",
    "sns.despine(trim=True, left=True)"
   ]
  },
  {
   "cell_type": "code",
   "execution_count": 263,
   "id": "2fe122c6",
   "metadata": {},
   "outputs": [
    {
     "data": {
      "text/html": [
       "<div>\n",
       "<style scoped>\n",
       "    .dataframe tbody tr th:only-of-type {\n",
       "        vertical-align: middle;\n",
       "    }\n",
       "\n",
       "    .dataframe tbody tr th {\n",
       "        vertical-align: top;\n",
       "    }\n",
       "\n",
       "    .dataframe thead th {\n",
       "        text-align: right;\n",
       "    }\n",
       "</style>\n",
       "<table border=\"1\" class=\"dataframe\">\n",
       "  <thead>\n",
       "    <tr style=\"text-align: right;\">\n",
       "      <th></th>\n",
       "      <th>text</th>\n",
       "      <th>source</th>\n",
       "      <th>label</th>\n",
       "      <th>word_count</th>\n",
       "      <th>avg_word_length</th>\n",
       "    </tr>\n",
       "  </thead>\n",
       "  <tbody>\n",
       "    <tr>\n",
       "      <th>0</th>\n",
       "      <td>I woke up this morning to find a variation of ...</td>\n",
       "      <td>GossipCop</td>\n",
       "      <td>False</td>\n",
       "      <td>520</td>\n",
       "      <td>5.190385</td>\n",
       "    </tr>\n",
       "    <tr>\n",
       "      <th>1</th>\n",
       "      <td>Former President Bill Clinton and his Clinton ...</td>\n",
       "      <td>GossipCop</td>\n",
       "      <td>False</td>\n",
       "      <td>1305</td>\n",
       "      <td>5.772414</td>\n",
       "    </tr>\n",
       "    <tr>\n",
       "      <th>2</th>\n",
       "      <td>After collapsing just before trying to step in...</td>\n",
       "      <td>GossipCop</td>\n",
       "      <td>False</td>\n",
       "      <td>589</td>\n",
       "      <td>4.894737</td>\n",
       "    </tr>\n",
       "    <tr>\n",
       "      <th>3</th>\n",
       "      <td>Donald Trump is, well, deplorable. He s sugges...</td>\n",
       "      <td>GossipCop</td>\n",
       "      <td>False</td>\n",
       "      <td>726</td>\n",
       "      <td>5.136364</td>\n",
       "    </tr>\n",
       "    <tr>\n",
       "      <th>5</th>\n",
       "      <td>When President Obama spoke at the United Natio...</td>\n",
       "      <td>GossipCop</td>\n",
       "      <td>False</td>\n",
       "      <td>191</td>\n",
       "      <td>5.455497</td>\n",
       "    </tr>\n",
       "  </tbody>\n",
       "</table>\n",
       "</div>"
      ],
      "text/plain": [
       "                                                text     source  label  \\\n",
       "0  I woke up this morning to find a variation of ...  GossipCop  False   \n",
       "1  Former President Bill Clinton and his Clinton ...  GossipCop  False   \n",
       "2  After collapsing just before trying to step in...  GossipCop  False   \n",
       "3  Donald Trump is, well, deplorable. He s sugges...  GossipCop  False   \n",
       "5  When President Obama spoke at the United Natio...  GossipCop  False   \n",
       "\n",
       "   word_count  avg_word_length  \n",
       "0         520         5.190385  \n",
       "1        1305         5.772414  \n",
       "2         589         4.894737  \n",
       "3         726         5.136364  \n",
       "5         191         5.455497  "
      ]
     },
     "execution_count": 263,
     "metadata": {},
     "output_type": "execute_result"
    }
   ],
   "source": [
    "df.head()"
   ]
  },
  {
   "cell_type": "code",
   "execution_count": 285,
   "id": "c33c5374",
   "metadata": {},
   "outputs": [
    {
     "name": "stdout",
     "output_type": "stream",
     "text": [
      "Collecting gensim\n",
      "  Using cached gensim-4.0.1-cp37-cp37m-macosx_10_9_x86_64.whl (23.9 MB)\n",
      "Requirement already satisfied: numpy>=1.11.3 in ./plotenv/lib/python3.7/site-packages (from gensim) (1.20.2)\n",
      "Collecting smart-open>=1.8.1\n",
      "  Downloading smart_open-5.0.0-py3-none-any.whl (56 kB)\n",
      "\u001b[K     |████████████████████████████████| 56 kB 3.0 MB/s eta 0:00:011\n",
      "\u001b[?25hRequirement already satisfied: scipy>=0.18.1 in ./plotenv/lib/python3.7/site-packages (from gensim) (1.6.3)\n",
      "Installing collected packages: smart-open, gensim\n",
      "Successfully installed gensim-4.0.1 smart-open-5.0.0\n",
      "\u001b[33mWARNING: You are using pip version 21.0.1; however, version 21.1 is available.\n",
      "You should consider upgrading via the '/Users/oddgunnaraspaas/Personal/text2rdf/plotenv/bin/python -m pip install --upgrade pip' command.\u001b[0m\n"
     ]
    }
   ],
   "source": [
    "!pip install --upgrade gensim"
   ]
  },
  {
   "cell_type": "code",
   "execution_count": 19,
   "id": "4ffb0c92",
   "metadata": {},
   "outputs": [],
   "source": [
    "#!pip install sentence-transformers"
   ]
  },
  {
   "cell_type": "code",
   "execution_count": 348,
   "id": "c9d93bc8",
   "metadata": {},
   "outputs": [
    {
     "name": "stderr",
     "output_type": "stream",
     "text": [
      "/Users/oddgunnaraspaas/Personal/text2rdf/plotenv/lib/python3.7/site-packages/ipykernel/ipkernel.py:283: DeprecationWarning: `should_run_async` will not call `transform_cell` automatically in the future. Please pass the result to `transformed_cell` argument and any exception that happen during thetransform in `preprocessing_exc_tuple` in IPython 7.17 and above.\n",
      "  and should_run_async(code)\n"
     ]
    },
    {
     "data": {
      "application/vnd.jupyter.widget-view+json": {
       "model_id": "55bc05446e8f42f98a748e97ce5555bd",
       "version_major": 2,
       "version_minor": 0
      },
      "text/plain": [
       "Batches:   0%|          | 0/13 [00:00<?, ?it/s]"
      ]
     },
     "metadata": {},
     "output_type": "display_data"
    }
   ],
   "source": [
    "from sentence_transformers import SentenceTransformer\n",
    "model = SentenceTransformer('distilbert-base-nli-mean-tokens')\n",
    "embeddings = model.encode(df.paper_text_processed.values, show_progress_bar=True)"
   ]
  },
  {
   "cell_type": "code",
   "execution_count": 349,
   "id": "6136484b",
   "metadata": {},
   "outputs": [
    {
     "name": "stderr",
     "output_type": "stream",
     "text": [
      "/Users/oddgunnaraspaas/Personal/text2rdf/plotenv/lib/python3.7/site-packages/ipykernel/ipkernel.py:283: DeprecationWarning: `should_run_async` will not call `transform_cell` automatically in the future. Please pass the result to `transformed_cell` argument and any exception that happen during thetransform in `preprocessing_exc_tuple` in IPython 7.17 and above.\n",
      "  and should_run_async(code)\n"
     ]
    }
   ],
   "source": [
    "#!pip install umap-learn"
   ]
  },
  {
   "cell_type": "code",
   "execution_count": 350,
   "id": "24c7a431",
   "metadata": {},
   "outputs": [
    {
     "name": "stderr",
     "output_type": "stream",
     "text": [
      "/Users/oddgunnaraspaas/Personal/text2rdf/plotenv/lib/python3.7/site-packages/ipykernel/ipkernel.py:283: DeprecationWarning: `should_run_async` will not call `transform_cell` automatically in the future. Please pass the result to `transformed_cell` argument and any exception that happen during thetransform in `preprocessing_exc_tuple` in IPython 7.17 and above.\n",
      "  and should_run_async(code)\n"
     ]
    }
   ],
   "source": [
    "umap_embeddings = umap.UMAP(n_neighbors=5, \n",
    "                            n_components=40, \n",
    "                            metric='cosine').fit_transform(embeddings)"
   ]
  },
  {
   "cell_type": "code",
   "execution_count": 351,
   "id": "15fd973c",
   "metadata": {},
   "outputs": [
    {
     "name": "stderr",
     "output_type": "stream",
     "text": [
      "/Users/oddgunnaraspaas/Personal/text2rdf/plotenv/lib/python3.7/site-packages/ipykernel/ipkernel.py:283: DeprecationWarning: `should_run_async` will not call `transform_cell` automatically in the future. Please pass the result to `transformed_cell` argument and any exception that happen during thetransform in `preprocessing_exc_tuple` in IPython 7.17 and above.\n",
      "  and should_run_async(code)\n"
     ]
    }
   ],
   "source": [
    "#!pip install hdbscan"
   ]
  },
  {
   "cell_type": "code",
   "execution_count": 352,
   "id": "8da030c3",
   "metadata": {},
   "outputs": [
    {
     "name": "stderr",
     "output_type": "stream",
     "text": [
      "/Users/oddgunnaraspaas/Personal/text2rdf/plotenv/lib/python3.7/site-packages/ipykernel/ipkernel.py:283: DeprecationWarning: `should_run_async` will not call `transform_cell` automatically in the future. Please pass the result to `transformed_cell` argument and any exception that happen during thetransform in `preprocessing_exc_tuple` in IPython 7.17 and above.\n",
      "  and should_run_async(code)\n",
      "/Users/oddgunnaraspaas/Personal/text2rdf/plotenv/lib/python3.7/site-packages/hdbscan/hdbscan_.py:278: DeprecationWarning: `np.bool` is a deprecated alias for the builtin `bool`. To silence this warning, use `bool` by itself. Doing this will not modify any behavior and is safe. If you specifically wanted the numpy scalar type, use `np.bool_` here.\n",
      "Deprecated in NumPy 1.20; for more details and guidance: https://numpy.org/devdocs/release/1.20.0-notes.html#deprecations\n",
      "  n_jobs=core_dist_n_jobs, **kwargs)\n",
      "/Users/oddgunnaraspaas/Personal/text2rdf/plotenv/lib/python3.7/site-packages/hdbscan/hdbscan_.py:57: DeprecationWarning: `np.int` is a deprecated alias for the builtin `int`. To silence this warning, use `int` by itself. Doing this will not modify any behavior and is safe. When replacing `np.int`, you may wish to use e.g. `np.int64` or `np.int32` to specify the precision. If you wish to review your current use, check the release note link for additional information.\n",
      "Deprecated in NumPy 1.20; for more details and guidance: https://numpy.org/devdocs/release/1.20.0-notes.html#deprecations\n",
      "  min_cluster_size)\n",
      "/Users/oddgunnaraspaas/Personal/text2rdf/plotenv/lib/python3.7/site-packages/hdbscan/hdbscan_.py:64: DeprecationWarning: `np.bool` is a deprecated alias for the builtin `bool`. To silence this warning, use `bool` by itself. Doing this will not modify any behavior and is safe. If you specifically wanted the numpy scalar type, use `np.bool_` here.\n",
      "Deprecated in NumPy 1.20; for more details and guidance: https://numpy.org/devdocs/release/1.20.0-notes.html#deprecations\n",
      "  cluster_selection_epsilon)\n"
     ]
    }
   ],
   "source": [
    "import hdbscan\n",
    "cluster = hdbscan.HDBSCAN(min_cluster_size=15,\n",
    "                          metric='euclidean',                      \n",
    "                          cluster_selection_method='eom').fit(umap_embeddings)"
   ]
  },
  {
   "cell_type": "code",
   "execution_count": 353,
   "id": "0d627d18",
   "metadata": {
    "scrolled": false
   },
   "outputs": [
    {
     "name": "stderr",
     "output_type": "stream",
     "text": [
      "/Users/oddgunnaraspaas/Personal/text2rdf/plotenv/lib/python3.7/site-packages/ipykernel/ipkernel.py:283: DeprecationWarning: `should_run_async` will not call `transform_cell` automatically in the future. Please pass the result to `transformed_cell` argument and any exception that happen during thetransform in `preprocessing_exc_tuple` in IPython 7.17 and above.\n",
      "  and should_run_async(code)\n"
     ]
    }
   ],
   "source": [
    "# Prepare data\n",
    "umap_data = umap.UMAP(n_neighbors=5, n_components=2, min_dist=0.1, metric='cosine').fit_transform(embeddings)\n",
    "result = pd.DataFrame(umap_data, columns=['x', 'y'])\n",
    "result['labels'] = cluster.labels_"
   ]
  },
  {
   "cell_type": "code",
   "execution_count": 354,
   "id": "a7c06300",
   "metadata": {},
   "outputs": [
    {
     "name": "stderr",
     "output_type": "stream",
     "text": [
      "/Users/oddgunnaraspaas/Personal/text2rdf/plotenv/lib/python3.7/site-packages/ipykernel/ipkernel.py:283: DeprecationWarning: `should_run_async` will not call `transform_cell` automatically in the future. Please pass the result to `transformed_cell` argument and any exception that happen during thetransform in `preprocessing_exc_tuple` in IPython 7.17 and above.\n",
      "  and should_run_async(code)\n"
     ]
    },
    {
     "data": {
      "image/png": "[encoded data removed]",
      "text/plain": [
       "<Figure size 1440x720 with 2 Axes>"
      ]
     },
     "metadata": {},
     "output_type": "display_data"
    }
   ],
   "source": [
    "# Visualize clusters\n",
    "import matplotlib.pyplot as plt\n",
    "\n",
    "\n",
    "fig, ax = plt.subplots(figsize=(20, 10))\n",
    "outliers = result.loc[result.labels == -1, :]\n",
    "clustered = result.loc[result.labels != -1, :]\n",
    "plt.scatter(outliers.x, outliers.y, color='#BDBDBD', s=15.35)\n",
    "plt.scatter(clustered.x, clustered.y, c=clustered.labels, s=15.35, cmap='hsv_r')\n",
    "plt.colorbar();"
   ]
  },
  {
   "cell_type": "code",
   "execution_count": 355,
   "id": "c95f3619",
   "metadata": {},
   "outputs": [
    {
     "name": "stderr",
     "output_type": "stream",
     "text": [
      "/Users/oddgunnaraspaas/Personal/text2rdf/plotenv/lib/python3.7/site-packages/ipykernel/ipkernel.py:283: DeprecationWarning: `should_run_async` will not call `transform_cell` automatically in the future. Please pass the result to `transformed_cell` argument and any exception that happen during thetransform in `preprocessing_exc_tuple` in IPython 7.17 and above.\n",
      "  and should_run_async(code)\n"
     ]
    }
   ],
   "source": [
    "import numpy as np\n",
    "import matplotlib.pyplot as plt\n",
    "from mpl_toolkits.mplot3d import Axes3D\n",
    "import seaborn as sns\n",
    "import umap\n",
    "%matplotlib inline\n",
    "sns.set(style='white', context='poster', rc={'figure.figsize':(14,10)})\n",
    "\n",
    "def draw_umap(n_neighbors=15, min_dist=0.1, n_components=2, metric='euclidean', title=''):\n",
    "    fit = umap.UMAP(\n",
    "        n_neighbors=n_neighbors,\n",
    "        min_dist=min_dist,\n",
    "        n_components=n_components,\n",
    "        metric=metric\n",
    "    )\n",
    "    u = fit.fit_transform(embeddings);\n",
    "\n",
    "\n",
    "    cluster = hdbscan.HDBSCAN(min_cluster_size=10,\n",
    "                          metric='euclidean',                      \n",
    "                          cluster_selection_method='eom').fit(u)\n",
    "    \n",
    "    c = cluster.labels_ +1\n",
    "    \n",
    "    fig = plt.figure()\n",
    "    if n_components == 1:\n",
    "        ax = fig.add_subplot(111)\n",
    "        ax.scatter(u[:,0], range(len(u)), c=c)\n",
    "    if n_components == 2:\n",
    "        ax = fig.add_subplot(111)\n",
    "        ax.scatter(u[:,0], u[:,1], c=c)\n",
    "    if n_components == 3:\n",
    "        ax = fig.add_subplot(111, projection='3d')\n",
    "        ax.scatter(u[:,0], u[:,1], u[:,2],c=c, s=100)\n",
    "    plt.title(title, fontsize=18)"
   ]
  },
  {
   "cell_type": "code",
   "execution_count": 356,
   "id": "5311725e",
   "metadata": {
    "scrolled": false
   },
   "outputs": [
    {
     "name": "stderr",
     "output_type": "stream",
     "text": [
      "/Users/oddgunnaraspaas/Personal/text2rdf/plotenv/lib/python3.7/site-packages/ipykernel/ipkernel.py:283: DeprecationWarning: `should_run_async` will not call `transform_cell` automatically in the future. Please pass the result to `transformed_cell` argument and any exception that happen during thetransform in `preprocessing_exc_tuple` in IPython 7.17 and above.\n",
      "  and should_run_async(code)\n"
     ]
    }
   ],
   "source": [
    "# min_dist = 0.1 n_neighbors = 10\n",
    "#for n in (2, 5, 10, 20, 50, 100, 200):\n",
    "#    draw_umap(n_neighbors=n, title='n_neighbors = {}'.format(n))"
   ]
  },
  {
   "cell_type": "code",
   "execution_count": 357,
   "id": "f97a52ac",
   "metadata": {
    "scrolled": false
   },
   "outputs": [
    {
     "name": "stderr",
     "output_type": "stream",
     "text": [
      "/Users/oddgunnaraspaas/Personal/text2rdf/plotenv/lib/python3.7/site-packages/ipykernel/ipkernel.py:283: DeprecationWarning: `should_run_async` will not call `transform_cell` automatically in the future. Please pass the result to `transformed_cell` argument and any exception that happen during thetransform in `preprocessing_exc_tuple` in IPython 7.17 and above.\n",
      "  and should_run_async(code)\n"
     ]
    }
   ],
   "source": [
    "#for d in (0.0, 0.1, 0.25, 0.5, 0.8, 0.99):\n",
    "#    draw_umap(min_dist=d, title='min_dist = {}'.format(d))"
   ]
  },
  {
   "cell_type": "code",
   "execution_count": 358,
   "id": "819694cb",
   "metadata": {},
   "outputs": [
    {
     "name": "stderr",
     "output_type": "stream",
     "text": [
      "/Users/oddgunnaraspaas/Personal/text2rdf/plotenv/lib/python3.7/site-packages/ipykernel/ipkernel.py:283: DeprecationWarning: `should_run_async` will not call `transform_cell` automatically in the future. Please pass the result to `transformed_cell` argument and any exception that happen during thetransform in `preprocessing_exc_tuple` in IPython 7.17 and above.\n",
      "  and should_run_async(code)\n",
      "/Users/oddgunnaraspaas/Personal/text2rdf/plotenv/lib/python3.7/site-packages/hdbscan/hdbscan_.py:278: DeprecationWarning: `np.bool` is a deprecated alias for the builtin `bool`. To silence this warning, use `bool` by itself. Doing this will not modify any behavior and is safe. If you specifically wanted the numpy scalar type, use `np.bool_` here.\n",
      "Deprecated in NumPy 1.20; for more details and guidance: https://numpy.org/devdocs/release/1.20.0-notes.html#deprecations\n",
      "  n_jobs=core_dist_n_jobs, **kwargs)\n",
      "/Users/oddgunnaraspaas/Personal/text2rdf/plotenv/lib/python3.7/site-packages/hdbscan/hdbscan_.py:57: DeprecationWarning: `np.int` is a deprecated alias for the builtin `int`. To silence this warning, use `int` by itself. Doing this will not modify any behavior and is safe. When replacing `np.int`, you may wish to use e.g. `np.int64` or `np.int32` to specify the precision. If you wish to review your current use, check the release note link for additional information.\n",
      "Deprecated in NumPy 1.20; for more details and guidance: https://numpy.org/devdocs/release/1.20.0-notes.html#deprecations\n",
      "  min_cluster_size)\n",
      "/Users/oddgunnaraspaas/Personal/text2rdf/plotenv/lib/python3.7/site-packages/hdbscan/hdbscan_.py:64: DeprecationWarning: `np.bool` is a deprecated alias for the builtin `bool`. To silence this warning, use `bool` by itself. Doing this will not modify any behavior and is safe. If you specifically wanted the numpy scalar type, use `np.bool_` here.\n",
      "Deprecated in NumPy 1.20; for more details and guidance: https://numpy.org/devdocs/release/1.20.0-notes.html#deprecations\n",
      "  cluster_selection_epsilon)\n"
     ]
    },
    {
     "data": {
      "image/png": "[encoded data removed]",
      "text/plain": [
       "<Figure size 432x288 with 1 Axes>"
      ]
     },
     "metadata": {
      "needs_background": "light"
     },
     "output_type": "display_data"
    }
   ],
   "source": [
    "%matplotlib inline\n",
    "draw_umap(n_components=3, title='n_components = 3')"
   ]
  },
  {
   "cell_type": "code",
   "execution_count": 359,
   "id": "52363fe3",
   "metadata": {},
   "outputs": [
    {
     "name": "stderr",
     "output_type": "stream",
     "text": [
      "/Users/oddgunnaraspaas/Personal/text2rdf/plotenv/lib/python3.7/site-packages/ipykernel/ipkernel.py:283: DeprecationWarning: `should_run_async` will not call `transform_cell` automatically in the future. Please pass the result to `transformed_cell` argument and any exception that happen during thetransform in `preprocessing_exc_tuple` in IPython 7.17 and above.\n",
      "  and should_run_async(code)\n"
     ]
    }
   ],
   "source": [
    "import numba\n",
    "@numba.njit()\n",
    "def red_channel_dist(a,b):\n",
    "    return np.abs(a[0] - b[0])\n",
    "\n",
    "@numba.njit()\n",
    "def hue(r, g, b):\n",
    "    cmax = max(r, g, b)\n",
    "    cmin = min(r, g, b)\n",
    "    delta = cmax - cmin\n",
    "    if cmax == r:\n",
    "        return ((g - b) / delta) % 6\n",
    "    elif cmax == g:\n",
    "        return ((b - r) / delta) + 2\n",
    "    else:\n",
    "        return ((r - g) / delta) + 4\n",
    "\n",
    "@numba.njit()\n",
    "def lightness(r, g, b):\n",
    "    cmax = max(r, g, b)\n",
    "    cmin = min(r, g, b)\n",
    "    return (cmax + cmin) / 2.0\n",
    "\n",
    "@numba.njit()\n",
    "def saturation(r, g, b):\n",
    "    cmax = max(r, g, b)\n",
    "    cmin = min(r, g, b)\n",
    "    chroma = cmax - cmin\n",
    "    light = lightness(r, g, b)\n",
    "    if light == 1:\n",
    "        return 0\n",
    "    else:\n",
    "        return chroma / (1 - abs(2*light - 1))\n",
    "    \n",
    "@numba.njit()\n",
    "def hue_dist(a, b):\n",
    "    diff = (hue(a[0], a[1], a[2]) - hue(b[0], b[1], b[2])) % 6\n",
    "    if diff < 0:\n",
    "        return diff + 6\n",
    "    else:\n",
    "        return diff\n",
    "\n",
    "@numba.njit()\n",
    "def sl_dist(a, b):\n",
    "    a_sat = saturation(a[0], a[1], a[2])\n",
    "    b_sat = saturation(b[0], b[1], b[2])\n",
    "    a_light = lightness(a[0], a[1], a[2])\n",
    "    b_light = lightness(b[0], b[1], b[2])\n",
    "    return (a_sat - b_sat)**2 + (a_light - b_light)**2\n",
    "\n",
    "@numba.njit()\n",
    "def hsl_dist(a, b):\n",
    "    a_sat = saturation(a[0], a[1], a[2])\n",
    "    b_sat = saturation(b[0], b[1], b[2])\n",
    "    a_light = lightness(a[0], a[1], a[2])\n",
    "    b_light = lightness(b[0], b[1], b[2])\n",
    "    a_hue = hue(a[0], a[1], a[2])\n",
    "    b_hue = hue(b[0], b[1], b[2])\n",
    "    return (a_sat - b_sat)**2 + (a_light - b_light)**2 + (((a_hue - b_hue) % 6) / 6.0)"
   ]
  },
  {
   "cell_type": "code",
   "execution_count": 383,
   "id": "b2cf5e57",
   "metadata": {
    "scrolled": false
   },
   "outputs": [
    {
     "name": "stderr",
     "output_type": "stream",
     "text": [
      "/Users/oddgunnaraspaas/Personal/text2rdf/plotenv/lib/python3.7/site-packages/ipykernel/ipkernel.py:283: DeprecationWarning: `should_run_async` will not call `transform_cell` automatically in the future. Please pass the result to `transformed_cell` argument and any exception that happen during thetransform in `preprocessing_exc_tuple` in IPython 7.17 and above.\n",
      "  and should_run_async(code)\n"
     ]
    }
   ],
   "source": [
    "#for m in (\"euclidean\", red_channel_dist, sl_dist, hue_dist, hsl_dist):\n",
    "#    name = m if type(m) is str else m.__name__\n",
    "#    draw_umap(n_components=2, metric=m, title='metric = {}'.format(name))"
   ]
  },
  {
   "cell_type": "code",
   "execution_count": 366,
   "id": "cba4483a",
   "metadata": {},
   "outputs": [
    {
     "name": "stderr",
     "output_type": "stream",
     "text": [
      "/Users/oddgunnaraspaas/Personal/text2rdf/plotenv/lib/python3.7/site-packages/ipykernel/ipkernel.py:283: DeprecationWarning: `should_run_async` will not call `transform_cell` automatically in the future. Please pass the result to `transformed_cell` argument and any exception that happen during thetransform in `preprocessing_exc_tuple` in IPython 7.17 and above.\n",
      "  and should_run_async(code)\n"
     ]
    }
   ],
   "source": [
    "docs_df = pd.DataFrame(df.paper_text_processed.values, columns=[\"Doc\"])\n",
    "docs_df['Topic'] = cluster.labels_\n",
    "docs_df['Doc_ID'] = range(len(docs_df))\n",
    "docs_per_topic = docs_df.groupby(['Topic'], as_index = False).agg({'Doc': ' '.join})"
   ]
  },
  {
   "cell_type": "code",
   "execution_count": 367,
   "id": "cf15c08d",
   "metadata": {},
   "outputs": [
    {
     "name": "stderr",
     "output_type": "stream",
     "text": [
      "/Users/oddgunnaraspaas/Personal/text2rdf/plotenv/lib/python3.7/site-packages/ipykernel/ipkernel.py:283: DeprecationWarning: `should_run_async` will not call `transform_cell` automatically in the future. Please pass the result to `transformed_cell` argument and any exception that happen during thetransform in `preprocessing_exc_tuple` in IPython 7.17 and above.\n",
      "  and should_run_async(code)\n"
     ]
    }
   ],
   "source": [
    "import numpy as np\n",
    "from sklearn.feature_extraction.text import CountVectorizer\n",
    "\n",
    "def c_tf_idf(documents, m, ngram_range=(1, 1)):\n",
    "    count = CountVectorizer(ngram_range=ngram_range, stop_words=\"english\").fit(documents)\n",
    "    t = count.transform(documents).toarray()\n",
    "    w = t.sum(axis=1)\n",
    "    tf = np.divide(t.T, w)\n",
    "    sum_t = t.sum(axis=0)\n",
    "    idf = np.log(np.divide(m, sum_t)).reshape(-1, 1)\n",
    "    tf_idf = np.multiply(tf, idf)\n",
    "\n",
    "    return tf_idf, count\n",
    "  \n",
    "tf_idf, count = c_tf_idf(docs_per_topic.Doc.values, m=len(df.paper_text_processed.values))"
   ]
  },
  {
   "cell_type": "code",
   "execution_count": 368,
   "id": "cb1c4274",
   "metadata": {},
   "outputs": [
    {
     "name": "stderr",
     "output_type": "stream",
     "text": [
      "/Users/oddgunnaraspaas/Personal/text2rdf/plotenv/lib/python3.7/site-packages/ipykernel/ipkernel.py:283: DeprecationWarning: `should_run_async` will not call `transform_cell` automatically in the future. Please pass the result to `transformed_cell` argument and any exception that happen during thetransform in `preprocessing_exc_tuple` in IPython 7.17 and above.\n",
      "  and should_run_async(code)\n"
     ]
    },
    {
     "data": {
      "text/html": [
       "<div>\n",
       "<style scoped>\n",
       "    .dataframe tbody tr th:only-of-type {\n",
       "        vertical-align: middle;\n",
       "    }\n",
       "\n",
       "    .dataframe tbody tr th {\n",
       "        vertical-align: top;\n",
       "    }\n",
       "\n",
       "    .dataframe thead th {\n",
       "        text-align: right;\n",
       "    }\n",
       "</style>\n",
       "<table border=\"1\" class=\"dataframe\">\n",
       "  <thead>\n",
       "    <tr style=\"text-align: right;\">\n",
       "      <th></th>\n",
       "      <th>Topic</th>\n",
       "      <th>Size</th>\n",
       "    </tr>\n",
       "  </thead>\n",
       "  <tbody>\n",
       "    <tr>\n",
       "      <th>2</th>\n",
       "      <td>1</td>\n",
       "      <td>347</td>\n",
       "    </tr>\n",
       "    <tr>\n",
       "      <th>0</th>\n",
       "      <td>-1</td>\n",
       "      <td>50</td>\n",
       "    </tr>\n",
       "    <tr>\n",
       "      <th>1</th>\n",
       "      <td>0</td>\n",
       "      <td>19</td>\n",
       "    </tr>\n",
       "  </tbody>\n",
       "</table>\n",
       "</div>"
      ],
      "text/plain": [
       "   Topic  Size\n",
       "2      1   347\n",
       "0     -1    50\n",
       "1      0    19"
      ]
     },
     "execution_count": 368,
     "metadata": {},
     "output_type": "execute_result"
    }
   ],
   "source": [
    "def extract_top_n_words_per_topic(tf_idf, count, docs_per_topic, n=20):\n",
    "    words = count.get_feature_names()\n",
    "    labels = list(docs_per_topic.Topic)\n",
    "    tf_idf_transposed = tf_idf.T\n",
    "    indices = tf_idf_transposed.argsort()[:, -n:]\n",
    "    top_n_words = {label: [(words[j], tf_idf_transposed[i][j]) for j in indices[i]][::-1] for i, label in enumerate(labels)}\n",
    "    return top_n_words\n",
    "\n",
    "def extract_topic_sizes(df):\n",
    "    topic_sizes = (df.groupby(['Topic'])\n",
    "                     .Doc\n",
    "                     .count()\n",
    "                     .reset_index()\n",
    "                     .rename({\"Topic\": \"Topic\", \"Doc\": \"Size\"}, axis='columns')\n",
    "                     .sort_values(\"Size\", ascending=False))\n",
    "    return topic_sizes\n",
    "\n",
    "top_n_words = extract_top_n_words_per_topic(tf_idf, count, docs_per_topic, n=20)\n",
    "topic_sizes = extract_topic_sizes(docs_df)\n",
    "topic_sizes.head(10)"
   ]
  },
  {
   "cell_type": "code",
   "execution_count": 365,
   "id": "dc8f694b",
   "metadata": {},
   "outputs": [
    {
     "name": "stderr",
     "output_type": "stream",
     "text": [
      "/Users/oddgunnaraspaas/Personal/text2rdf/plotenv/lib/python3.7/site-packages/ipykernel/ipkernel.py:283: DeprecationWarning: `should_run_async` will not call `transform_cell` automatically in the future. Please pass the result to `transformed_cell` argument and any exception that happen during thetransform in `preprocessing_exc_tuple` in IPython 7.17 and above.\n",
      "  and should_run_async(code)\n"
     ]
    },
    {
     "data": {
      "text/html": [
       "<div>\n",
       "<style scoped>\n",
       "    .dataframe tbody tr th:only-of-type {\n",
       "        vertical-align: middle;\n",
       "    }\n",
       "\n",
       "    .dataframe tbody tr th {\n",
       "        vertical-align: top;\n",
       "    }\n",
       "\n",
       "    .dataframe thead th {\n",
       "        text-align: right;\n",
       "    }\n",
       "</style>\n",
       "<table border=\"1\" class=\"dataframe\">\n",
       "  <thead>\n",
       "    <tr style=\"text-align: right;\">\n",
       "      <th></th>\n",
       "      <th>Topic</th>\n",
       "      <th>Size</th>\n",
       "    </tr>\n",
       "  </thead>\n",
       "  <tbody>\n",
       "    <tr>\n",
       "      <th>0</th>\n",
       "      <td>-1</td>\n",
       "      <td>186</td>\n",
       "    </tr>\n",
       "    <tr>\n",
       "      <th>3</th>\n",
       "      <td>2</td>\n",
       "      <td>112</td>\n",
       "    </tr>\n",
       "    <tr>\n",
       "      <th>1</th>\n",
       "      <td>0</td>\n",
       "      <td>91</td>\n",
       "    </tr>\n",
       "    <tr>\n",
       "      <th>2</th>\n",
       "      <td>1</td>\n",
       "      <td>27</td>\n",
       "    </tr>\n",
       "  </tbody>\n",
       "</table>\n",
       "</div>"
      ],
      "text/plain": [
       "   Topic  Size\n",
       "0     -1   186\n",
       "3      2   112\n",
       "1      0    91\n",
       "2      1    27"
      ]
     },
     "execution_count": 365,
     "metadata": {},
     "output_type": "execute_result"
    }
   ],
   "source": [
    "topic_sizes.head(10)"
   ]
  },
  {
   "cell_type": "code",
   "execution_count": 360,
   "id": "48f912a1",
   "metadata": {},
   "outputs": [
    {
     "name": "stderr",
     "output_type": "stream",
     "text": [
      "/Users/oddgunnaraspaas/Personal/text2rdf/plotenv/lib/python3.7/site-packages/ipykernel/ipkernel.py:283: DeprecationWarning: `should_run_async` will not call `transform_cell` automatically in the future. Please pass the result to `transformed_cell` argument and any exception that happen during thetransform in `preprocessing_exc_tuple` in IPython 7.17 and above.\n",
      "  and should_run_async(code)\n"
     ]
    },
    {
     "data": {
      "text/plain": [
       "[('buchanan', 0.0025759487801505425),\n",
       " ('foundation', 0.002542906630666161),\n",
       " ('korea', 0.00222038866767131),\n",
       " ('saudi', 0.002063076824248941),\n",
       " ('drugs', 0.0019916841333688126),\n",
       " ('kallstadt', 0.001953305564830507),\n",
       " ('law', 0.0019444714412257984),\n",
       " ('family', 0.001908289274491521),\n",
       " ('rich', 0.001896913628797514),\n",
       " ('north', 0.0018927847574406085)]"
      ]
     },
     "execution_count": 360,
     "metadata": {},
     "output_type": "execute_result"
    }
   ],
   "source": [
    "top_n_words[-1][:10]"
   ]
  },
  {
   "cell_type": "code",
   "execution_count": 361,
   "id": "e30d8baf",
   "metadata": {},
   "outputs": [
    {
     "name": "stderr",
     "output_type": "stream",
     "text": [
      "/Users/oddgunnaraspaas/Personal/text2rdf/plotenv/lib/python3.7/site-packages/ipykernel/ipkernel.py:283: DeprecationWarning: `should_run_async` will not call `transform_cell` automatically in the future. Please pass the result to `transformed_cell` argument and any exception that happen during thetransform in `preprocessing_exc_tuple` in IPython 7.17 and above.\n",
      "  and should_run_async(code)\n"
     ]
    },
    {
     "data": {
      "text/plain": [
       "[('page', 0.003505414702929684),\n",
       " ('russia', 0.0033550709628483283),\n",
       " ('cruz', 0.0028266706222812455),\n",
       " ('russian', 0.0027697462348843585),\n",
       " ('taxes', 0.0026758386649150282),\n",
       " ('war', 0.0024670723773966164),\n",
       " ('justice', 0.002462554393787389),\n",
       " ('wildstein', 0.0023859300438582942),\n",
       " ('nominee', 0.00224644183536131),\n",
       " ('carter', 0.0022382819870766235)]"
      ]
     },
     "execution_count": 361,
     "metadata": {},
     "output_type": "execute_result"
    }
   ],
   "source": [
    "top_n_words[2][:10]"
   ]
  },
  {
   "cell_type": "code",
   "execution_count": 362,
   "id": "755f0ac5",
   "metadata": {},
   "outputs": [
    {
     "name": "stderr",
     "output_type": "stream",
     "text": [
      "/Users/oddgunnaraspaas/Personal/text2rdf/plotenv/lib/python3.7/site-packages/ipykernel/ipkernel.py:283: DeprecationWarning: `should_run_async` will not call `transform_cell` automatically in the future. Please pass the result to `transformed_cell` argument and any exception that happen during thetransform in `preprocessing_exc_tuple` in IPython 7.17 and above.\n",
      "  and should_run_async(code)\n"
     ]
    },
    {
     "data": {
      "text/plain": [
       "[('charlotte', 0.004269339722078206),\n",
       " ('city', 0.003898317320909299),\n",
       " ('officers', 0.0038569749173145555),\n",
       " ('confederate', 0.0035311514961082024),\n",
       " ('shooting', 0.0034452719842236468),\n",
       " ('black', 0.003223830698049653),\n",
       " ('hawkins', 0.00316239089019054),\n",
       " ('protesters', 0.0031589243389543464),\n",
       " ('police', 0.0031229735538297137),\n",
       " ('adults', 0.0030996514636677515)]"
      ]
     },
     "execution_count": 362,
     "metadata": {},
     "output_type": "execute_result"
    }
   ],
   "source": [
    "top_n_words[0][:10]"
   ]
  },
  {
   "cell_type": "code",
   "execution_count": 363,
   "id": "821254c7",
   "metadata": {},
   "outputs": [
    {
     "name": "stderr",
     "output_type": "stream",
     "text": [
      "/Users/oddgunnaraspaas/Personal/text2rdf/plotenv/lib/python3.7/site-packages/ipykernel/ipkernel.py:283: DeprecationWarning: `should_run_async` will not call `transform_cell` automatically in the future. Please pass the result to `transformed_cell` argument and any exception that happen during thetransform in `preprocessing_exc_tuple` in IPython 7.17 and above.\n",
      "  and should_run_async(code)\n"
     ]
    },
    {
     "data": {
      "text/plain": [
       "[('http', 0.008082570920479256),\n",
       " ('oct', 0.006825261039517415),\n",
       " ('voting', 0.0066090084786043675),\n",
       " ('early', 0.006308113436209813),\n",
       " ('absentee', 0.005047604500571062),\n",
       " ('debates', 0.004819986526604204),\n",
       " ('voters', 0.004786192322337886),\n",
       " ('politi', 0.004594068845122194),\n",
       " ('ballots', 0.004405810058176447),\n",
       " ('nov', 0.004130446929540419)]"
      ]
     },
     "execution_count": 363,
     "metadata": {},
     "output_type": "execute_result"
    }
   ],
   "source": [
    "top_n_words[1][:10]"
   ]
  },
  {
   "cell_type": "markdown",
   "id": "d88520c6",
   "metadata": {},
   "source": [
    "## Post processing\n",
    "Clean output from triple extractor"
   ]
  },
  {
   "cell_type": "code",
   "execution_count": 2,
   "id": "60ae12cb",
   "metadata": {},
   "outputs": [],
   "source": [
    "def load_df(path):\n",
    "    df = pd.read_csv(paths[0])\n",
    "    return df[[\"text\", \"source\", \"label\", \"triple\"]]"
   ]
  },
  {
   "cell_type": "code",
   "execution_count": 3,
   "id": "773b4749",
   "metadata": {},
   "outputs": [],
   "source": [
    "paths = glob(\"./fakenewsnet_triples/*\")"
   ]
  },
  {
   "cell_type": "code",
   "execution_count": 9,
   "id": "7dd8c61e",
   "metadata": {},
   "outputs": [
    {
     "data": {
      "text/plain": [
       "['./fakenewsnet_triples/hashed.csv',\n",
       " './fakenewsnet_triples/googled.csv',\n",
       " './fakenewsnet_triples/wiki_hashed.xlsx',\n",
       " './fakenewsnet_triples/wiki_hashed_manual.xlsx',\n",
       " './fakenewsnet_triples/wiki_hashed.csv',\n",
       " './fakenewsnet_triples/fakenewsnet_triples_trimmed.csv']"
      ]
     },
     "execution_count": 9,
     "metadata": {},
     "output_type": "execute_result"
    }
   ],
   "source": [
    "paths"
   ]
  },
  {
   "cell_type": "code",
   "execution_count": 20,
   "id": "ab16b210",
   "metadata": {},
   "outputs": [],
   "source": [
    "df = pd.read_csv(paths[1], index_col=0)"
   ]
  },
  {
   "cell_type": "code",
   "execution_count": 21,
   "id": "20656791",
   "metadata": {},
   "outputs": [
    {
     "data": {
      "text/html": [
       "<div>\n",
       "<style scoped>\n",
       "    .dataframe tbody tr th:only-of-type {\n",
       "        vertical-align: middle;\n",
       "    }\n",
       "\n",
       "    .dataframe tbody tr th {\n",
       "        vertical-align: top;\n",
       "    }\n",
       "\n",
       "    .dataframe thead th {\n",
       "        text-align: right;\n",
       "    }\n",
       "</style>\n",
       "<table border=\"1\" class=\"dataframe\">\n",
       "  <thead>\n",
       "    <tr style=\"text-align: right;\">\n",
       "      <th></th>\n",
       "      <th>Unnamed: 0</th>\n",
       "      <th>id_text</th>\n",
       "      <th>head</th>\n",
       "      <th>relation</th>\n",
       "      <th>tail</th>\n",
       "      <th>label</th>\n",
       "      <th>text_id</th>\n",
       "    </tr>\n",
       "  </thead>\n",
       "  <tbody>\n",
       "    <tr>\n",
       "      <th>0</th>\n",
       "      <td>0</td>\n",
       "      <td>NaN</td>\n",
       "      <td>Bill Clinton</td>\n",
       "      <td>organization/role/leaders./organization/leader...</td>\n",
       "      <td>NPR</td>\n",
       "      <td>False</td>\n",
       "      <td>0.0</td>\n",
       "    </tr>\n",
       "    <tr>\n",
       "      <th>1</th>\n",
       "      <td>1</td>\n",
       "      <td>NaN</td>\n",
       "      <td>Bill Clinton</td>\n",
       "      <td>people/person/employment_history./business/emp...</td>\n",
       "      <td>President of the United States</td>\n",
       "      <td>False</td>\n",
       "      <td>1.0</td>\n",
       "    </tr>\n",
       "    <tr>\n",
       "      <th>2</th>\n",
       "      <td>2</td>\n",
       "      <td>NaN</td>\n",
       "      <td>Marsha Blackburn</td>\n",
       "      <td>people/person/employment_history./business/emp...</td>\n",
       "      <td>Rep</td>\n",
       "      <td>False</td>\n",
       "      <td>1.0</td>\n",
       "    </tr>\n",
       "    <tr>\n",
       "      <th>3</th>\n",
       "      <td>3</td>\n",
       "      <td>NaN</td>\n",
       "      <td>Roger Bate</td>\n",
       "      <td>organization/role/leaders./organization/leader...</td>\n",
       "      <td>American Enterprise Institute</td>\n",
       "      <td>False</td>\n",
       "      <td>1.0</td>\n",
       "    </tr>\n",
       "    <tr>\n",
       "      <th>4</th>\n",
       "      <td>4</td>\n",
       "      <td>NaN</td>\n",
       "      <td>Hillary Clinton</td>\n",
       "      <td>people/person/employment_history./business/emp...</td>\n",
       "      <td>Candidate</td>\n",
       "      <td>False</td>\n",
       "      <td>1.0</td>\n",
       "    </tr>\n",
       "    <tr>\n",
       "      <th>...</th>\n",
       "      <td>...</td>\n",
       "      <td>...</td>\n",
       "      <td>...</td>\n",
       "      <td>...</td>\n",
       "      <td>...</td>\n",
       "      <td>...</td>\n",
       "      <td>...</td>\n",
       "    </tr>\n",
       "    <tr>\n",
       "      <th>995</th>\n",
       "      <td>995</td>\n",
       "      <td>NaN</td>\n",
       "      <td>William H. Seward</td>\n",
       "      <td>organization/role/leaders./organization/leader...</td>\n",
       "      <td>Republican Party</td>\n",
       "      <td>True</td>\n",
       "      <td>415.0</td>\n",
       "    </tr>\n",
       "    <tr>\n",
       "      <th>996</th>\n",
       "      <td>996</td>\n",
       "      <td>NaN</td>\n",
       "      <td>John Tyler</td>\n",
       "      <td>people/person/employment_history./business/emp...</td>\n",
       "      <td>President of the United States</td>\n",
       "      <td>True</td>\n",
       "      <td>415.0</td>\n",
       "    </tr>\n",
       "    <tr>\n",
       "      <th>997</th>\n",
       "      <td>997</td>\n",
       "      <td>NaN</td>\n",
       "      <td>Donald Trump</td>\n",
       "      <td>people/person/employment_history./business/emp...</td>\n",
       "      <td>President of the United States</td>\n",
       "      <td>True</td>\n",
       "      <td>415.0</td>\n",
       "    </tr>\n",
       "    <tr>\n",
       "      <th>998</th>\n",
       "      <td>998</td>\n",
       "      <td>NaN</td>\n",
       "      <td>Hillary Clinton</td>\n",
       "      <td>people/person/employment_history./business/emp...</td>\n",
       "      <td>President of the United States</td>\n",
       "      <td>True</td>\n",
       "      <td>415.0</td>\n",
       "    </tr>\n",
       "    <tr>\n",
       "      <th>999</th>\n",
       "      <td>999</td>\n",
       "      <td>NaN</td>\n",
       "      <td>Donald Trump</td>\n",
       "      <td>people/person/employment_history./business/emp...</td>\n",
       "      <td>King</td>\n",
       "      <td>True</td>\n",
       "      <td>416.0</td>\n",
       "    </tr>\n",
       "  </tbody>\n",
       "</table>\n",
       "<p>1000 rows × 7 columns</p>\n",
       "</div>"
      ],
      "text/plain": [
       "     Unnamed: 0  id_text               head  \\\n",
       "0             0      NaN       Bill Clinton   \n",
       "1             1      NaN       Bill Clinton   \n",
       "2             2      NaN   Marsha Blackburn   \n",
       "3             3      NaN         Roger Bate   \n",
       "4             4      NaN    Hillary Clinton   \n",
       "..          ...      ...                ...   \n",
       "995         995      NaN  William H. Seward   \n",
       "996         996      NaN         John Tyler   \n",
       "997         997      NaN       Donald Trump   \n",
       "998         998      NaN    Hillary Clinton   \n",
       "999         999      NaN       Donald Trump   \n",
       "\n",
       "                                              relation  \\\n",
       "0    organization/role/leaders./organization/leader...   \n",
       "1    people/person/employment_history./business/emp...   \n",
       "2    people/person/employment_history./business/emp...   \n",
       "3    organization/role/leaders./organization/leader...   \n",
       "4    people/person/employment_history./business/emp...   \n",
       "..                                                 ...   \n",
       "995  organization/role/leaders./organization/leader...   \n",
       "996  people/person/employment_history./business/emp...   \n",
       "997  people/person/employment_history./business/emp...   \n",
       "998  people/person/employment_history./business/emp...   \n",
       "999  people/person/employment_history./business/emp...   \n",
       "\n",
       "                               tail  label  text_id  \n",
       "0                               NPR  False      0.0  \n",
       "1    President of the United States  False      1.0  \n",
       "2                               Rep  False      1.0  \n",
       "3     American Enterprise Institute  False      1.0  \n",
       "4                         Candidate  False      1.0  \n",
       "..                              ...    ...      ...  \n",
       "995                Republican Party   True    415.0  \n",
       "996  President of the United States   True    415.0  \n",
       "997  President of the United States   True    415.0  \n",
       "998  President of the United States   True    415.0  \n",
       "999                            King   True    416.0  \n",
       "\n",
       "[1000 rows x 7 columns]"
      ]
     },
     "execution_count": 21,
     "metadata": {},
     "output_type": "execute_result"
    }
   ],
   "source": [
    "df"
   ]
  },
  {
   "cell_type": "code",
   "execution_count": 16,
   "id": "48c2573b",
   "metadata": {},
   "outputs": [
    {
     "ename": "AttributeError",
     "evalue": "'Series' object has no attribute 'triple'",
     "output_type": "error",
     "traceback": [
      "\u001b[0;31m---------------------------------------------------------------------------\u001b[0m",
      "\u001b[0;31mAttributeError\u001b[0m                            Traceback (most recent call last)",
      "\u001b[0;32m<ipython-input-16-a379a74c6ba9>\u001b[0m in \u001b[0;36m<module>\u001b[0;34m\u001b[0m\n\u001b[0;32m----> 1\u001b[0;31m \u001b[0mdf\u001b[0m\u001b[0;34m.\u001b[0m\u001b[0miloc\u001b[0m\u001b[0;34m[\u001b[0m\u001b[0;36m11\u001b[0m\u001b[0;34m]\u001b[0m\u001b[0;34m.\u001b[0m\u001b[0mtriple\u001b[0m\u001b[0;34m\u001b[0m\u001b[0;34m\u001b[0m\u001b[0m\n\u001b[0m",
      "\u001b[0;32m/usr/local/anaconda3/lib/python3.7/site-packages/pandas/core/generic.py\u001b[0m in \u001b[0;36m__getattr__\u001b[0;34m(self, name)\u001b[0m\n\u001b[1;32m   5272\u001b[0m             \u001b[0;32mif\u001b[0m \u001b[0mself\u001b[0m\u001b[0;34m.\u001b[0m\u001b[0m_info_axis\u001b[0m\u001b[0;34m.\u001b[0m\u001b[0m_can_hold_identifiers_and_holds_name\u001b[0m\u001b[0;34m(\u001b[0m\u001b[0mname\u001b[0m\u001b[0;34m)\u001b[0m\u001b[0;34m:\u001b[0m\u001b[0;34m\u001b[0m\u001b[0;34m\u001b[0m\u001b[0m\n\u001b[1;32m   5273\u001b[0m                 \u001b[0;32mreturn\u001b[0m \u001b[0mself\u001b[0m\u001b[0;34m[\u001b[0m\u001b[0mname\u001b[0m\u001b[0;34m]\u001b[0m\u001b[0;34m\u001b[0m\u001b[0;34m\u001b[0m\u001b[0m\n\u001b[0;32m-> 5274\u001b[0;31m             \u001b[0;32mreturn\u001b[0m \u001b[0mobject\u001b[0m\u001b[0;34m.\u001b[0m\u001b[0m__getattribute__\u001b[0m\u001b[0;34m(\u001b[0m\u001b[0mself\u001b[0m\u001b[0;34m,\u001b[0m \u001b[0mname\u001b[0m\u001b[0;34m)\u001b[0m\u001b[0;34m\u001b[0m\u001b[0;34m\u001b[0m\u001b[0m\n\u001b[0m\u001b[1;32m   5275\u001b[0m \u001b[0;34m\u001b[0m\u001b[0m\n\u001b[1;32m   5276\u001b[0m     \u001b[0;32mdef\u001b[0m \u001b[0m__setattr__\u001b[0m\u001b[0;34m(\u001b[0m\u001b[0mself\u001b[0m\u001b[0;34m,\u001b[0m \u001b[0mname\u001b[0m\u001b[0;34m:\u001b[0m \u001b[0mstr\u001b[0m\u001b[0;34m,\u001b[0m \u001b[0mvalue\u001b[0m\u001b[0;34m)\u001b[0m \u001b[0;34m->\u001b[0m \u001b[0;32mNone\u001b[0m\u001b[0;34m:\u001b[0m\u001b[0;34m\u001b[0m\u001b[0;34m\u001b[0m\u001b[0m\n",
      "\u001b[0;31mAttributeError\u001b[0m: 'Series' object has no attribute 'triple'"
     ]
    }
   ],
   "source": [
    "df.iloc[11].triple"
   ]
  },
  {
   "cell_type": "code",
   "execution_count": 12,
   "id": "2e3826e5",
   "metadata": {
    "scrolled": false
   },
   "outputs": [
    {
     "data": {
      "text/plain": [
       "'Thanks in part to the declassification of Defense Intelligence documents, connecting those missing dots seems to have finally reveled what most Middle East observers have suspected all along, that the rise of the terrorist group ISIS and the likelihood of establishing a terror state a caliphate, had been predicated by both the CIA and DIA, as far back as 2012.And purposely created by the Obama Administration in part to isolate the Syrian government of President Bashar alAssad. The documents also predicted that the support given by the West, Turkey and the Persian Gulf Arab states to the Takfiri militants would eventually lead to the establishment of a Salafist Principality in Eastern Syria.According to investigative reporter Nafeez Ahmed, the leaked document reveals that in coordination with the Gulf states and Turkey, the West intentionally sponsored violent Islamist groups to destabilize Assad, despite anticipating that doing so could lead to the emergence of an Islamic State in Iraq and Syria.Obviously Obamas dismissal of ISIS being nothing more than a JV team and his apparent miscalculations in not keeping a residual force in place in Iraq, seems to be as the documents indicate, considerably more sinister than first assumed, in that not leaving a contingency force behind was viewed by most Middle Eastern experts to have been a simple yet costly a tactical error.However the documents are also shedding light on details referencing weapons operations inside Libya before the 2012 terror attack in Benghazi.And the report leaves no doubt that U.S. intelligence agencies were fully aware that weapons were being shipped from Benghazi to Syrian ports.However what isnt in dispute is that American servicemen and woman and those in Benghazi have been willfully sacrificed by a clandestine Middle Eastern policy that has seen the rise of the most brutal terrorist group within our lifetime, by an administration that seems to be more concerned in concealing the facts rather than protecting our National Security.Here is a link to the Judicial Watch press release detailing the released documents.Here are the released documents themselves.'"
      ]
     },
     "execution_count": 12,
     "metadata": {},
     "output_type": "execute_result"
    }
   ],
   "source": [
    "df.iloc[11].text"
   ]
  },
  {
   "cell_type": "code",
   "execution_count": 73,
   "id": "76e1545e",
   "metadata": {},
   "outputs": [
    {
     "name": "stdout",
     "output_type": "stream",
     "text": [
      "397\n"
     ]
    },
    {
     "name": "stderr",
     "output_type": "stream",
     "text": [
      "c:\\users\\oddgu\\programming\\text2rdf\\venv\\lib\\site-packages\\ipykernel_launcher.py:2: DeprecationWarning: `np.float` is a deprecated alias for the builtin `float`. To silence this warning, use `float` by itself. Doing this will not modify any behavior and is safe. If you specifically wanted the numpy scalar type, use `np.float64` here.\n",
      "Deprecated in NumPy 1.20; for more details and guidance: https://numpy.org/devdocs/release/1.20.0-notes.html#deprecations\n",
      "  \n"
     ]
    }
   ],
   "source": [
    "for i in range(df.shape[0]):\n",
    "    if type(df.iloc[i].text) != np.float:\n",
    "        if \"National Republican Senatorial Committee\" in df.iloc[i].text:\n",
    "            print(i)\n"
   ]
  },
  {
   "cell_type": "code",
   "execution_count": 75,
   "id": "b765c951",
   "metadata": {},
   "outputs": [
    {
     "name": "stderr",
     "output_type": "stream",
     "text": [
      "c:\\users\\oddgu\\programming\\text2rdf\\venv\\lib\\site-packages\\ipykernel_launcher.py:3: DeprecationWarning: `np.float` is a deprecated alias for the builtin `float`. To silence this warning, use `float` by itself. Doing this will not modify any behavior and is safe. If you specifically wanted the numpy scalar type, use `np.float64` here.\n",
      "Deprecated in NumPy 1.20; for more details and guidance: https://numpy.org/devdocs/release/1.20.0-notes.html#deprecations\n",
      "  This is separate from the ipykernel package so we can avoid doing imports until\n"
     ]
    }
   ],
   "source": [
    "clean = pd.DataFrame(columns=[\"id_text\",\"text\", \"source\", \"label\", \"triple\"])\n",
    "for i in range(df.shape[0]):\n",
    "    if type(df.iloc[i].text) != np.float:\n",
    "        t = df.iloc[i].values\n",
    "        clean = clean.append({\n",
    "                \"id_text\": i,\n",
    "                \"text\": t[1],\n",
    "                \"source\": t[2],\n",
    "                \"label\": t[3],\n",
    "                \"triple\": t[4]\n",
    "            }, ignore_index=True)"
   ]
  },
  {
   "cell_type": "code",
   "execution_count": 77,
   "id": "cadc5be2",
   "metadata": {},
   "outputs": [
    {
     "data": {
      "text/plain": [
       "['./fakenewsnet_triples\\\\clean_fakenewsnet_triple.csv']"
      ]
     },
     "execution_count": 77,
     "metadata": {},
     "output_type": "execute_result"
    }
   ],
   "source": [
    "paths"
   ]
  },
  {
   "cell_type": "code",
   "execution_count": 78,
   "id": "68969ab6",
   "metadata": {},
   "outputs": [],
   "source": [
    "clean.to_csv(\"./fakenewsnet_triples/fakenewsnet_triples_trimmed.csv\")"
   ]
  },
  {
   "cell_type": "code",
   "execution_count": 5,
   "id": "2b2461c8",
   "metadata": {},
   "outputs": [],
   "source": [
    "trimmed = pd.read_csv(\"./fakenewsnet_triples/fakenewsnet_triples_trimmed.csv\", index_col=0)"
   ]
  },
  {
   "cell_type": "code",
   "execution_count": 30,
   "id": "5fac27a5",
   "metadata": {},
   "outputs": [],
   "source": [
    "def clean_df(df):\n",
    "    df = df.dropna()\n",
    "    df.drop_duplicates(inplace=True)\n",
    "    df.triple = df.triple.apply(lambda x: eval(x))\n",
    "    df = df.reset_index()\n",
    "    df = df[[\"id_text\", \"label\", \"triple\"]]\n",
    "    return df"
   ]
  },
  {
   "cell_type": "code",
   "execution_count": 31,
   "id": "239c29c6",
   "metadata": {},
   "outputs": [],
   "source": [
    "def expand_df(df):\n",
    "    expanded_df = pd.DataFrame(columns=[\"text_id\", \"head\", \"relation\", \"tail\", \"label\"])\n",
    "    for text_id, label, triples in df.values:\n",
    "        for h, r, t in triples:\n",
    "            expanded_df = expanded_df.append({\n",
    "                \"text_id\": text_id, \n",
    "                \"head\": h, \n",
    "                \"relation\": r, \n",
    "                \"tail\": t, \n",
    "                \"label\": label\n",
    "            }, ignore_index=True)\n",
    "    return expanded_df"
   ]
  },
  {
   "cell_type": "code",
   "execution_count": 32,
   "id": "928be89e",
   "metadata": {},
   "outputs": [],
   "source": [
    "import re\n",
    "from tqdm import tqdm\n",
    "import time\n",
    "\n",
    "def remove_par(t):\n",
    "    return re.sub(r'.\\(.*\\)', \"\", t)\n",
    "\n",
    "def clean_df(df):\n",
    "    df = df.dropna()\n",
    "    df.drop_duplicates(inplace=True)\n",
    "    df.triple = df.triple.apply(lambda x: eval(x))\n",
    "    df = df.reset_index()\n",
    "    df = df[[\"id_text\", \"label\", \"triple\"]]\n",
    "    return df\n",
    "\n",
    "def expand_df(df):\n",
    "    expanded_df = pd.DataFrame(columns=[\"id_text\", \"head\", \"relation\", \"tail\", \"label\"])\n",
    "    for text_id, label, triples in df.values:\n",
    "        for h, r, t in triples:\n",
    "            expanded_df = expanded_df.append({\n",
    "                \"text_id\": text_id, \n",
    "                \"head\": h, \n",
    "                \"relation\": r, \n",
    "                \"tail\": t, \n",
    "                \"label\": label\n",
    "            }, ignore_index=True)\n",
    "    return expanded_df\n",
    "\n",
    "def google_triples(df):\n",
    "\n",
    "    # iterate list of list \n",
    "    for i, pair in enumerate(tqdm(df[[\"head\", \"tail\"]].values)):\n",
    "        h = google(pair[0])\n",
    "        t = google(pair[-1])\n",
    "        if not bool(h) and not bool(t):\n",
    "            return df\n",
    "        time.sleep(2.1)\n",
    "        df.at[i, 'head'] = h\n",
    "        df.at[i, 'tail'] = t\n",
    "    return df\n",
    "\n",
    "def transform(df, name):\n",
    "    df = clean_df(df)\n",
    "    df = expand_df(df)\n",
    "    df = google_triples(df)\n",
    "    df['head'] = df[\"head\"].apply(lambda x: remove_par(x))\n",
    "    df['tail'] = df[\"tail\"].apply(lambda x: remove_par(x))\n",
    "    df.to_csv(\"./fakenewsnet_triples/\" + name + \".csv\")"
   ]
  },
  {
   "cell_type": "code",
   "execution_count": 27,
   "id": "acdd6938",
   "metadata": {},
   "outputs": [
    {
     "data": {
      "text/plain": [
       "array(['Backstages auditions in Houston, Texas, include theater, film, television, commercials, and voiceover roles. New Houston auditions are posted to Backstage.com daily. You can further refine your search by age range, production type, gender, union status and more, and save your search to have new Dallas casting notices sent directly to your inb'],\n",
       "      dtype=object)"
      ]
     },
     "execution_count": 27,
     "metadata": {},
     "output_type": "execute_result"
    }
   ],
   "source": [
    "trimmed[trimmed.id_text == 251].text.values"
   ]
  },
  {
   "cell_type": "code",
   "execution_count": 35,
   "id": "c59ee3b9",
   "metadata": {},
   "outputs": [
    {
     "name": "stderr",
     "output_type": "stream",
     "text": [
      "/Users/oddgunnaraspaas/Personal/multiRelational-GraphStar/venv/lib/python3.7/site-packages/ipykernel_launcher.py:10: SettingWithCopyWarning: \n",
      "A value is trying to be set on a copy of a slice from a DataFrame\n",
      "\n",
      "See the caveats in the documentation: https://pandas.pydata.org/pandas-docs/stable/user_guide/indexing.html#returning-a-view-versus-a-copy\n",
      "  # Remove the CWD from sys.path while we load stuff.\n",
      "/Users/oddgunnaraspaas/Personal/multiRelational-GraphStar/venv/lib/python3.7/site-packages/pandas/core/generic.py:5494: SettingWithCopyWarning: \n",
      "A value is trying to be set on a copy of a slice from a DataFrame.\n",
      "Try using .loc[row_indexer,col_indexer] = value instead\n",
      "\n",
      "See the caveats in the documentation: https://pandas.pydata.org/pandas-docs/stable/user_guide/indexing.html#returning-a-view-versus-a-copy\n",
      "  self[name] = value\n",
      "100%|██████████| 1000/1000 [1:38:26<00:00,  5.91s/it]\n"
     ]
    }
   ],
   "source": [
    "transform(trimmed, \"googled\")"
   ]
  },
  {
   "cell_type": "code",
   "execution_count": 36,
   "id": "4f96860c",
   "metadata": {},
   "outputs": [],
   "source": [
    "googled = pd.read_csv(\"./fakenewsnet_triples/googled.csv\", index_col=0)"
   ]
  },
  {
   "cell_type": "code",
   "execution_count": 50,
   "id": "e111761e",
   "metadata": {},
   "outputs": [],
   "source": [
    "def add_hash(df):\n",
    "    fb_hash = []\n",
    "    for h in df['head'].values:\n",
    "        fb = common_to_fb(h)\n",
    "        if not \"/m/\" in fb:\n",
    "            fb_hash.append(h)\n",
    "        else:\n",
    "            fb_hash.append(fb)\n",
    "    df[\"fb_head\"] = fb_hash\n",
    "    fb_hash = []\n",
    "    for t in df['tail'].values:\n",
    "        fb = common_to_fb(t)\n",
    "        if not \"/m/\" in fb:\n",
    "            fb_hash.append(t)\n",
    "        else:\n",
    "            fb_hash.append(fb)\n",
    "    df[\"fb_tail\"] = fb_hash\n",
    "    return df"
   ]
  },
  {
   "cell_type": "code",
   "execution_count": 51,
   "id": "49e28492",
   "metadata": {},
   "outputs": [],
   "source": [
    "hashed = add_hash(googled)"
   ]
  },
  {
   "cell_type": "code",
   "execution_count": 52,
   "id": "69049c81",
   "metadata": {},
   "outputs": [
    {
     "data": {
      "text/html": [
       "<div>\n",
       "<style scoped>\n",
       "    .dataframe tbody tr th:only-of-type {\n",
       "        vertical-align: middle;\n",
       "    }\n",
       "\n",
       "    .dataframe tbody tr th {\n",
       "        vertical-align: top;\n",
       "    }\n",
       "\n",
       "    .dataframe thead th {\n",
       "        text-align: right;\n",
       "    }\n",
       "</style>\n",
       "<table border=\"1\" class=\"dataframe\">\n",
       "  <thead>\n",
       "    <tr style=\"text-align: right;\">\n",
       "      <th></th>\n",
       "      <th>id_text</th>\n",
       "      <th>head</th>\n",
       "      <th>relation</th>\n",
       "      <th>tail</th>\n",
       "      <th>label</th>\n",
       "      <th>text_id</th>\n",
       "      <th>fb_head</th>\n",
       "      <th>fb_tail</th>\n",
       "    </tr>\n",
       "  </thead>\n",
       "  <tbody>\n",
       "    <tr>\n",
       "      <th>0</th>\n",
       "      <td>NaN</td>\n",
       "      <td>Bill Clinton</td>\n",
       "      <td>organization/role/leaders./organization/leader...</td>\n",
       "      <td>NPR</td>\n",
       "      <td>False</td>\n",
       "      <td>0.0</td>\n",
       "      <td>/m/0157m</td>\n",
       "      <td>NPR</td>\n",
       "    </tr>\n",
       "    <tr>\n",
       "      <th>1</th>\n",
       "      <td>NaN</td>\n",
       "      <td>Bill Clinton</td>\n",
       "      <td>people/person/employment_history./business/emp...</td>\n",
       "      <td>President of the United States</td>\n",
       "      <td>False</td>\n",
       "      <td>1.0</td>\n",
       "      <td>/m/0157m</td>\n",
       "      <td>President of the United States</td>\n",
       "    </tr>\n",
       "    <tr>\n",
       "      <th>2</th>\n",
       "      <td>NaN</td>\n",
       "      <td>Marsha Blackburn</td>\n",
       "      <td>people/person/employment_history./business/emp...</td>\n",
       "      <td>Rep</td>\n",
       "      <td>False</td>\n",
       "      <td>1.0</td>\n",
       "      <td>/m/01fnkt</td>\n",
       "      <td>/m/07r8g3</td>\n",
       "    </tr>\n",
       "    <tr>\n",
       "      <th>3</th>\n",
       "      <td>NaN</td>\n",
       "      <td>Roger Bate</td>\n",
       "      <td>organization/role/leaders./organization/leader...</td>\n",
       "      <td>American Enterprise Institute</td>\n",
       "      <td>False</td>\n",
       "      <td>1.0</td>\n",
       "      <td>Roger Bate</td>\n",
       "      <td>/m/0p8q4</td>\n",
       "    </tr>\n",
       "    <tr>\n",
       "      <th>4</th>\n",
       "      <td>NaN</td>\n",
       "      <td>Hillary Clinton</td>\n",
       "      <td>people/person/employment_history./business/emp...</td>\n",
       "      <td>Candidate</td>\n",
       "      <td>False</td>\n",
       "      <td>1.0</td>\n",
       "      <td>Hillary Clinton</td>\n",
       "      <td>Candidate</td>\n",
       "    </tr>\n",
       "    <tr>\n",
       "      <th>...</th>\n",
       "      <td>...</td>\n",
       "      <td>...</td>\n",
       "      <td>...</td>\n",
       "      <td>...</td>\n",
       "      <td>...</td>\n",
       "      <td>...</td>\n",
       "      <td>...</td>\n",
       "      <td>...</td>\n",
       "    </tr>\n",
       "    <tr>\n",
       "      <th>995</th>\n",
       "      <td>NaN</td>\n",
       "      <td>William H. Seward</td>\n",
       "      <td>organization/role/leaders./organization/leader...</td>\n",
       "      <td>Republican Party</td>\n",
       "      <td>True</td>\n",
       "      <td>415.0</td>\n",
       "      <td>/m/0k_2z</td>\n",
       "      <td>Republican Party</td>\n",
       "    </tr>\n",
       "    <tr>\n",
       "      <th>996</th>\n",
       "      <td>NaN</td>\n",
       "      <td>John Tyler</td>\n",
       "      <td>people/person/employment_history./business/emp...</td>\n",
       "      <td>President of the United States</td>\n",
       "      <td>True</td>\n",
       "      <td>415.0</td>\n",
       "      <td>/m/042dk</td>\n",
       "      <td>President of the United States</td>\n",
       "    </tr>\n",
       "    <tr>\n",
       "      <th>997</th>\n",
       "      <td>NaN</td>\n",
       "      <td>Donald Trump</td>\n",
       "      <td>people/person/employment_history./business/emp...</td>\n",
       "      <td>President of the United States</td>\n",
       "      <td>True</td>\n",
       "      <td>415.0</td>\n",
       "      <td>/m/0cqt90</td>\n",
       "      <td>President of the United States</td>\n",
       "    </tr>\n",
       "    <tr>\n",
       "      <th>998</th>\n",
       "      <td>NaN</td>\n",
       "      <td>Hillary Clinton</td>\n",
       "      <td>people/person/employment_history./business/emp...</td>\n",
       "      <td>President of the United States</td>\n",
       "      <td>True</td>\n",
       "      <td>415.0</td>\n",
       "      <td>Hillary Clinton</td>\n",
       "      <td>President of the United States</td>\n",
       "    </tr>\n",
       "    <tr>\n",
       "      <th>999</th>\n",
       "      <td>NaN</td>\n",
       "      <td>Donald Trump</td>\n",
       "      <td>people/person/employment_history./business/emp...</td>\n",
       "      <td>King</td>\n",
       "      <td>True</td>\n",
       "      <td>416.0</td>\n",
       "      <td>/m/0cqt90</td>\n",
       "      <td>King</td>\n",
       "    </tr>\n",
       "  </tbody>\n",
       "</table>\n",
       "<p>1000 rows × 8 columns</p>\n",
       "</div>"
      ],
      "text/plain": [
       "     id_text               head  \\\n",
       "0        NaN       Bill Clinton   \n",
       "1        NaN       Bill Clinton   \n",
       "2        NaN   Marsha Blackburn   \n",
       "3        NaN         Roger Bate   \n",
       "4        NaN    Hillary Clinton   \n",
       "..       ...                ...   \n",
       "995      NaN  William H. Seward   \n",
       "996      NaN         John Tyler   \n",
       "997      NaN       Donald Trump   \n",
       "998      NaN    Hillary Clinton   \n",
       "999      NaN       Donald Trump   \n",
       "\n",
       "                                              relation  \\\n",
       "0    organization/role/leaders./organization/leader...   \n",
       "1    people/person/employment_history./business/emp...   \n",
       "2    people/person/employment_history./business/emp...   \n",
       "3    organization/role/leaders./organization/leader...   \n",
       "4    people/person/employment_history./business/emp...   \n",
       "..                                                 ...   \n",
       "995  organization/role/leaders./organization/leader...   \n",
       "996  people/person/employment_history./business/emp...   \n",
       "997  people/person/employment_history./business/emp...   \n",
       "998  people/person/employment_history./business/emp...   \n",
       "999  people/person/employment_history./business/emp...   \n",
       "\n",
       "                               tail  label  text_id          fb_head  \\\n",
       "0                               NPR  False      0.0         /m/0157m   \n",
       "1    President of the United States  False      1.0         /m/0157m   \n",
       "2                               Rep  False      1.0        /m/01fnkt   \n",
       "3     American Enterprise Institute  False      1.0       Roger Bate   \n",
       "4                         Candidate  False      1.0  Hillary Clinton   \n",
       "..                              ...    ...      ...              ...   \n",
       "995                Republican Party   True    415.0         /m/0k_2z   \n",
       "996  President of the United States   True    415.0         /m/042dk   \n",
       "997  President of the United States   True    415.0        /m/0cqt90   \n",
       "998  President of the United States   True    415.0  Hillary Clinton   \n",
       "999                            King   True    416.0        /m/0cqt90   \n",
       "\n",
       "                            fb_tail  \n",
       "0                               NPR  \n",
       "1    President of the United States  \n",
       "2                         /m/07r8g3  \n",
       "3                          /m/0p8q4  \n",
       "4                         Candidate  \n",
       "..                              ...  \n",
       "995                Republican Party  \n",
       "996  President of the United States  \n",
       "997  President of the United States  \n",
       "998  President of the United States  \n",
       "999                            King  \n",
       "\n",
       "[1000 rows x 8 columns]"
      ]
     },
     "execution_count": 52,
     "metadata": {},
     "output_type": "execute_result"
    }
   ],
   "source": [
    "hashed"
   ]
  },
  {
   "cell_type": "code",
   "execution_count": 54,
   "id": "0c3abfbe",
   "metadata": {},
   "outputs": [],
   "source": [
    "test_fix = pd.read_csv(\"./liar_dataset_triples/test_hashed.csv\", sep=\";\", header=0,  error_bad_lines=False)\n",
    "hashed = hashed.replace(\"Gov.\", \"governor\")\n",
    "hashed = hashed.replace(\".gov\", \"governor\")\n",
    "hashed = hashed.replace(\"Governor\", \"governor\")\n",
    "for i in range(hashed.shape[0]-1):\n",
    "    if sum(test_fix['head'] == hashed.at[i, 'head']) > 0:\n",
    "        hashed.at[i, 'fb_head'] = test_fix[test_fix['head'] == hashed.at[i, 'head']]['fb_head'].values[0]\n",
    "        \n",
    "    if sum(test_fix['tail'] == hashed.at[i, 'tail']) > 0:\n",
    "        hashed.at[i, 'fb_tail'] = test_fix[test_fix['tail'] == hashed.at[i, 'tail']]['fb_tail'].values[0]"
   ]
  },
  {
   "cell_type": "code",
   "execution_count": 56,
   "id": "19e9f1e4",
   "metadata": {},
   "outputs": [],
   "source": [
    "test_fix = pd.read_csv(\"./liar_dataset_triples/valid_hashed.csv\", sep=\";\", header=0,  error_bad_lines=False)\n",
    "\n",
    "\n",
    "for i in range(hashed.shape[0]-1):\n",
    "    if sum(test_fix['head'] == hashed.at[i, 'head']) > 0:\n",
    "        hashed.at[i, 'fb_head'] = test_fix[test_fix['head'] == hashed.at[i, 'head']]['fb_head'].values[0]\n",
    "        \n",
    "    if sum(test_fix['tail'] == hashed.at[i, 'tail']) > 0:\n",
    "        hashed.at[i, 'fb_tail'] = test_fix[test_fix['tail'] == hashed.at[i, 'tail']]['fb_tail'].values[0]"
   ]
  },
  {
   "cell_type": "code",
   "execution_count": 93,
   "id": "7e186a41",
   "metadata": {},
   "outputs": [],
   "source": [
    "def compare(base, target):\n",
    "    for i in range(base.shape[0]-1):\n",
    "        for x in [\"head\", \"tail\"]:\n",
    "            for y in [\"head\", \"tail\"]:\n",
    "                if sum(test_fix[x] == hashed.at[i, y]) > 0:\n",
    "                    hashed.at[i, f'fb_{y}'] = test_fix[test_fix[x] == hashed.at[i, y]]['fb_head'].values[0]"
   ]
  },
  {
   "cell_type": "code",
   "execution_count": 151,
   "id": "43a0ebe4",
   "metadata": {},
   "outputs": [],
   "source": [
    "LIAR_train = pd.read_csv(\"./liar_dataset_triples/train_hashed.csv\", sep=\";\", header=0,  error_bad_lines=False)\n",
    "LIAR_valid = pd.read_csv(\"./liar_dataset_triples/valid_hashed.csv\", sep=\";\", header=0,  error_bad_lines=False)\n",
    "LIAR_test = pd.read_csv(\"./liar_dataset_triples/test_hashed.csv\", sep=\";\", header=0,  error_bad_lines=False)\n",
    "\n",
    "compare(hashed, LIAR_train)\n",
    "compare(hashed, LIAR_valid)\n",
    "compare(hashed, LIAR_test)"
   ]
  },
  {
   "cell_type": "code",
   "execution_count": 144,
   "id": "fd615b40",
   "metadata": {},
   "outputs": [],
   "source": [
    "def get_query(q):\n",
    "    return '''\n",
    "    SELECT ?fbid WHERE { \n",
    "        ?s wdt:P373 \"''' + q + '''\".\n",
    "    OPTIONAL {\n",
    "        ?s wdt:P646 ?fbid .\n",
    "        }\n",
    "    SERVICE wikibase:label { bd:serviceParam wikibase:language \"en\". }\n",
    "    }\n",
    "    LIMIT 1'''\n",
    "\n",
    "def common_to_fb(common_name):\n",
    "    endpoint_url = \"https://query.wikidata.org/sparql\"\n",
    "    query = get_query(common_name)\n",
    "    res = get_results(endpoint_url, query)\n",
    "    try:\n",
    "        res = res['results']['bindings'][0]['fbid']['value']\n",
    "        return res\n",
    "    except:\n",
    "        return common_name\n",
    "    \n",
    "def fb_convert(common_name):\n",
    "    # base\n",
    "    res = common_to_fb(common_name)\n",
    "    if res.__contains__(\"/m/\"):\n",
    "        return res\n",
    "    res = common_to_fb(common_name.lower())\n",
    "    if res.__contains__(\"/m/\"):\n",
    "        return res\n",
    "    if common_name[-1] == \"s\":\n",
    "        end = \"\"\n",
    "    else:\n",
    "        end = \"s\"\n",
    "    res = common_to_fb(common_name.capitalize() + end)\n",
    "    if res.__contains__(\"/m/\"):\n",
    "        return res\n",
    "    return common_name\n",
    "\n",
    "def add_hash(df):\n",
    "    fb_hash = []\n",
    "    for h in df['head'].values:\n",
    "        fb = fb_convert(h)\n",
    "        if not \"/m/\" in fb:\n",
    "            fb_hash.append(h)\n",
    "        else:\n",
    "            fb_hash.append(fb)\n",
    "    df[\"fb_head\"] = fb_hash\n",
    "    fb_hash = []\n",
    "    for t in df['tail'].values:\n",
    "        fb = fb_convert(t)\n",
    "        if not \"/m/\" in fb:\n",
    "            fb_hash.append(t)\n",
    "        else:\n",
    "            fb_hash.append(fb)\n",
    "    df[\"fb_tail\"] = fb_hash\n",
    "    return df"
   ]
  },
  {
   "cell_type": "code",
   "execution_count": 130,
   "id": "52c525c3",
   "metadata": {},
   "outputs": [
    {
     "name": "stdout",
     "output_type": "stream",
     "text": [
      "Bank\n"
     ]
    }
   ],
   "source": [
    "for e in bad_heads:\n",
    "    res = fb_convert(e)\n",
    "    if res.__contains__(\"/m/\"):\n",
    "        print(e)\n",
    "        break"
   ]
  },
  {
   "cell_type": "code",
   "execution_count": 147,
   "id": "d5389759",
   "metadata": {},
   "outputs": [],
   "source": [
    "hashed2 = add_hash(hashed)"
   ]
  },
  {
   "cell_type": "code",
   "execution_count": 152,
   "id": "ab669e33",
   "metadata": {},
   "outputs": [],
   "source": [
    "LIAR_train = pd.read_csv(\"./liar_dataset_triples/train_hashed.csv\", sep=\";\", header=0,  error_bad_lines=False)\n",
    "LIAR_valid = pd.read_csv(\"./liar_dataset_triples/valid_hashed.csv\", sep=\";\", header=0,  error_bad_lines=False)\n",
    "LIAR_test = pd.read_csv(\"./liar_dataset_triples/test_hashed.csv\", sep=\";\", header=0,  error_bad_lines=False)\n",
    "\n",
    "compare(hashed2, LIAR_train)\n",
    "compare(hashed2, LIAR_valid)\n",
    "compare(hashed2, LIAR_test)"
   ]
  },
  {
   "cell_type": "code",
   "execution_count": 153,
   "id": "7df5985f",
   "metadata": {},
   "outputs": [],
   "source": [
    "bad_heads = np.unique([e for e in hashed2.fb_head.values if not e.startswith(\"/m/\")])\n",
    "bad_tails = np.unique([e for e in hashed2.fb_tail.values if not e.startswith(\"/m/\")])"
   ]
  },
  {
   "cell_type": "code",
   "execution_count": 154,
   "id": "2d1086a1",
   "metadata": {},
   "outputs": [
    {
     "name": "stdout",
     "output_type": "stream",
     "text": [
      "192\n",
      "170\n"
     ]
    }
   ],
   "source": [
    "print(len(bad_heads))\n",
    "print(len(bad_tails))"
   ]
  },
  {
   "cell_type": "code",
   "execution_count": 170,
   "id": "103bce9f",
   "metadata": {},
   "outputs": [],
   "source": [
    "test = hashed2[\"fb_head\"]"
   ]
  },
  {
   "cell_type": "code",
   "execution_count": 187,
   "id": "79db1b50",
   "metadata": {},
   "outputs": [],
   "source": [
    "mask = []\n",
    "for e in test:\n",
    "    if e.startswith(\"/m/\"):\n",
    "        mask.append(False)\n",
    "    else:\n",
    "        mask.append(True)"
   ]
  },
  {
   "cell_type": "code",
   "execution_count": 189,
   "id": "acdc8dab",
   "metadata": {},
   "outputs": [
    {
     "data": {
      "text/plain": [
       "3         Roger Bate\n",
       "9                HES\n",
       "18      Nafeez Ahmed\n",
       "31          Michelle\n",
       "32       Peter Allen\n",
       "           ...      \n",
       "986        Friedrich\n",
       "987        Friedrich\n",
       "988        Friedrich\n",
       "989    Simone Wendel\n",
       "993    James K. Polk\n",
       "Name: fb_head, Length: 291, dtype: object"
      ]
     },
     "execution_count": 189,
     "metadata": {},
     "output_type": "execute_result"
    }
   ],
   "source": [
    "hashed2[\"fb_head\"][mask]"
   ]
  },
  {
   "cell_type": "code",
   "execution_count": 176,
   "id": "1cbd494b",
   "metadata": {},
   "outputs": [],
   "source": [
    "t = [e for e in test.values if not e.startswith(\"/m\")]"
   ]
  },
  {
   "cell_type": "code",
   "execution_count": 179,
   "id": "e206a8c0",
   "metadata": {},
   "outputs": [],
   "source": [
    "t = [e.replace(\"+\", \" \") for e in t]"
   ]
  },
  {
   "cell_type": "code",
   "execution_count": null,
   "id": "3827e354",
   "metadata": {},
   "outputs": [],
   "source": [
    "import requests \n",
    "import urllib\n",
    "from bs4 import BeautifulSoup\n",
    "\n",
    "# desktop user-agent\n",
    "USER_AGENT = \"Mozilla/5.0 (Macintosh; Intel Mac OS X 10.14; rv:65.0) Gecko/20100101 Firefox/65.0\"\n",
    "# mobile user-agent\n",
    "MOBILE_USER_AGENT = \"Mozilla/5.0 (Linux; Android 7.0; SM-G930V Build/NRD90M) AppleWebKit/537.36 (KHTML, like Gecko) Chrome/59.0.3071.125 Mobile Safari/537.36\"\n",
    "\n",
    "def google(query):\n",
    "    query = query.replace(' ', '+')\n",
    "    URL = f\"https://google.com/search?q={query}&hl=en\"\n",
    "    \n",
    "    headers = {\"user-agent\" : USER_AGENT}\n",
    "    resp = requests.get(URL, headers=headers)\n",
    "    \n",
    "    if resp.status_code == 200:\n",
    "        soup = BeautifulSoup(resp.content, \"html.parser\")\n",
    "        for g in soup.find_all(\"div\", {\"class\": \"g\"}):\n",
    "            titles = g.find_all(\"h3\")\n",
    "            if titles:\n",
    "                text = titles[0].text\n",
    "                if \"Wikipedia\" in text:\n",
    "                    return text[:-12]\n",
    "                if \"Ballotpedia\" in text:\n",
    "                    return text[:-14]\n",
    "    if resp.status_code == 429:\n",
    "        print(\"Blocked!\")\n",
    "        return False\n",
    "    return query"
   ]
  },
  {
   "cell_type": "code",
   "execution_count": 316,
   "id": "87df3ef1",
   "metadata": {},
   "outputs": [],
   "source": [
    "import requests \n",
    "import urllib\n",
    "from bs4 import BeautifulSoup\n",
    "\n",
    "# desktop user-agent\n",
    "USER_AGENT = \"Mozilla/5.0 (Macintosh; Intel Mac OS X 10.14; rv:65.0) Gecko/20100101 Firefox/65.0\"\n",
    "# mobile user-agent\n",
    "MOBILE_USER_AGENT = \"Mozilla/5.0 (Linux; Android 7.0; SM-G930V Build/NRD90M) AppleWebKit/537.36 (KHTML, like Gecko) Chrome/59.0.3071.125 Mobile Safari/537.36\"\n",
    "\n",
    "\n",
    "def name_to_wiki(name):\n",
    "    query = name.replace(' ', '+')\n",
    "    URL = \"https://www.wikidata.org/w/index.php?search=\" + query + \"&title=Special:Search&profile=advanced&fulltext=1&ns0=1&ns120=1\"\n",
    "    headers = {\"user-agent\" : USER_AGENT}\n",
    "    resp = requests.get(URL, headers=headers)\n",
    "\n",
    "    soup = BeautifulSoup(resp.content, \"html.parser\")\n",
    "    if soup.find(\"p\", {\"class\": \"mw-search-nonefound\"}) == None:\n",
    "        identifier = soup.find_all(\"span\", {\"class\": \"wb-itemlink-id\"})[0].text.strip(\"()\")\n",
    "        URL2 = \"https://www.wikidata.org/wiki/\" + identifier\n",
    "        resp = requests.get(URL2, headers=headers)\n",
    "        soup = BeautifulSoup(resp.content, \"html.parser\")\n",
    "        has_fb = soup.find(\"div\", {\"id\": \"P646\"})\n",
    "        if has_fb != None:\n",
    "            fb_id = has_fb.find(\"a\", {\"class\": \"wb-external-id external\"}).text\n",
    "            return fb_id\n",
    "    return name"
   ]
  },
  {
   "cell_type": "code",
   "execution_count": 334,
   "id": "4d9cc56f",
   "metadata": {},
   "outputs": [
    {
     "name": "stderr",
     "output_type": "stream",
     "text": [
      "Exception ignored in: <function tqdm.__del__ at 0x7fec02345598>\n",
      "Traceback (most recent call last):\n",
      "  File \"/Users/oddgunnaraspaas/Personal/multiRelational-GraphStar/venv/lib/python3.7/site-packages/tqdm/std.py\", line 1145, in __del__\n",
      "    self.close()\n",
      "  File \"/Users/oddgunnaraspaas/Personal/multiRelational-GraphStar/venv/lib/python3.7/site-packages/tqdm/notebook.py\", line 275, in close\n",
      "    self.disp(bar_style='danger')\n",
      "AttributeError: 'tqdm_notebook' object has no attribute 'disp'\n"
     ]
    }
   ],
   "source": [
    "from tqdm import tqdm\n",
    "def add_hash_wiki(df):\n",
    "    fb_hash = []\n",
    "    for h in tqdm(df['fb_head'].values):\n",
    "        if not \"/m/\" in h:\n",
    "            fb = name_to_wiki(h)\n",
    "            if \"/m/\" in fb:\n",
    "                fb_hash.append(fb)\n",
    "            else:\n",
    "                fb_hash.append(h)\n",
    "        else:\n",
    "            fb_hash.append(h)\n",
    "\n",
    "    df[\"fb_head\"] = fb_hash\n",
    "    fb_hash = []\n",
    "    for t in tqdm(df['fb_tail'].values):\n",
    "        if not \"/m/\" in t:\n",
    "            fb = name_to_wiki(t)\n",
    "            if \"/m/\" in fb:\n",
    "                fb_hash.append(fb)\n",
    "            else:\n",
    "                fb_hash.append(t)\n",
    "        else:\n",
    "            fb_hash.append(t)\n",
    "    df[\"fb_tail\"] = fb_hash\n",
    "    return df"
   ]
  },
  {
   "cell_type": "code",
   "execution_count": 335,
   "id": "014cf81a",
   "metadata": {},
   "outputs": [
    {
     "name": "stderr",
     "output_type": "stream",
     "text": [
      "  3%|▎         | 32/1000 [00:05<02:18,  6.97it/s]Exception ignored in: <function tqdm.__del__ at 0x7fec02345598>\n",
      "Traceback (most recent call last):\n",
      "  File \"/Users/oddgunnaraspaas/Personal/multiRelational-GraphStar/venv/lib/python3.7/site-packages/tqdm/std.py\", line 1145, in __del__\n",
      "    self.close()\n",
      "  File \"/Users/oddgunnaraspaas/Personal/multiRelational-GraphStar/venv/lib/python3.7/site-packages/tqdm/notebook.py\", line 275, in close\n",
      "    self.disp(bar_style='danger')\n",
      "AttributeError: 'tqdm_notebook' object has no attribute 'disp'\n",
      "100%|██████████| 1000/1000 [06:45<00:00,  2.47it/s]\n",
      "/Users/oddgunnaraspaas/Personal/multiRelational-GraphStar/venv/lib/python3.7/site-packages/ipykernel_launcher.py:14: SettingWithCopyWarning: \n",
      "A value is trying to be set on a copy of a slice from a DataFrame.\n",
      "Try using .loc[row_indexer,col_indexer] = value instead\n",
      "\n",
      "See the caveats in the documentation: https://pandas.pydata.org/pandas-docs/stable/user_guide/indexing.html#returning-a-view-versus-a-copy\n",
      "  \n",
      "100%|██████████| 1000/1000 [06:40<00:00,  2.49it/s]\n",
      "/Users/oddgunnaraspaas/Personal/multiRelational-GraphStar/venv/lib/python3.7/site-packages/ipykernel_launcher.py:25: SettingWithCopyWarning: \n",
      "A value is trying to be set on a copy of a slice from a DataFrame.\n",
      "Try using .loc[row_indexer,col_indexer] = value instead\n",
      "\n",
      "See the caveats in the documentation: https://pandas.pydata.org/pandas-docs/stable/user_guide/indexing.html#returning-a-view-versus-a-copy\n"
     ]
    }
   ],
   "source": [
    "wiki_hash = add_hash_wiki(hashed)"
   ]
  },
  {
   "cell_type": "code",
   "execution_count": 2,
   "id": "1fb05516",
   "metadata": {},
   "outputs": [
    {
     "ename": "NameError",
     "evalue": "name 'wiki_hash' is not defined",
     "output_type": "error",
     "traceback": [
      "\u001b[1;31m---------------------------------------------------------------------------\u001b[0m",
      "\u001b[1;31mNameError\u001b[0m                                 Traceback (most recent call last)",
      "\u001b[1;32m<ipython-input-2-acd810d5fbf4>\u001b[0m in \u001b[0;36m<module>\u001b[1;34m\u001b[0m\n\u001b[1;32m----> 1\u001b[1;33m \u001b[0mwiki_hash\u001b[0m\u001b[1;33m.\u001b[0m\u001b[0mto_csv\u001b[0m\u001b[1;33m(\u001b[0m\u001b[1;34m\"./fakenewsnet_triples/wiki_hashed.csv\"\u001b[0m\u001b[1;33m)\u001b[0m\u001b[1;33m\u001b[0m\u001b[1;33m\u001b[0m\u001b[0m\n\u001b[0m",
      "\u001b[1;31mNameError\u001b[0m: name 'wiki_hash' is not defined"
     ]
    }
   ],
   "source": [
    "wiki_hash.to_csv(\"./fakenewsnet_triples/wiki_hashed.csv\")"
   ]
  },
  {
   "cell_type": "code",
   "execution_count": 5,
   "id": "e7e623cf",
   "metadata": {},
   "outputs": [],
   "source": [
    "wiki_hash = pd.read_csv(\"./fakenewsnet_triples/wiki_hashed.csv\", index_col=0)"
   ]
  },
  {
   "cell_type": "code",
   "execution_count": 10,
   "id": "4277269d",
   "metadata": {},
   "outputs": [
    {
     "name": "stdout",
     "output_type": "stream",
     "text": [
      "Collecting openpyxl\n",
      "  Downloading openpyxl-3.0.7-py2.py3-none-any.whl (243 kB)\n",
      "Collecting et-xmlfile\n",
      "  Downloading et_xmlfile-1.0.1.tar.gz (8.4 kB)\n",
      "Building wheels for collected packages: et-xmlfile\n",
      "  Building wheel for et-xmlfile (setup.py): started\n",
      "  Building wheel for et-xmlfile (setup.py): finished with status 'done'\n",
      "  Created wheel for et-xmlfile: filename=et_xmlfile-1.0.1-py3-none-any.whl size=8913 sha256=3f3ea18f54ed058d8917a0b4c6d9d46cda7c1b1d67d09ef92f6404f644703087\n",
      "  Stored in directory: c:\\users\\oddgu\\appdata\\local\\pip\\cache\\wheels\\e2\\bd\\55\\048b4fd505716c4c298f42ee02dffd9496bb6d212b266c7f31\n",
      "Successfully built et-xmlfile\n",
      "Installing collected packages: et-xmlfile, openpyxl\n",
      "Successfully installed et-xmlfile-1.0.1 openpyxl-3.0.7\n"
     ]
    }
   ],
   "source": [
    "!pip install openpyxl"
   ]
  },
  {
   "cell_type": "code",
   "execution_count": 11,
   "id": "55c3689e",
   "metadata": {},
   "outputs": [],
   "source": [
    "wiki_hash.to_excel(\"./fakenewsnet_triples/wiki_hashed.xlsx\")"
   ]
  },
  {
   "cell_type": "code",
   "execution_count": 77,
   "id": "4fef6fbc",
   "metadata": {},
   "outputs": [],
   "source": [
    "manual = pd.read_excel(\"./fakenewsnet_triples/wiki_hashed.xlsx\", index_col=0)"
   ]
  },
  {
   "cell_type": "code",
   "execution_count": 83,
   "id": "1f14b1a5",
   "metadata": {},
   "outputs": [],
   "source": [
    "manual.to_csv(\"./fakenewsnet_triples/manual_fix.csv\")"
   ]
  },
  {
   "cell_type": "code",
   "execution_count": 81,
   "id": "f753d28a",
   "metadata": {},
   "outputs": [
    {
     "data": {
      "text/html": [
       "<div>\n",
       "<style scoped>\n",
       "    .dataframe tbody tr th:only-of-type {\n",
       "        vertical-align: middle;\n",
       "    }\n",
       "\n",
       "    .dataframe tbody tr th {\n",
       "        vertical-align: top;\n",
       "    }\n",
       "\n",
       "    .dataframe thead th {\n",
       "        text-align: right;\n",
       "    }\n",
       "</style>\n",
       "<table border=\"1\" class=\"dataframe\">\n",
       "  <thead>\n",
       "    <tr style=\"text-align: right;\">\n",
       "      <th></th>\n",
       "      <th>text_id</th>\n",
       "      <th>head</th>\n",
       "      <th>relation</th>\n",
       "      <th>tail</th>\n",
       "      <th>fb_head</th>\n",
       "      <th>fb_tail</th>\n",
       "      <th>label</th>\n",
       "    </tr>\n",
       "  </thead>\n",
       "  <tbody>\n",
       "    <tr>\n",
       "      <th>0</th>\n",
       "      <td>0</td>\n",
       "      <td>Bill Clinton</td>\n",
       "      <td>organization/role/leaders./organization/leader...</td>\n",
       "      <td>NPR</td>\n",
       "      <td>/m/0157m</td>\n",
       "      <td>/m/0c0sl</td>\n",
       "      <td>False</td>\n",
       "    </tr>\n",
       "    <tr>\n",
       "      <th>1</th>\n",
       "      <td>1</td>\n",
       "      <td>Bill Clinton</td>\n",
       "      <td>people/person/employment_history./business/emp...</td>\n",
       "      <td>President of the United States</td>\n",
       "      <td>/m/0157m</td>\n",
       "      <td>/m/02mjmr</td>\n",
       "      <td>False</td>\n",
       "    </tr>\n",
       "    <tr>\n",
       "      <th>2</th>\n",
       "      <td>1</td>\n",
       "      <td>Marsha Blackburn</td>\n",
       "      <td>people/person/employment_history./business/emp...</td>\n",
       "      <td>Rep</td>\n",
       "      <td>/m/01fnkt</td>\n",
       "      <td>/m/02qkv0r</td>\n",
       "      <td>False</td>\n",
       "    </tr>\n",
       "    <tr>\n",
       "      <th>3</th>\n",
       "      <td>1</td>\n",
       "      <td>Roger Bate</td>\n",
       "      <td>organization/role/leaders./organization/leader...</td>\n",
       "      <td>American Enterprise Institute</td>\n",
       "      <td>/m/0b23zg</td>\n",
       "      <td>/m/0p8q4</td>\n",
       "      <td>False</td>\n",
       "    </tr>\n",
       "    <tr>\n",
       "      <th>4</th>\n",
       "      <td>1</td>\n",
       "      <td>Hillary Clinton</td>\n",
       "      <td>people/person/employment_history./business/emp...</td>\n",
       "      <td>Candidate</td>\n",
       "      <td>/m/0d06m5</td>\n",
       "      <td>/m/07r9r0</td>\n",
       "      <td>False</td>\n",
       "    </tr>\n",
       "    <tr>\n",
       "      <th>...</th>\n",
       "      <td>...</td>\n",
       "      <td>...</td>\n",
       "      <td>...</td>\n",
       "      <td>...</td>\n",
       "      <td>...</td>\n",
       "      <td>...</td>\n",
       "      <td>...</td>\n",
       "    </tr>\n",
       "    <tr>\n",
       "      <th>995</th>\n",
       "      <td>415</td>\n",
       "      <td>William H. Seward</td>\n",
       "      <td>organization/role/leaders./organization/leader...</td>\n",
       "      <td>Republican Party</td>\n",
       "      <td>/m/0k_2z</td>\n",
       "      <td>/m/085srz</td>\n",
       "      <td>True</td>\n",
       "    </tr>\n",
       "    <tr>\n",
       "      <th>996</th>\n",
       "      <td>415</td>\n",
       "      <td>John Tyler</td>\n",
       "      <td>people/person/employment_history./business/emp...</td>\n",
       "      <td>President of the United States</td>\n",
       "      <td>/m/042dk</td>\n",
       "      <td>/m/02mjmr</td>\n",
       "      <td>True</td>\n",
       "    </tr>\n",
       "    <tr>\n",
       "      <th>997</th>\n",
       "      <td>415</td>\n",
       "      <td>Donald Trump</td>\n",
       "      <td>people/person/employment_history./business/emp...</td>\n",
       "      <td>President of the United States</td>\n",
       "      <td>/m/0cqt90</td>\n",
       "      <td>/m/02mjmr</td>\n",
       "      <td>True</td>\n",
       "    </tr>\n",
       "    <tr>\n",
       "      <th>998</th>\n",
       "      <td>415</td>\n",
       "      <td>Hillary Clinton</td>\n",
       "      <td>people/person/employment_history./business/emp...</td>\n",
       "      <td>President of the United States</td>\n",
       "      <td>/m/0d06m5</td>\n",
       "      <td>/m/02mjmr</td>\n",
       "      <td>True</td>\n",
       "    </tr>\n",
       "    <tr>\n",
       "      <th>999</th>\n",
       "      <td>416</td>\n",
       "      <td>Donald Trump</td>\n",
       "      <td>people/person/employment_history./business/emp...</td>\n",
       "      <td>King</td>\n",
       "      <td>/m/0cqt90</td>\n",
       "      <td>/m/03w9bnr</td>\n",
       "      <td>True</td>\n",
       "    </tr>\n",
       "  </tbody>\n",
       "</table>\n",
       "<p>1000 rows × 7 columns</p>\n",
       "</div>"
      ],
      "text/plain": [
       "     text_id               head  \\\n",
       "0          0       Bill Clinton   \n",
       "1          1       Bill Clinton   \n",
       "2          1   Marsha Blackburn   \n",
       "3          1         Roger Bate   \n",
       "4          1    Hillary Clinton   \n",
       "..       ...                ...   \n",
       "995      415  William H. Seward   \n",
       "996      415         John Tyler   \n",
       "997      415       Donald Trump   \n",
       "998      415    Hillary Clinton   \n",
       "999      416       Donald Trump   \n",
       "\n",
       "                                              relation  \\\n",
       "0    organization/role/leaders./organization/leader...   \n",
       "1    people/person/employment_history./business/emp...   \n",
       "2    people/person/employment_history./business/emp...   \n",
       "3    organization/role/leaders./organization/leader...   \n",
       "4    people/person/employment_history./business/emp...   \n",
       "..                                                 ...   \n",
       "995  organization/role/leaders./organization/leader...   \n",
       "996  people/person/employment_history./business/emp...   \n",
       "997  people/person/employment_history./business/emp...   \n",
       "998  people/person/employment_history./business/emp...   \n",
       "999  people/person/employment_history./business/emp...   \n",
       "\n",
       "                               tail    fb_head     fb_tail  label  \n",
       "0                               NPR   /m/0157m    /m/0c0sl  False  \n",
       "1    President of the United States   /m/0157m   /m/02mjmr  False  \n",
       "2                               Rep  /m/01fnkt  /m/02qkv0r  False  \n",
       "3     American Enterprise Institute  /m/0b23zg    /m/0p8q4  False  \n",
       "4                         Candidate  /m/0d06m5   /m/07r9r0  False  \n",
       "..                              ...        ...         ...    ...  \n",
       "995                Republican Party   /m/0k_2z   /m/085srz   True  \n",
       "996  President of the United States   /m/042dk   /m/02mjmr   True  \n",
       "997  President of the United States  /m/0cqt90   /m/02mjmr   True  \n",
       "998  President of the United States  /m/0d06m5   /m/02mjmr   True  \n",
       "999                            King  /m/0cqt90  /m/03w9bnr   True  \n",
       "\n",
       "[1000 rows x 7 columns]"
      ]
     },
     "execution_count": 81,
     "metadata": {},
     "output_type": "execute_result"
    }
   ],
   "source": [
    "manual[manual.text_id.notna()]"
   ]
  },
  {
   "cell_type": "markdown",
   "id": "0607ddbb",
   "metadata": {},
   "source": [
    "# Fake or Real"
   ]
  },
  {
   "cell_type": "code",
   "execution_count": 97,
   "id": "1a37369e",
   "metadata": {},
   "outputs": [],
   "source": [
    "paths = glob(\"./fake-or-real/*\")"
   ]
  },
  {
   "cell_type": "code",
   "execution_count": 98,
   "id": "792cbac5",
   "metadata": {},
   "outputs": [],
   "source": [
    "pd.read_csv(paths[0])"
   ]
  },
  {
   "cell_type": "code",
   "execution_count": null,
   "id": "3d7b49a8",
   "metadata": {},
   "outputs": [],
   "source": []
  }
 ],
 "metadata": {
  "kernelspec": {
   "display_name": "plotting",
   "language": "python",
   "name": "plotenv"
  },
  "language_info": {
   "codemirror_mode": {
    "name": "ipython",
    "version": 3
   },
   "file_extension": ".py",
   "mimetype": "text/x-python",
   "name": "python",
   "nbconvert_exporter": "python",
   "pygments_lexer": "ipython3",
   "version": "3.7.3"
  }
 },
 "nbformat": 4,
 "nbformat_minor": 5
}
